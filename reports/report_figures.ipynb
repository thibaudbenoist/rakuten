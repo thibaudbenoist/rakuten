{
 "cells": [
  {
   "cell_type": "code",
   "execution_count": 7,
   "metadata": {},
   "outputs": [
    {
     "data": {
      "text/plain": [
       "<src.utils.results.ResultsManager at 0x7abf505ee070>"
      ]
     },
     "execution_count": 7,
     "metadata": {},
     "output_type": "execute_result"
    }
   ],
   "source": [
    "import sys\n",
    "configDir =  '/home/thibaud/repos/anaconda/rakuten/notebook'\n",
    "if configDir not in sys.path:\n",
    "    sys.path.append(configDir)\n",
    "\n",
    "import config\n",
    "\n",
    "\n",
    "import warnings\n",
    "warnings.filterwarnings('ignore')\n",
    "from importlib import reload\n",
    "import src.utils.results as results\n",
    "from sklearn.metrics import f1_score\n",
    "\n",
    "# print(config.path_to_data)\n",
    "reload(results)\n",
    "\n",
    "from src.utils.results import ResultsManager\n",
    "res = ResultsManager(config)\n",
    "# res.add_result_file('../results/results_benchmark_text_90.csv', 'text')\n",
    "# res.add_result_file('../results/results_benchmark_bert_90.csv', 'text')\n",
    "# res.add_result_file('../results/results_benchmark_img_90.csv', 'img')\n",
    "# res.add_result_file('../results/results_benchmark_fusion_TF_90.csv', 'fusion')\n",
    "res.add_result_file('../results/results_benchmark_sklearn.csv', 'text')\n",
    "# res.add_result_file('../results/results_benchmark_sklearn_tfidf.csv', 'text')\n",
    "res.add_result_file('../results/results_benchmark_tfidf.csv', 'text')\n",
    "# res.add_result_file('../results/results_benchmark_skipgram.csv', 'text')\n",
    "# res.add_result_file('../results/results_benchmark_cbow.csv', 'text')\n",
    "res.add_result_file('../results/results_benchmark_bert.csv', 'bert')\n",
    "res.add_result_file('../results/results_benchmark_img.csv', 'img')\n",
    "res.add_result_file('../results/results_benchmark_fusion_TF.csv', 'fusion')"
   ]
  },
  {
   "cell_type": "code",
   "execution_count": 23,
   "metadata": {},
   "outputs": [
    {
     "name": "stdout",
     "output_type": "stream",
     "text": [
      "model / fold                               f1 score\n",
      "---------------------------------------  ----------\n",
      "fusion/camembert-base-vit_b16_TF6_att12    0.89876\n",
      "text/xgboost_tfidf                         0.819312\n",
      "text/camembert-base-ccnet                  0.885786\n",
      "image/vit_b16                              0.674881\n",
      "text/flaubert_base_uncased                 0.877612\n",
      "image/ResNet152                            0.657804\n",
      "voting fold 0                              0.908802\n",
      "voting fold 1                              0.911466\n",
      "voting fold 2                              0.912814\n",
      "voting fold 3                              0.917343\n",
      "voting fold 4                              0.917856\n",
      "voting mean weighted                       0.913656\n",
      "voting mean macro                          0.905693\n"
     ]
    },
    {
     "data": {
      "text/plain": [
       "0.9136560095714408"
      ]
     },
     "execution_count": 23,
     "metadata": {},
     "output_type": "execute_result"
    }
   ],
   "source": [
    "res.voting_pred_cross_validate([\n",
    "        'fusion/camembert-base-vit_b16_TF6_att12',\n",
    "        'text/xgboost_tfidf',\n",
    "        'text/camembert-base-ccnet',\n",
    "        'image/vit_b16',\n",
    "        'text/flaubert_base_uncased',\n",
    "        'image/ResNet152' \n",
    "        ], dataset_size=1)"
   ]
  },
  {
   "cell_type": "code",
   "execution_count": 11,
   "metadata": {},
   "outputs": [
    {
     "data": {
      "text/plain": [
       "array(['text/xgboost_tfidf__90', 'text/camembert-base-ccnet__90',\n",
       "       'text/flaubert_base_uncased__90', 'image/vit_b16__90',\n",
       "       'image/ResNet152__90',\n",
       "       'fusion/camembert-base-vit_b16_TF6_att12_90',\n",
       "       'text/LogisticRegression_cbow', 'text/RandomForestClassifier_cbow',\n",
       "       'text/SVC_cbow', 'text/xgboost_cbow', 'text/SVC_skipgram',\n",
       "       'text/LogisticRegression_skipgram',\n",
       "       'text/RandomForestClassifier_skipgram', 'text/xgboost_skipgram',\n",
       "       'text/LinearSVC_tfidf', 'text/LogisticRegression_tfidf',\n",
       "       'text/MultinomialNB_tfidf', 'text/RandomForestClassifier_tfidf',\n",
       "       'text/xgboost_tfidf', 'text/SVC_tfidf',\n",
       "       'text/camembert-base-ccnet', 'text/camembert-base',\n",
       "       'text/flaubert_base_uncased', 'image/vit_b16', 'image/ResNet152',\n",
       "       'image/ResNet101', 'image/EfficientNetB1', 'image/ResNet50',\n",
       "       'fusion/camembert-base-vit_b16_TF6',\n",
       "       'fusion/camembert-base-vit_b16_TF3_att12',\n",
       "       'fusion/camembert-base-vit_b16_TF6_att12',\n",
       "       'fusion/camembert-base-vit_b16_TF1_att12'], dtype=object)"
      ]
     },
     "execution_count": 11,
     "metadata": {},
     "output_type": "execute_result"
    }
   ],
   "source": [
    "res.get_model_paths()"
   ]
  },
  {
   "cell_type": "code",
   "execution_count": 19,
   "metadata": {},
   "outputs": [
    {
     "name": "stderr",
     "output_type": "stream",
     "text": [
      "Exception ignored in: <bound method IPythonKernel._clean_thread_parent_frames of <ipykernel.ipkernel.IPythonKernel object at 0x7e5aced19b50>>\n",
      "Traceback (most recent call last):\n",
      "  File \"/home/thibaud/intel/oneapi/intelpython/envs/tensorflow/lib/python3.9/site-packages/ipykernel/ipkernel.py\", line 770, in _clean_thread_parent_frames\n",
      "    def _clean_thread_parent_frames(\n",
      "KeyboardInterrupt: \n"
     ]
    }
   ],
   "source": [
    "print (res.voting_pred_cross_validate(\n",
    "    [\n",
    "        'fusion/camembert-base-vit_b16_TF6_att12',\n",
    "        'text/xgboost_tfidf',\n",
    "        'text/camembert-base-ccnet',\n",
    "        'image/vit_b16',\n",
    "        'text/flaubert_base_uncased',\n",
    "        'image/ResNet152' \n",
    "        ],\n",
    "    n_folds=10,\n",
    "    dataset_size=0.5))\n",
    "\n"
   ]
  },
  {
   "cell_type": "code",
   "execution_count": 3,
   "metadata": {},
   "outputs": [
    {
     "name": "stdout",
     "output_type": "stream",
     "text": [
      "model / fold                                  f1 score\n",
      "------------------------------------------  ----------\n",
      "fusion/camembert-base-vit_b16_TF6_att12_90    0.901472\n",
      "text/xgboost_tfidf__90                        0.823756\n",
      "text/camembert-base-ccnet__90                 0.889624\n",
      "image/vit_b16__90                             0.683567\n",
      "text/flaubert_base_uncased__90                0.892962\n",
      "image/ResNet152__90                           0.659622\n",
      "voting fold 0                                 0.91572\n",
      "voting fold 1                                 0.920977\n",
      "voting fold 2                                 0.922666\n",
      "voting fold 3                                 0.918433\n",
      "voting fold 4                                 0.907218\n",
      "voting mean weighted                          0.917003\n",
      "voting mean macro                             0.905378\n",
      "0.9170028211924235\n"
     ]
    }
   ],
   "source": [
    "print (res.voting_pred_cross_validate(\n",
    "    [\n",
    "        'fusion/camembert-base-vit_b16_TF6_att12_90',\n",
    "        'text/xgboost_tfidf__90',\n",
    "        'text/camembert-base-ccnet__90',\n",
    "        'image/vit_b16__90',\n",
    "        'text/flaubert_base_uncased__90',\n",
    "        'image/ResNet152__90' \n",
    "        ],\n",
    "        n_folds=5,\n",
    "    dataset_size=1))"
   ]
  },
  {
   "cell_type": "markdown",
   "metadata": {},
   "source": [
    "# Plot des performances texte générales\n"
   ]
  },
  {
   "cell_type": "code",
   "execution_count": 2,
   "metadata": {},
   "outputs": [
    {
     "data": {
      "application/vnd.plotly.v1+json": {
       "config": {
        "plotlyServerURL": "https://plot.ly"
       },
       "data": [
        {
         "alignmentgroup": "True",
         "hovertemplate": "vectorizer=flaubert_base_uncased<br>score_test=%{x}<br>serie_name=%{y}<extra></extra>",
         "legendgroup": "flaubert_base_uncased",
         "marker": {
          "color": "#636EFA",
          "pattern": {
           "shape": ""
          }
         },
         "name": "flaubert_base_uncased",
         "offsetgroup": "flaubert_base_uncased",
         "orientation": "h",
         "showlegend": true,
         "textposition": "auto",
         "type": "bar",
         "width": 0.5,
         "x": [
          0.8929623248787035
         ],
         "xaxis": "x",
         "y": [
          "flaubert_base_uncased"
         ],
         "yaxis": "y"
        },
        {
         "alignmentgroup": "True",
         "hovertemplate": "vectorizer=camembert-base-ccnet<br>score_test=%{x}<br>serie_name=%{y}<extra></extra>",
         "legendgroup": "camembert-base-ccnet",
         "marker": {
          "color": "#EF553B",
          "pattern": {
           "shape": ""
          }
         },
         "name": "camembert-base-ccnet",
         "offsetgroup": "camembert-base-ccnet",
         "orientation": "h",
         "showlegend": true,
         "textposition": "auto",
         "type": "bar",
         "width": 0.5,
         "x": [
          0.8896239010516618
         ],
         "xaxis": "x",
         "y": [
          "camembert-base-ccnet"
         ],
         "yaxis": "y"
        },
        {
         "alignmentgroup": "True",
         "hovertemplate": "vectorizer=tfidf<br>score_test=%{x}<br>serie_name=%{y}<extra></extra>",
         "legendgroup": "tfidf",
         "marker": {
          "color": "#00CC96",
          "pattern": {
           "shape": ""
          }
         },
         "name": "tfidf",
         "offsetgroup": "tfidf",
         "orientation": "h",
         "showlegend": true,
         "textposition": "auto",
         "type": "bar",
         "width": 0.5,
         "x": [
          0.8239800861828738,
          0.8237559964066667,
          0.8193118067053706,
          0.812933585789469,
          0.7840203704313005,
          0.7773765725921784,
          0.771265410675905
         ],
         "xaxis": "x",
         "y": [
          "LinearSVC - tfidf",
          "xgboost - tfidf",
          "xgboost - tfidf",
          "LogisticRegression - tfidf",
          "SVC - tfidf",
          "RandomForestClassifier - tfidf",
          "MultinomialNB - tfidf"
         ],
         "yaxis": "y"
        },
        {
         "alignmentgroup": "True",
         "hovertemplate": "vectorizer=skipgram<br>score_test=%{x}<br>serie_name=%{y}<extra></extra>",
         "legendgroup": "skipgram",
         "marker": {
          "color": "#AB63FA",
          "pattern": {
           "shape": ""
          }
         },
         "name": "skipgram",
         "offsetgroup": "skipgram",
         "orientation": "h",
         "showlegend": true,
         "textposition": "auto",
         "type": "bar",
         "width": 0.5,
         "x": [
          0.8122277556665772,
          0.8013694697810105,
          0.7698540020165677,
          0.7640591569090228
         ],
         "xaxis": "x",
         "y": [
          "SVC - skipgram",
          "xgboost - skipgram",
          "LogisticRegression - skipgram",
          "RandomForestClassifier - skipgram"
         ],
         "yaxis": "y"
        },
        {
         "alignmentgroup": "True",
         "hovertemplate": "vectorizer=cbow<br>score_test=%{x}<br>serie_name=%{y}<extra></extra>",
         "legendgroup": "cbow",
         "marker": {
          "color": "#FFA15A",
          "pattern": {
           "shape": ""
          }
         },
         "name": "cbow",
         "offsetgroup": "cbow",
         "orientation": "h",
         "showlegend": true,
         "textposition": "auto",
         "type": "bar",
         "width": 0.5,
         "x": [
          0.7759367729160634,
          0.7616964698575163,
          0.7325875869554023,
          0.7282730934992188
         ],
         "xaxis": "x",
         "y": [
          "SVC - cbow",
          "xgboost - cbow",
          "RandomForestClassifier - cbow",
          "LogisticRegression - cbow"
         ],
         "yaxis": "y"
        }
       ],
       "layout": {
        "annotations": [
         {
          "font": {
           "color": "black",
           "family": "Arial",
           "size": 12
          },
          "showarrow": false,
          "text": "0.893",
          "x": 0.9429623248787036,
          "y": "flaubert_base_uncased"
         },
         {
          "font": {
           "color": "black",
           "family": "Arial",
           "size": 12
          },
          "showarrow": false,
          "text": "0.89",
          "x": 0.9396239010516618,
          "y": "camembert-base-ccnet"
         },
         {
          "font": {
           "color": "black",
           "family": "Arial",
           "size": 12
          },
          "showarrow": false,
          "text": "0.824",
          "x": 0.8739800861828738,
          "y": "LinearSVC - tfidf"
         },
         {
          "font": {
           "color": "black",
           "family": "Arial",
           "size": 12
          },
          "showarrow": false,
          "text": "0.824",
          "x": 0.8737559964066668,
          "y": "xgboost - tfidf"
         },
         {
          "font": {
           "color": "black",
           "family": "Arial",
           "size": 12
          },
          "showarrow": false,
          "text": "0.819",
          "x": 0.8693118067053707,
          "y": "xgboost - tfidf"
         },
         {
          "font": {
           "color": "black",
           "family": "Arial",
           "size": 12
          },
          "showarrow": false,
          "text": "0.813",
          "x": 0.862933585789469,
          "y": "LogisticRegression - tfidf"
         },
         {
          "font": {
           "color": "black",
           "family": "Arial",
           "size": 12
          },
          "showarrow": false,
          "text": "0.812",
          "x": 0.8622277556665773,
          "y": "SVC - skipgram"
         },
         {
          "font": {
           "color": "black",
           "family": "Arial",
           "size": 12
          },
          "showarrow": false,
          "text": "0.801",
          "x": 0.8513694697810106,
          "y": "xgboost - skipgram"
         },
         {
          "font": {
           "color": "black",
           "family": "Arial",
           "size": 12
          },
          "showarrow": false,
          "text": "0.784",
          "x": 0.8340203704313005,
          "y": "SVC - tfidf"
         },
         {
          "font": {
           "color": "black",
           "family": "Arial",
           "size": 12
          },
          "showarrow": false,
          "text": "0.777",
          "x": 0.8273765725921784,
          "y": "RandomForestClassifier - tfidf"
         },
         {
          "font": {
           "color": "black",
           "family": "Arial",
           "size": 12
          },
          "showarrow": false,
          "text": "0.776",
          "x": 0.8259367729160635,
          "y": "SVC - cbow"
         },
         {
          "font": {
           "color": "black",
           "family": "Arial",
           "size": 12
          },
          "showarrow": false,
          "text": "0.771",
          "x": 0.8212654106759051,
          "y": "MultinomialNB - tfidf"
         },
         {
          "font": {
           "color": "black",
           "family": "Arial",
           "size": 12
          },
          "showarrow": false,
          "text": "0.77",
          "x": 0.8198540020165678,
          "y": "LogisticRegression - skipgram"
         },
         {
          "font": {
           "color": "black",
           "family": "Arial",
           "size": 12
          },
          "showarrow": false,
          "text": "0.764",
          "x": 0.8140591569090229,
          "y": "RandomForestClassifier - skipgram"
         },
         {
          "font": {
           "color": "black",
           "family": "Arial",
           "size": 12
          },
          "showarrow": false,
          "text": "0.762",
          "x": 0.8116964698575163,
          "y": "xgboost - cbow"
         },
         {
          "font": {
           "color": "black",
           "family": "Arial",
           "size": 12
          },
          "showarrow": false,
          "text": "0.733",
          "x": 0.7825875869554023,
          "y": "RandomForestClassifier - cbow"
         },
         {
          "font": {
           "color": "black",
           "family": "Arial",
           "size": 12
          },
          "showarrow": false,
          "text": "0.728",
          "x": 0.7782730934992188,
          "y": "LogisticRegression - cbow"
         }
        ],
        "bargap": 0.1,
        "bargroupgap": 0.1,
        "barmode": "stack",
        "height": 400,
        "legend": {},
        "margin": {
         "t": 60
        },
        "template": {
         "data": {
          "bar": [
           {
            "error_x": {
             "color": "#2a3f5f"
            },
            "error_y": {
             "color": "#2a3f5f"
            },
            "marker": {
             "line": {
              "color": "#E5ECF6",
              "width": 0.5
             },
             "pattern": {
              "fillmode": "overlay",
              "size": 10,
              "solidity": 0.2
             }
            },
            "type": "bar"
           }
          ],
          "barpolar": [
           {
            "marker": {
             "line": {
              "color": "#E5ECF6",
              "width": 0.5
             },
             "pattern": {
              "fillmode": "overlay",
              "size": 10,
              "solidity": 0.2
             }
            },
            "type": "barpolar"
           }
          ],
          "carpet": [
           {
            "aaxis": {
             "endlinecolor": "#2a3f5f",
             "gridcolor": "white",
             "linecolor": "white",
             "minorgridcolor": "white",
             "startlinecolor": "#2a3f5f"
            },
            "baxis": {
             "endlinecolor": "#2a3f5f",
             "gridcolor": "white",
             "linecolor": "white",
             "minorgridcolor": "white",
             "startlinecolor": "#2a3f5f"
            },
            "type": "carpet"
           }
          ],
          "choropleth": [
           {
            "colorbar": {
             "outlinewidth": 0,
             "ticks": ""
            },
            "type": "choropleth"
           }
          ],
          "contour": [
           {
            "colorbar": {
             "outlinewidth": 0,
             "ticks": ""
            },
            "colorscale": [
             [
              0,
              "#0d0887"
             ],
             [
              0.1111111111111111,
              "#46039f"
             ],
             [
              0.2222222222222222,
              "#7201a8"
             ],
             [
              0.3333333333333333,
              "#9c179e"
             ],
             [
              0.4444444444444444,
              "#bd3786"
             ],
             [
              0.5555555555555556,
              "#d8576b"
             ],
             [
              0.6666666666666666,
              "#ed7953"
             ],
             [
              0.7777777777777778,
              "#fb9f3a"
             ],
             [
              0.8888888888888888,
              "#fdca26"
             ],
             [
              1,
              "#f0f921"
             ]
            ],
            "type": "contour"
           }
          ],
          "contourcarpet": [
           {
            "colorbar": {
             "outlinewidth": 0,
             "ticks": ""
            },
            "type": "contourcarpet"
           }
          ],
          "heatmap": [
           {
            "colorbar": {
             "outlinewidth": 0,
             "ticks": ""
            },
            "colorscale": [
             [
              0,
              "#0d0887"
             ],
             [
              0.1111111111111111,
              "#46039f"
             ],
             [
              0.2222222222222222,
              "#7201a8"
             ],
             [
              0.3333333333333333,
              "#9c179e"
             ],
             [
              0.4444444444444444,
              "#bd3786"
             ],
             [
              0.5555555555555556,
              "#d8576b"
             ],
             [
              0.6666666666666666,
              "#ed7953"
             ],
             [
              0.7777777777777778,
              "#fb9f3a"
             ],
             [
              0.8888888888888888,
              "#fdca26"
             ],
             [
              1,
              "#f0f921"
             ]
            ],
            "type": "heatmap"
           }
          ],
          "heatmapgl": [
           {
            "colorbar": {
             "outlinewidth": 0,
             "ticks": ""
            },
            "colorscale": [
             [
              0,
              "#0d0887"
             ],
             [
              0.1111111111111111,
              "#46039f"
             ],
             [
              0.2222222222222222,
              "#7201a8"
             ],
             [
              0.3333333333333333,
              "#9c179e"
             ],
             [
              0.4444444444444444,
              "#bd3786"
             ],
             [
              0.5555555555555556,
              "#d8576b"
             ],
             [
              0.6666666666666666,
              "#ed7953"
             ],
             [
              0.7777777777777778,
              "#fb9f3a"
             ],
             [
              0.8888888888888888,
              "#fdca26"
             ],
             [
              1,
              "#f0f921"
             ]
            ],
            "type": "heatmapgl"
           }
          ],
          "histogram": [
           {
            "marker": {
             "pattern": {
              "fillmode": "overlay",
              "size": 10,
              "solidity": 0.2
             }
            },
            "type": "histogram"
           }
          ],
          "histogram2d": [
           {
            "colorbar": {
             "outlinewidth": 0,
             "ticks": ""
            },
            "colorscale": [
             [
              0,
              "#0d0887"
             ],
             [
              0.1111111111111111,
              "#46039f"
             ],
             [
              0.2222222222222222,
              "#7201a8"
             ],
             [
              0.3333333333333333,
              "#9c179e"
             ],
             [
              0.4444444444444444,
              "#bd3786"
             ],
             [
              0.5555555555555556,
              "#d8576b"
             ],
             [
              0.6666666666666666,
              "#ed7953"
             ],
             [
              0.7777777777777778,
              "#fb9f3a"
             ],
             [
              0.8888888888888888,
              "#fdca26"
             ],
             [
              1,
              "#f0f921"
             ]
            ],
            "type": "histogram2d"
           }
          ],
          "histogram2dcontour": [
           {
            "colorbar": {
             "outlinewidth": 0,
             "ticks": ""
            },
            "colorscale": [
             [
              0,
              "#0d0887"
             ],
             [
              0.1111111111111111,
              "#46039f"
             ],
             [
              0.2222222222222222,
              "#7201a8"
             ],
             [
              0.3333333333333333,
              "#9c179e"
             ],
             [
              0.4444444444444444,
              "#bd3786"
             ],
             [
              0.5555555555555556,
              "#d8576b"
             ],
             [
              0.6666666666666666,
              "#ed7953"
             ],
             [
              0.7777777777777778,
              "#fb9f3a"
             ],
             [
              0.8888888888888888,
              "#fdca26"
             ],
             [
              1,
              "#f0f921"
             ]
            ],
            "type": "histogram2dcontour"
           }
          ],
          "mesh3d": [
           {
            "colorbar": {
             "outlinewidth": 0,
             "ticks": ""
            },
            "type": "mesh3d"
           }
          ],
          "parcoords": [
           {
            "line": {
             "colorbar": {
              "outlinewidth": 0,
              "ticks": ""
             }
            },
            "type": "parcoords"
           }
          ],
          "pie": [
           {
            "automargin": true,
            "type": "pie"
           }
          ],
          "scatter": [
           {
            "fillpattern": {
             "fillmode": "overlay",
             "size": 10,
             "solidity": 0.2
            },
            "type": "scatter"
           }
          ],
          "scatter3d": [
           {
            "line": {
             "colorbar": {
              "outlinewidth": 0,
              "ticks": ""
             }
            },
            "marker": {
             "colorbar": {
              "outlinewidth": 0,
              "ticks": ""
             }
            },
            "type": "scatter3d"
           }
          ],
          "scattercarpet": [
           {
            "marker": {
             "colorbar": {
              "outlinewidth": 0,
              "ticks": ""
             }
            },
            "type": "scattercarpet"
           }
          ],
          "scattergeo": [
           {
            "marker": {
             "colorbar": {
              "outlinewidth": 0,
              "ticks": ""
             }
            },
            "type": "scattergeo"
           }
          ],
          "scattergl": [
           {
            "marker": {
             "colorbar": {
              "outlinewidth": 0,
              "ticks": ""
             }
            },
            "type": "scattergl"
           }
          ],
          "scattermapbox": [
           {
            "marker": {
             "colorbar": {
              "outlinewidth": 0,
              "ticks": ""
             }
            },
            "type": "scattermapbox"
           }
          ],
          "scatterpolar": [
           {
            "marker": {
             "colorbar": {
              "outlinewidth": 0,
              "ticks": ""
             }
            },
            "type": "scatterpolar"
           }
          ],
          "scatterpolargl": [
           {
            "marker": {
             "colorbar": {
              "outlinewidth": 0,
              "ticks": ""
             }
            },
            "type": "scatterpolargl"
           }
          ],
          "scatterternary": [
           {
            "marker": {
             "colorbar": {
              "outlinewidth": 0,
              "ticks": ""
             }
            },
            "type": "scatterternary"
           }
          ],
          "surface": [
           {
            "colorbar": {
             "outlinewidth": 0,
             "ticks": ""
            },
            "colorscale": [
             [
              0,
              "#0d0887"
             ],
             [
              0.1111111111111111,
              "#46039f"
             ],
             [
              0.2222222222222222,
              "#7201a8"
             ],
             [
              0.3333333333333333,
              "#9c179e"
             ],
             [
              0.4444444444444444,
              "#bd3786"
             ],
             [
              0.5555555555555556,
              "#d8576b"
             ],
             [
              0.6666666666666666,
              "#ed7953"
             ],
             [
              0.7777777777777778,
              "#fb9f3a"
             ],
             [
              0.8888888888888888,
              "#fdca26"
             ],
             [
              1,
              "#f0f921"
             ]
            ],
            "type": "surface"
           }
          ],
          "table": [
           {
            "cells": {
             "fill": {
              "color": "#EBF0F8"
             },
             "line": {
              "color": "white"
             }
            },
            "header": {
             "fill": {
              "color": "#C8D4E3"
             },
             "line": {
              "color": "white"
             }
            },
            "type": "table"
           }
          ]
         },
         "layout": {
          "annotationdefaults": {
           "arrowcolor": "#2a3f5f",
           "arrowhead": 0,
           "arrowwidth": 1
          },
          "autotypenumbers": "strict",
          "coloraxis": {
           "colorbar": {
            "outlinewidth": 0,
            "ticks": ""
           }
          },
          "colorscale": {
           "diverging": [
            [
             0,
             "#8e0152"
            ],
            [
             0.1,
             "#c51b7d"
            ],
            [
             0.2,
             "#de77ae"
            ],
            [
             0.3,
             "#f1b6da"
            ],
            [
             0.4,
             "#fde0ef"
            ],
            [
             0.5,
             "#f7f7f7"
            ],
            [
             0.6,
             "#e6f5d0"
            ],
            [
             0.7,
             "#b8e186"
            ],
            [
             0.8,
             "#7fbc41"
            ],
            [
             0.9,
             "#4d9221"
            ],
            [
             1,
             "#276419"
            ]
           ],
           "sequential": [
            [
             0,
             "#0d0887"
            ],
            [
             0.1111111111111111,
             "#46039f"
            ],
            [
             0.2222222222222222,
             "#7201a8"
            ],
            [
             0.3333333333333333,
             "#9c179e"
            ],
            [
             0.4444444444444444,
             "#bd3786"
            ],
            [
             0.5555555555555556,
             "#d8576b"
            ],
            [
             0.6666666666666666,
             "#ed7953"
            ],
            [
             0.7777777777777778,
             "#fb9f3a"
            ],
            [
             0.8888888888888888,
             "#fdca26"
            ],
            [
             1,
             "#f0f921"
            ]
           ],
           "sequentialminus": [
            [
             0,
             "#0d0887"
            ],
            [
             0.1111111111111111,
             "#46039f"
            ],
            [
             0.2222222222222222,
             "#7201a8"
            ],
            [
             0.3333333333333333,
             "#9c179e"
            ],
            [
             0.4444444444444444,
             "#bd3786"
            ],
            [
             0.5555555555555556,
             "#d8576b"
            ],
            [
             0.6666666666666666,
             "#ed7953"
            ],
            [
             0.7777777777777778,
             "#fb9f3a"
            ],
            [
             0.8888888888888888,
             "#fdca26"
            ],
            [
             1,
             "#f0f921"
            ]
           ]
          },
          "colorway": [
           "#636efa",
           "#EF553B",
           "#00cc96",
           "#ab63fa",
           "#FFA15A",
           "#19d3f3",
           "#FF6692",
           "#B6E880",
           "#FF97FF",
           "#FECB52"
          ],
          "font": {
           "color": "#2a3f5f"
          },
          "geo": {
           "bgcolor": "white",
           "lakecolor": "white",
           "landcolor": "#E5ECF6",
           "showlakes": true,
           "showland": true,
           "subunitcolor": "white"
          },
          "hoverlabel": {
           "align": "left"
          },
          "hovermode": "closest",
          "mapbox": {
           "style": "light"
          },
          "paper_bgcolor": "white",
          "plot_bgcolor": "#E5ECF6",
          "polar": {
           "angularaxis": {
            "gridcolor": "white",
            "linecolor": "white",
            "ticks": ""
           },
           "bgcolor": "#E5ECF6",
           "radialaxis": {
            "gridcolor": "white",
            "linecolor": "white",
            "ticks": ""
           }
          },
          "scene": {
           "xaxis": {
            "backgroundcolor": "#E5ECF6",
            "gridcolor": "white",
            "gridwidth": 2,
            "linecolor": "white",
            "showbackground": true,
            "ticks": "",
            "zerolinecolor": "white"
           },
           "yaxis": {
            "backgroundcolor": "#E5ECF6",
            "gridcolor": "white",
            "gridwidth": 2,
            "linecolor": "white",
            "showbackground": true,
            "ticks": "",
            "zerolinecolor": "white"
           },
           "zaxis": {
            "backgroundcolor": "#E5ECF6",
            "gridcolor": "white",
            "gridwidth": 2,
            "linecolor": "white",
            "showbackground": true,
            "ticks": "",
            "zerolinecolor": "white"
           }
          },
          "shapedefaults": {
           "line": {
            "color": "#2a3f5f"
           }
          },
          "ternary": {
           "aaxis": {
            "gridcolor": "white",
            "linecolor": "white",
            "ticks": ""
           },
           "baxis": {
            "gridcolor": "white",
            "linecolor": "white",
            "ticks": ""
           },
           "bgcolor": "#E5ECF6",
           "caxis": {
            "gridcolor": "white",
            "linecolor": "white",
            "ticks": ""
           }
          },
          "title": {
           "x": 0.05
          },
          "xaxis": {
           "automargin": true,
           "gridcolor": "white",
           "linecolor": "white",
           "ticks": "",
           "title": {
            "standoff": 15
           },
           "zerolinecolor": "white",
           "zerolinewidth": 2
          },
          "yaxis": {
           "automargin": true,
           "gridcolor": "white",
           "linecolor": "white",
           "ticks": "",
           "title": {
            "standoff": 15
           },
           "zerolinecolor": "white",
           "zerolinewidth": 2
          }
         }
        },
        "title": {
         "text": "f1_score des modèles ML sur le texte"
        },
        "width": 800,
        "xaxis": {
         "anchor": "y",
         "domain": [
          0,
          1
         ],
         "title": {
          "text": "f1 score"
         }
        },
        "yaxis": {
         "anchor": "x",
         "categoryarray": [
          "LogisticRegression - cbow",
          "RandomForestClassifier - cbow",
          "xgboost - cbow",
          "RandomForestClassifier - skipgram",
          "LogisticRegression - skipgram",
          "MultinomialNB - tfidf",
          "SVC - cbow",
          "RandomForestClassifier - tfidf",
          "SVC - tfidf",
          "xgboost - skipgram",
          "SVC - skipgram",
          "LogisticRegression - tfidf",
          "xgboost - tfidf",
          "xgboost - tfidf",
          "LinearSVC - tfidf",
          "camembert-base-ccnet",
          "flaubert_base_uncased"
         ],
         "categoryorder": "array",
         "domain": [
          0,
          1
         ],
         "title": {
          "text": "model"
         }
        }
       }
      }
     },
     "metadata": {},
     "output_type": "display_data"
    },
    {
     "data": {
      "text/plain": [
       "<src.utils.results.ResultsManager at 0x7e37b85a53d0>"
      ]
     },
     "execution_count": 2,
     "metadata": {},
     "output_type": "execute_result"
    }
   ],
   "source": [
    "import src.utils.plot as uplot\n",
    "\n",
    "reload(uplot)\n",
    "res.plot_f1_scores(['text'], figsize=(800,400), title=\"f1_score des modèles ML sur le texte\")"
   ]
  },
  {
   "cell_type": "code",
   "execution_count": 4,
   "metadata": {},
   "outputs": [
    {
     "data": {
      "application/vnd.plotly.v1+json": {
       "config": {
        "plotlyServerURL": "https://plot.ly"
       },
       "data": [
        {
         "alignmentgroup": "True",
         "hovertemplate": "vectorizer=camembert-base-ccnet<br>score_test=%{x}<br>serie_name=%{y}<extra></extra>",
         "legendgroup": "camembert-base-ccnet",
         "marker": {
          "color": "#636EFA",
          "pattern": {
           "shape": ""
          }
         },
         "name": "camembert-base-ccnet",
         "offsetgroup": "camembert-base-ccnet",
         "orientation": "h",
         "showlegend": true,
         "textposition": "auto",
         "type": "bar",
         "width": 0.5,
         "x": [
          0.8857864469097614
         ],
         "xaxis": "x",
         "y": [
          "camembert-base-ccnet"
         ],
         "yaxis": "y"
        },
        {
         "alignmentgroup": "True",
         "hovertemplate": "vectorizer=camembert-base<br>score_test=%{x}<br>serie_name=%{y}<extra></extra>",
         "legendgroup": "camembert-base",
         "marker": {
          "color": "#EF553B",
          "pattern": {
           "shape": ""
          }
         },
         "name": "camembert-base",
         "offsetgroup": "camembert-base",
         "orientation": "h",
         "showlegend": true,
         "textposition": "auto",
         "type": "bar",
         "width": 0.5,
         "x": [
          0.8855658016888385
         ],
         "xaxis": "x",
         "y": [
          "camembert-base"
         ],
         "yaxis": "y"
        },
        {
         "alignmentgroup": "True",
         "hovertemplate": "vectorizer=flaubert_base_uncased<br>score_test=%{x}<br>serie_name=%{y}<extra></extra>",
         "legendgroup": "flaubert_base_uncased",
         "marker": {
          "color": "#00CC96",
          "pattern": {
           "shape": ""
          }
         },
         "name": "flaubert_base_uncased",
         "offsetgroup": "flaubert_base_uncased",
         "orientation": "h",
         "showlegend": true,
         "textposition": "auto",
         "type": "bar",
         "width": 0.5,
         "x": [
          0.8776119296690704
         ],
         "xaxis": "x",
         "y": [
          "flaubert_base_uncased"
         ],
         "yaxis": "y"
        },
        {
         "alignmentgroup": "True",
         "hovertemplate": "vectorizer=tfidf<br>score_test=%{x}<br>serie_name=%{y}<extra></extra>",
         "legendgroup": "tfidf",
         "marker": {
          "color": "#AB63FA",
          "pattern": {
           "shape": ""
          }
         },
         "name": "tfidf",
         "offsetgroup": "tfidf",
         "orientation": "h",
         "showlegend": true,
         "textposition": "auto",
         "type": "bar",
         "width": 0.5,
         "x": [
          0.8239800861828738
         ],
         "xaxis": "x",
         "y": [
          "LinearSVC - tfidf"
         ],
         "yaxis": "y"
        }
       ],
       "layout": {
        "annotations": [
         {
          "font": {
           "color": "black",
           "family": "Arial",
           "size": 12
          },
          "showarrow": false,
          "text": "0.886",
          "x": 0.9357864469097614,
          "y": "camembert-base-ccnet"
         },
         {
          "font": {
           "color": "black",
           "family": "Arial",
           "size": 12
          },
          "showarrow": false,
          "text": "0.886",
          "x": 0.9355658016888385,
          "y": "camembert-base"
         },
         {
          "font": {
           "color": "black",
           "family": "Arial",
           "size": 12
          },
          "showarrow": false,
          "text": "0.878",
          "x": 0.9276119296690705,
          "y": "flaubert_base_uncased"
         },
         {
          "font": {
           "color": "black",
           "family": "Arial",
           "size": 12
          },
          "showarrow": false,
          "text": "0.824",
          "x": 0.8739800861828738,
          "y": "LinearSVC - tfidf"
         }
        ],
        "bargap": 0.1,
        "bargroupgap": 0.1,
        "barmode": "stack",
        "height": 300,
        "legend": {},
        "margin": {
         "t": 60
        },
        "template": {
         "data": {
          "bar": [
           {
            "error_x": {
             "color": "#2a3f5f"
            },
            "error_y": {
             "color": "#2a3f5f"
            },
            "marker": {
             "line": {
              "color": "#E5ECF6",
              "width": 0.5
             },
             "pattern": {
              "fillmode": "overlay",
              "size": 10,
              "solidity": 0.2
             }
            },
            "type": "bar"
           }
          ],
          "barpolar": [
           {
            "marker": {
             "line": {
              "color": "#E5ECF6",
              "width": 0.5
             },
             "pattern": {
              "fillmode": "overlay",
              "size": 10,
              "solidity": 0.2
             }
            },
            "type": "barpolar"
           }
          ],
          "carpet": [
           {
            "aaxis": {
             "endlinecolor": "#2a3f5f",
             "gridcolor": "white",
             "linecolor": "white",
             "minorgridcolor": "white",
             "startlinecolor": "#2a3f5f"
            },
            "baxis": {
             "endlinecolor": "#2a3f5f",
             "gridcolor": "white",
             "linecolor": "white",
             "minorgridcolor": "white",
             "startlinecolor": "#2a3f5f"
            },
            "type": "carpet"
           }
          ],
          "choropleth": [
           {
            "colorbar": {
             "outlinewidth": 0,
             "ticks": ""
            },
            "type": "choropleth"
           }
          ],
          "contour": [
           {
            "colorbar": {
             "outlinewidth": 0,
             "ticks": ""
            },
            "colorscale": [
             [
              0,
              "#0d0887"
             ],
             [
              0.1111111111111111,
              "#46039f"
             ],
             [
              0.2222222222222222,
              "#7201a8"
             ],
             [
              0.3333333333333333,
              "#9c179e"
             ],
             [
              0.4444444444444444,
              "#bd3786"
             ],
             [
              0.5555555555555556,
              "#d8576b"
             ],
             [
              0.6666666666666666,
              "#ed7953"
             ],
             [
              0.7777777777777778,
              "#fb9f3a"
             ],
             [
              0.8888888888888888,
              "#fdca26"
             ],
             [
              1,
              "#f0f921"
             ]
            ],
            "type": "contour"
           }
          ],
          "contourcarpet": [
           {
            "colorbar": {
             "outlinewidth": 0,
             "ticks": ""
            },
            "type": "contourcarpet"
           }
          ],
          "heatmap": [
           {
            "colorbar": {
             "outlinewidth": 0,
             "ticks": ""
            },
            "colorscale": [
             [
              0,
              "#0d0887"
             ],
             [
              0.1111111111111111,
              "#46039f"
             ],
             [
              0.2222222222222222,
              "#7201a8"
             ],
             [
              0.3333333333333333,
              "#9c179e"
             ],
             [
              0.4444444444444444,
              "#bd3786"
             ],
             [
              0.5555555555555556,
              "#d8576b"
             ],
             [
              0.6666666666666666,
              "#ed7953"
             ],
             [
              0.7777777777777778,
              "#fb9f3a"
             ],
             [
              0.8888888888888888,
              "#fdca26"
             ],
             [
              1,
              "#f0f921"
             ]
            ],
            "type": "heatmap"
           }
          ],
          "heatmapgl": [
           {
            "colorbar": {
             "outlinewidth": 0,
             "ticks": ""
            },
            "colorscale": [
             [
              0,
              "#0d0887"
             ],
             [
              0.1111111111111111,
              "#46039f"
             ],
             [
              0.2222222222222222,
              "#7201a8"
             ],
             [
              0.3333333333333333,
              "#9c179e"
             ],
             [
              0.4444444444444444,
              "#bd3786"
             ],
             [
              0.5555555555555556,
              "#d8576b"
             ],
             [
              0.6666666666666666,
              "#ed7953"
             ],
             [
              0.7777777777777778,
              "#fb9f3a"
             ],
             [
              0.8888888888888888,
              "#fdca26"
             ],
             [
              1,
              "#f0f921"
             ]
            ],
            "type": "heatmapgl"
           }
          ],
          "histogram": [
           {
            "marker": {
             "pattern": {
              "fillmode": "overlay",
              "size": 10,
              "solidity": 0.2
             }
            },
            "type": "histogram"
           }
          ],
          "histogram2d": [
           {
            "colorbar": {
             "outlinewidth": 0,
             "ticks": ""
            },
            "colorscale": [
             [
              0,
              "#0d0887"
             ],
             [
              0.1111111111111111,
              "#46039f"
             ],
             [
              0.2222222222222222,
              "#7201a8"
             ],
             [
              0.3333333333333333,
              "#9c179e"
             ],
             [
              0.4444444444444444,
              "#bd3786"
             ],
             [
              0.5555555555555556,
              "#d8576b"
             ],
             [
              0.6666666666666666,
              "#ed7953"
             ],
             [
              0.7777777777777778,
              "#fb9f3a"
             ],
             [
              0.8888888888888888,
              "#fdca26"
             ],
             [
              1,
              "#f0f921"
             ]
            ],
            "type": "histogram2d"
           }
          ],
          "histogram2dcontour": [
           {
            "colorbar": {
             "outlinewidth": 0,
             "ticks": ""
            },
            "colorscale": [
             [
              0,
              "#0d0887"
             ],
             [
              0.1111111111111111,
              "#46039f"
             ],
             [
              0.2222222222222222,
              "#7201a8"
             ],
             [
              0.3333333333333333,
              "#9c179e"
             ],
             [
              0.4444444444444444,
              "#bd3786"
             ],
             [
              0.5555555555555556,
              "#d8576b"
             ],
             [
              0.6666666666666666,
              "#ed7953"
             ],
             [
              0.7777777777777778,
              "#fb9f3a"
             ],
             [
              0.8888888888888888,
              "#fdca26"
             ],
             [
              1,
              "#f0f921"
             ]
            ],
            "type": "histogram2dcontour"
           }
          ],
          "mesh3d": [
           {
            "colorbar": {
             "outlinewidth": 0,
             "ticks": ""
            },
            "type": "mesh3d"
           }
          ],
          "parcoords": [
           {
            "line": {
             "colorbar": {
              "outlinewidth": 0,
              "ticks": ""
             }
            },
            "type": "parcoords"
           }
          ],
          "pie": [
           {
            "automargin": true,
            "type": "pie"
           }
          ],
          "scatter": [
           {
            "fillpattern": {
             "fillmode": "overlay",
             "size": 10,
             "solidity": 0.2
            },
            "type": "scatter"
           }
          ],
          "scatter3d": [
           {
            "line": {
             "colorbar": {
              "outlinewidth": 0,
              "ticks": ""
             }
            },
            "marker": {
             "colorbar": {
              "outlinewidth": 0,
              "ticks": ""
             }
            },
            "type": "scatter3d"
           }
          ],
          "scattercarpet": [
           {
            "marker": {
             "colorbar": {
              "outlinewidth": 0,
              "ticks": ""
             }
            },
            "type": "scattercarpet"
           }
          ],
          "scattergeo": [
           {
            "marker": {
             "colorbar": {
              "outlinewidth": 0,
              "ticks": ""
             }
            },
            "type": "scattergeo"
           }
          ],
          "scattergl": [
           {
            "marker": {
             "colorbar": {
              "outlinewidth": 0,
              "ticks": ""
             }
            },
            "type": "scattergl"
           }
          ],
          "scattermapbox": [
           {
            "marker": {
             "colorbar": {
              "outlinewidth": 0,
              "ticks": ""
             }
            },
            "type": "scattermapbox"
           }
          ],
          "scatterpolar": [
           {
            "marker": {
             "colorbar": {
              "outlinewidth": 0,
              "ticks": ""
             }
            },
            "type": "scatterpolar"
           }
          ],
          "scatterpolargl": [
           {
            "marker": {
             "colorbar": {
              "outlinewidth": 0,
              "ticks": ""
             }
            },
            "type": "scatterpolargl"
           }
          ],
          "scatterternary": [
           {
            "marker": {
             "colorbar": {
              "outlinewidth": 0,
              "ticks": ""
             }
            },
            "type": "scatterternary"
           }
          ],
          "surface": [
           {
            "colorbar": {
             "outlinewidth": 0,
             "ticks": ""
            },
            "colorscale": [
             [
              0,
              "#0d0887"
             ],
             [
              0.1111111111111111,
              "#46039f"
             ],
             [
              0.2222222222222222,
              "#7201a8"
             ],
             [
              0.3333333333333333,
              "#9c179e"
             ],
             [
              0.4444444444444444,
              "#bd3786"
             ],
             [
              0.5555555555555556,
              "#d8576b"
             ],
             [
              0.6666666666666666,
              "#ed7953"
             ],
             [
              0.7777777777777778,
              "#fb9f3a"
             ],
             [
              0.8888888888888888,
              "#fdca26"
             ],
             [
              1,
              "#f0f921"
             ]
            ],
            "type": "surface"
           }
          ],
          "table": [
           {
            "cells": {
             "fill": {
              "color": "#EBF0F8"
             },
             "line": {
              "color": "white"
             }
            },
            "header": {
             "fill": {
              "color": "#C8D4E3"
             },
             "line": {
              "color": "white"
             }
            },
            "type": "table"
           }
          ]
         },
         "layout": {
          "annotationdefaults": {
           "arrowcolor": "#2a3f5f",
           "arrowhead": 0,
           "arrowwidth": 1
          },
          "autotypenumbers": "strict",
          "coloraxis": {
           "colorbar": {
            "outlinewidth": 0,
            "ticks": ""
           }
          },
          "colorscale": {
           "diverging": [
            [
             0,
             "#8e0152"
            ],
            [
             0.1,
             "#c51b7d"
            ],
            [
             0.2,
             "#de77ae"
            ],
            [
             0.3,
             "#f1b6da"
            ],
            [
             0.4,
             "#fde0ef"
            ],
            [
             0.5,
             "#f7f7f7"
            ],
            [
             0.6,
             "#e6f5d0"
            ],
            [
             0.7,
             "#b8e186"
            ],
            [
             0.8,
             "#7fbc41"
            ],
            [
             0.9,
             "#4d9221"
            ],
            [
             1,
             "#276419"
            ]
           ],
           "sequential": [
            [
             0,
             "#0d0887"
            ],
            [
             0.1111111111111111,
             "#46039f"
            ],
            [
             0.2222222222222222,
             "#7201a8"
            ],
            [
             0.3333333333333333,
             "#9c179e"
            ],
            [
             0.4444444444444444,
             "#bd3786"
            ],
            [
             0.5555555555555556,
             "#d8576b"
            ],
            [
             0.6666666666666666,
             "#ed7953"
            ],
            [
             0.7777777777777778,
             "#fb9f3a"
            ],
            [
             0.8888888888888888,
             "#fdca26"
            ],
            [
             1,
             "#f0f921"
            ]
           ],
           "sequentialminus": [
            [
             0,
             "#0d0887"
            ],
            [
             0.1111111111111111,
             "#46039f"
            ],
            [
             0.2222222222222222,
             "#7201a8"
            ],
            [
             0.3333333333333333,
             "#9c179e"
            ],
            [
             0.4444444444444444,
             "#bd3786"
            ],
            [
             0.5555555555555556,
             "#d8576b"
            ],
            [
             0.6666666666666666,
             "#ed7953"
            ],
            [
             0.7777777777777778,
             "#fb9f3a"
            ],
            [
             0.8888888888888888,
             "#fdca26"
            ],
            [
             1,
             "#f0f921"
            ]
           ]
          },
          "colorway": [
           "#636efa",
           "#EF553B",
           "#00cc96",
           "#ab63fa",
           "#FFA15A",
           "#19d3f3",
           "#FF6692",
           "#B6E880",
           "#FF97FF",
           "#FECB52"
          ],
          "font": {
           "color": "#2a3f5f"
          },
          "geo": {
           "bgcolor": "white",
           "lakecolor": "white",
           "landcolor": "#E5ECF6",
           "showlakes": true,
           "showland": true,
           "subunitcolor": "white"
          },
          "hoverlabel": {
           "align": "left"
          },
          "hovermode": "closest",
          "mapbox": {
           "style": "light"
          },
          "paper_bgcolor": "white",
          "plot_bgcolor": "#E5ECF6",
          "polar": {
           "angularaxis": {
            "gridcolor": "white",
            "linecolor": "white",
            "ticks": ""
           },
           "bgcolor": "#E5ECF6",
           "radialaxis": {
            "gridcolor": "white",
            "linecolor": "white",
            "ticks": ""
           }
          },
          "scene": {
           "xaxis": {
            "backgroundcolor": "#E5ECF6",
            "gridcolor": "white",
            "gridwidth": 2,
            "linecolor": "white",
            "showbackground": true,
            "ticks": "",
            "zerolinecolor": "white"
           },
           "yaxis": {
            "backgroundcolor": "#E5ECF6",
            "gridcolor": "white",
            "gridwidth": 2,
            "linecolor": "white",
            "showbackground": true,
            "ticks": "",
            "zerolinecolor": "white"
           },
           "zaxis": {
            "backgroundcolor": "#E5ECF6",
            "gridcolor": "white",
            "gridwidth": 2,
            "linecolor": "white",
            "showbackground": true,
            "ticks": "",
            "zerolinecolor": "white"
           }
          },
          "shapedefaults": {
           "line": {
            "color": "#2a3f5f"
           }
          },
          "ternary": {
           "aaxis": {
            "gridcolor": "white",
            "linecolor": "white",
            "ticks": ""
           },
           "baxis": {
            "gridcolor": "white",
            "linecolor": "white",
            "ticks": ""
           },
           "bgcolor": "#E5ECF6",
           "caxis": {
            "gridcolor": "white",
            "linecolor": "white",
            "ticks": ""
           }
          },
          "title": {
           "x": 0.05
          },
          "xaxis": {
           "automargin": true,
           "gridcolor": "white",
           "linecolor": "white",
           "ticks": "",
           "title": {
            "standoff": 15
           },
           "zerolinecolor": "white",
           "zerolinewidth": 2
          },
          "yaxis": {
           "automargin": true,
           "gridcolor": "white",
           "linecolor": "white",
           "ticks": "",
           "title": {
            "standoff": 15
           },
           "zerolinecolor": "white",
           "zerolinewidth": 2
          }
         }
        },
        "title": {
         "text": "f1 scores des modèles BERT par rapport au meilleur modèle ML"
        },
        "width": 800,
        "xaxis": {
         "anchor": "y",
         "domain": [
          0,
          1
         ],
         "title": {
          "text": "f1 score"
         }
        },
        "yaxis": {
         "anchor": "x",
         "categoryarray": [
          "LinearSVC - tfidf",
          "flaubert_base_uncased",
          "camembert-base",
          "camembert-base-ccnet"
         ],
         "categoryorder": "array",
         "domain": [
          0,
          1
         ],
         "title": {
          "text": "model"
         }
        }
       }
      }
     },
     "metadata": {},
     "output_type": "display_data"
    },
    {
     "data": {
      "text/plain": [
       "<src.utils.results.ResultsManager at 0x7e11901c53a0>"
      ]
     },
     "execution_count": 4,
     "metadata": {},
     "output_type": "execute_result"
    }
   ],
   "source": [
    "reload(uplot)\n",
    "reload(results)\n",
    "res.plot_f1_scores(filter_model=['text/LinearSVC_tfidf', 'text/camembert-base', 'text/camembert-base-ccnet', 'text/flaubert_base_uncased'], figsize=(800,300), title=\"f1 scores des modèles BERT par rapport au meilleur modèle ML\")"
   ]
  },
  {
   "cell_type": "code",
   "execution_count": 7,
   "metadata": {},
   "outputs": [
    {
     "data": {
      "application/vnd.plotly.v1+json": {
       "config": {
        "plotlyServerURL": "https://plot.ly"
       },
       "data": [
        {
         "alignmentgroup": "True",
         "hovertemplate": "model=camembert-base-ccnet<br>category=%{x}<br>score_test=%{y}<extra></extra>",
         "legendgroup": "camembert-base-ccnet",
         "marker": {
          "color": "#636efa",
          "pattern": {
           "shape": ""
          }
         },
         "name": "camembert-base-ccnet",
         "offsetgroup": "camembert-base-ccnet",
         "orientation": "v",
         "showlegend": true,
         "textposition": "auto",
         "type": "bar",
         "width": 0.2,
         "x": [
          "Jeux vidéo pour PC",
          "Jeux techniques",
          "Piscines et accessoires",
          "Vêtements enfant",
          "Fournitures de bureau",
          "Cartes de jeux",
          "Confiseries",
          "Linge de maison",
          "Magazines occasion",
          "Consoles de jeu",
          "Accessoires gaming",
          "Mobilier",
          "Animalerie",
          "Puériculture",
          "Maison Décoration",
          "Livres BD magazines",
          "Jeux vidéo occasion",
          "Outillages de jardin",
          "Figurines et objet pop culture",
          "Pêche",
          "Mobilier de jardin",
          "Jouets enfants",
          "Livres neufs",
          "Jeux vidéo CDs équipement",
          "Jeux de société enfants",
          "Livres occasion",
          "Figurines et jeux de rôle"
         ],
         "xaxis": "x",
         "y": [
          0.9942196531791908,
          0.9822660098522168,
          0.9778319123020707,
          0.9717868338557994,
          0.9481037924151695,
          0.9455445544554456,
          0.9382716049382717,
          0.9301775147928995,
          0.9166666666666667,
          0.9130434782608695,
          0.896551724137931,
          0.8929273084479372,
          0.8895705521472393,
          0.8892405063291139,
          0.873900293255132,
          0.8491854965843405,
          0.8484848484848485,
          0.8483091787439614,
          0.8447319778188539,
          0.8409321175278622,
          0.8362156663275687,
          0.815625,
          0.8054298642533937,
          0.801564027370479,
          0.732919254658385,
          0.6857142857142857,
          0.6711864406779661
         ],
         "yaxis": "y"
        },
        {
         "alignmentgroup": "True",
         "hovertemplate": "model=flaubert_base_uncased<br>category=%{x}<br>score_test=%{y}<extra></extra>",
         "legendgroup": "flaubert_base_uncased",
         "marker": {
          "color": "#EF553B",
          "pattern": {
           "shape": ""
          }
         },
         "name": "flaubert_base_uncased",
         "offsetgroup": "flaubert_base_uncased",
         "orientation": "v",
         "showlegend": true,
         "textposition": "auto",
         "type": "bar",
         "width": 0.2,
         "x": [
          "Jeux vidéo pour PC",
          "Jeux techniques",
          "Vêtements enfant",
          "Piscines et accessoires",
          "Confiseries",
          "Cartes de jeux",
          "Fournitures de bureau",
          "Linge de maison",
          "Consoles de jeu",
          "Magazines occasion",
          "Animalerie",
          "Mobilier",
          "Accessoires gaming",
          "Maison Décoration",
          "Puériculture",
          "Livres BD magazines",
          "Figurines et objet pop culture",
          "Jeux vidéo occasion",
          "Outillages de jardin",
          "Pêche",
          "Jeux vidéo CDs équipement",
          "Mobilier de jardin",
          "Jouets enfants",
          "Livres neufs",
          "Figurines et jeux de rôle",
          "Jeux de société enfants",
          "Livres occasion"
         ],
         "xaxis": "x",
         "y": [
          0.9942196531791908,
          0.9846153846153847,
          0.9777777777777777,
          0.9733785091965149,
          0.9597523219814242,
          0.9514443761524278,
          0.9480968858131488,
          0.9277038750722961,
          0.918429003021148,
          0.9103024090210148,
          0.9,
          0.8753768844221105,
          0.8610729023383769,
          0.8605697151424289,
          0.8602654176424668,
          0.8585106382978724,
          0.8396946564885497,
          0.8342440801457196,
          0.8334975369458127,
          0.8174603174603176,
          0.8151848151848152,
          0.8116504854368932,
          0.7971876690102758,
          0.7884615384615384,
          0.7194719471947195,
          0.713064713064713,
          0.6490503715937243
         ],
         "yaxis": "y"
        },
        {
         "alignmentgroup": "True",
         "hovertemplate": "model=camembert-base<br>category=%{x}<br>score_test=%{y}<extra></extra>",
         "legendgroup": "camembert-base",
         "marker": {
          "color": "#00cc96",
          "pattern": {
           "shape": ""
          }
         },
         "name": "camembert-base",
         "offsetgroup": "camembert-base",
         "orientation": "v",
         "showlegend": true,
         "textposition": "auto",
         "type": "bar",
         "width": 0.2,
         "x": [
          "Jeux vidéo pour PC",
          "Jeux techniques",
          "Piscines et accessoires",
          "Vêtements enfant",
          "Cartes de jeux",
          "Fournitures de bureau",
          "Confiseries",
          "Linge de maison",
          "Magazines occasion",
          "Consoles de jeu",
          "Animalerie",
          "Mobilier",
          "Accessoires gaming",
          "Puériculture",
          "Maison Décoration",
          "Livres BD magazines",
          "Outillages de jardin",
          "Jeux vidéo occasion",
          "Figurines et objet pop culture",
          "Pêche",
          "Mobilier de jardin",
          "Jouets enfants",
          "Jeux vidéo CDs équipement",
          "Livres neufs",
          "Figurines et jeux de rôle",
          "Jeux de société enfants",
          "Livres occasion"
         ],
         "xaxis": "x",
         "y": [
          0.9884393063583815,
          0.9861386138613861,
          0.9769361495508618,
          0.9659442724458205,
          0.9567398119122257,
          0.949604743083004,
          0.9386503067484663,
          0.9344167150319209,
          0.917731221257026,
          0.9107692307692308,
          0.9003021148036254,
          0.8998988877654196,
          0.8923959827833573,
          0.871042471042471,
          0.8667628667628667,
          0.8574479444741057,
          0.8515625,
          0.8411552346570396,
          0.8400735294117646,
          0.8310880829015544,
          0.8243512974051895,
          0.8089171974522292,
          0.8031809145129225,
          0.7974683544303797,
          0.7553956834532373,
          0.73,
          0.6816
         ],
         "yaxis": "y"
        },
        {
         "alignmentgroup": "True",
         "hovertemplate": "model=LinearSVC - tfidf<br>category=%{x}<br>score_test=%{y}<extra></extra>",
         "legendgroup": "LinearSVC - tfidf",
         "marker": {
          "color": "#ab63fa",
          "pattern": {
           "shape": ""
          }
         },
         "name": "LinearSVC - tfidf",
         "offsetgroup": "LinearSVC - tfidf",
         "orientation": "v",
         "showlegend": true,
         "textposition": "auto",
         "type": "bar",
         "width": 0.2,
         "x": [
          "Piscines et accessoires",
          "Vêtements enfant",
          "Jeux vidéo pour PC",
          "Fournitures de bureau",
          "Cartes de jeux",
          "Jeux techniques",
          "Confiseries",
          "Linge de maison",
          "Animalerie",
          "Consoles de jeu",
          "Puériculture",
          "Mobilier",
          "Outillages de jardin",
          "Pêche",
          "Maison Décoration",
          "Accessoires gaming",
          "Jeux vidéo occasion",
          "Figurines et objet pop culture",
          "Magazines occasion",
          "Livres BD magazines",
          "Mobilier de jardin",
          "Livres neufs",
          "Jeux vidéo CDs équipement",
          "Jouets enfants",
          "Figurines et jeux de rôle",
          "Jeux de société enfants",
          "Livres occasion"
         ],
         "xaxis": "x",
         "y": [
          0.9705171580473659,
          0.9657320872274143,
          0.962536023054755,
          0.9414101290963257,
          0.932757557063541,
          0.9113092444861567,
          0.9107142857142857,
          0.905875641756988,
          0.8867924528301887,
          0.8673139158576052,
          0.8347964884277733,
          0.830317848410758,
          0.828774062816616,
          0.8216106014271152,
          0.8180914512922466,
          0.8167388167388168,
          0.7978910369068541,
          0.7850467289719626,
          0.7757694186614559,
          0.7609962904080552,
          0.7352342158859471,
          0.6984417965169569,
          0.6909469302809573,
          0.6863270777479893,
          0.6640926640926641,
          0.6197564276048715,
          0.5246166263115416
         ],
         "yaxis": "y"
        }
       ],
       "layout": {
        "barmode": "group",
        "height": 600,
        "legend": {},
        "margin": {
         "t": 60
        },
        "template": {
         "data": {
          "bar": [
           {
            "error_x": {
             "color": "#2a3f5f"
            },
            "error_y": {
             "color": "#2a3f5f"
            },
            "marker": {
             "line": {
              "color": "#E5ECF6",
              "width": 0.5
             },
             "pattern": {
              "fillmode": "overlay",
              "size": 10,
              "solidity": 0.2
             }
            },
            "type": "bar"
           }
          ],
          "barpolar": [
           {
            "marker": {
             "line": {
              "color": "#E5ECF6",
              "width": 0.5
             },
             "pattern": {
              "fillmode": "overlay",
              "size": 10,
              "solidity": 0.2
             }
            },
            "type": "barpolar"
           }
          ],
          "carpet": [
           {
            "aaxis": {
             "endlinecolor": "#2a3f5f",
             "gridcolor": "white",
             "linecolor": "white",
             "minorgridcolor": "white",
             "startlinecolor": "#2a3f5f"
            },
            "baxis": {
             "endlinecolor": "#2a3f5f",
             "gridcolor": "white",
             "linecolor": "white",
             "minorgridcolor": "white",
             "startlinecolor": "#2a3f5f"
            },
            "type": "carpet"
           }
          ],
          "choropleth": [
           {
            "colorbar": {
             "outlinewidth": 0,
             "ticks": ""
            },
            "type": "choropleth"
           }
          ],
          "contour": [
           {
            "colorbar": {
             "outlinewidth": 0,
             "ticks": ""
            },
            "colorscale": [
             [
              0,
              "#0d0887"
             ],
             [
              0.1111111111111111,
              "#46039f"
             ],
             [
              0.2222222222222222,
              "#7201a8"
             ],
             [
              0.3333333333333333,
              "#9c179e"
             ],
             [
              0.4444444444444444,
              "#bd3786"
             ],
             [
              0.5555555555555556,
              "#d8576b"
             ],
             [
              0.6666666666666666,
              "#ed7953"
             ],
             [
              0.7777777777777778,
              "#fb9f3a"
             ],
             [
              0.8888888888888888,
              "#fdca26"
             ],
             [
              1,
              "#f0f921"
             ]
            ],
            "type": "contour"
           }
          ],
          "contourcarpet": [
           {
            "colorbar": {
             "outlinewidth": 0,
             "ticks": ""
            },
            "type": "contourcarpet"
           }
          ],
          "heatmap": [
           {
            "colorbar": {
             "outlinewidth": 0,
             "ticks": ""
            },
            "colorscale": [
             [
              0,
              "#0d0887"
             ],
             [
              0.1111111111111111,
              "#46039f"
             ],
             [
              0.2222222222222222,
              "#7201a8"
             ],
             [
              0.3333333333333333,
              "#9c179e"
             ],
             [
              0.4444444444444444,
              "#bd3786"
             ],
             [
              0.5555555555555556,
              "#d8576b"
             ],
             [
              0.6666666666666666,
              "#ed7953"
             ],
             [
              0.7777777777777778,
              "#fb9f3a"
             ],
             [
              0.8888888888888888,
              "#fdca26"
             ],
             [
              1,
              "#f0f921"
             ]
            ],
            "type": "heatmap"
           }
          ],
          "heatmapgl": [
           {
            "colorbar": {
             "outlinewidth": 0,
             "ticks": ""
            },
            "colorscale": [
             [
              0,
              "#0d0887"
             ],
             [
              0.1111111111111111,
              "#46039f"
             ],
             [
              0.2222222222222222,
              "#7201a8"
             ],
             [
              0.3333333333333333,
              "#9c179e"
             ],
             [
              0.4444444444444444,
              "#bd3786"
             ],
             [
              0.5555555555555556,
              "#d8576b"
             ],
             [
              0.6666666666666666,
              "#ed7953"
             ],
             [
              0.7777777777777778,
              "#fb9f3a"
             ],
             [
              0.8888888888888888,
              "#fdca26"
             ],
             [
              1,
              "#f0f921"
             ]
            ],
            "type": "heatmapgl"
           }
          ],
          "histogram": [
           {
            "marker": {
             "pattern": {
              "fillmode": "overlay",
              "size": 10,
              "solidity": 0.2
             }
            },
            "type": "histogram"
           }
          ],
          "histogram2d": [
           {
            "colorbar": {
             "outlinewidth": 0,
             "ticks": ""
            },
            "colorscale": [
             [
              0,
              "#0d0887"
             ],
             [
              0.1111111111111111,
              "#46039f"
             ],
             [
              0.2222222222222222,
              "#7201a8"
             ],
             [
              0.3333333333333333,
              "#9c179e"
             ],
             [
              0.4444444444444444,
              "#bd3786"
             ],
             [
              0.5555555555555556,
              "#d8576b"
             ],
             [
              0.6666666666666666,
              "#ed7953"
             ],
             [
              0.7777777777777778,
              "#fb9f3a"
             ],
             [
              0.8888888888888888,
              "#fdca26"
             ],
             [
              1,
              "#f0f921"
             ]
            ],
            "type": "histogram2d"
           }
          ],
          "histogram2dcontour": [
           {
            "colorbar": {
             "outlinewidth": 0,
             "ticks": ""
            },
            "colorscale": [
             [
              0,
              "#0d0887"
             ],
             [
              0.1111111111111111,
              "#46039f"
             ],
             [
              0.2222222222222222,
              "#7201a8"
             ],
             [
              0.3333333333333333,
              "#9c179e"
             ],
             [
              0.4444444444444444,
              "#bd3786"
             ],
             [
              0.5555555555555556,
              "#d8576b"
             ],
             [
              0.6666666666666666,
              "#ed7953"
             ],
             [
              0.7777777777777778,
              "#fb9f3a"
             ],
             [
              0.8888888888888888,
              "#fdca26"
             ],
             [
              1,
              "#f0f921"
             ]
            ],
            "type": "histogram2dcontour"
           }
          ],
          "mesh3d": [
           {
            "colorbar": {
             "outlinewidth": 0,
             "ticks": ""
            },
            "type": "mesh3d"
           }
          ],
          "parcoords": [
           {
            "line": {
             "colorbar": {
              "outlinewidth": 0,
              "ticks": ""
             }
            },
            "type": "parcoords"
           }
          ],
          "pie": [
           {
            "automargin": true,
            "type": "pie"
           }
          ],
          "scatter": [
           {
            "fillpattern": {
             "fillmode": "overlay",
             "size": 10,
             "solidity": 0.2
            },
            "type": "scatter"
           }
          ],
          "scatter3d": [
           {
            "line": {
             "colorbar": {
              "outlinewidth": 0,
              "ticks": ""
             }
            },
            "marker": {
             "colorbar": {
              "outlinewidth": 0,
              "ticks": ""
             }
            },
            "type": "scatter3d"
           }
          ],
          "scattercarpet": [
           {
            "marker": {
             "colorbar": {
              "outlinewidth": 0,
              "ticks": ""
             }
            },
            "type": "scattercarpet"
           }
          ],
          "scattergeo": [
           {
            "marker": {
             "colorbar": {
              "outlinewidth": 0,
              "ticks": ""
             }
            },
            "type": "scattergeo"
           }
          ],
          "scattergl": [
           {
            "marker": {
             "colorbar": {
              "outlinewidth": 0,
              "ticks": ""
             }
            },
            "type": "scattergl"
           }
          ],
          "scattermapbox": [
           {
            "marker": {
             "colorbar": {
              "outlinewidth": 0,
              "ticks": ""
             }
            },
            "type": "scattermapbox"
           }
          ],
          "scatterpolar": [
           {
            "marker": {
             "colorbar": {
              "outlinewidth": 0,
              "ticks": ""
             }
            },
            "type": "scatterpolar"
           }
          ],
          "scatterpolargl": [
           {
            "marker": {
             "colorbar": {
              "outlinewidth": 0,
              "ticks": ""
             }
            },
            "type": "scatterpolargl"
           }
          ],
          "scatterternary": [
           {
            "marker": {
             "colorbar": {
              "outlinewidth": 0,
              "ticks": ""
             }
            },
            "type": "scatterternary"
           }
          ],
          "surface": [
           {
            "colorbar": {
             "outlinewidth": 0,
             "ticks": ""
            },
            "colorscale": [
             [
              0,
              "#0d0887"
             ],
             [
              0.1111111111111111,
              "#46039f"
             ],
             [
              0.2222222222222222,
              "#7201a8"
             ],
             [
              0.3333333333333333,
              "#9c179e"
             ],
             [
              0.4444444444444444,
              "#bd3786"
             ],
             [
              0.5555555555555556,
              "#d8576b"
             ],
             [
              0.6666666666666666,
              "#ed7953"
             ],
             [
              0.7777777777777778,
              "#fb9f3a"
             ],
             [
              0.8888888888888888,
              "#fdca26"
             ],
             [
              1,
              "#f0f921"
             ]
            ],
            "type": "surface"
           }
          ],
          "table": [
           {
            "cells": {
             "fill": {
              "color": "#EBF0F8"
             },
             "line": {
              "color": "white"
             }
            },
            "header": {
             "fill": {
              "color": "#C8D4E3"
             },
             "line": {
              "color": "white"
             }
            },
            "type": "table"
           }
          ]
         },
         "layout": {
          "annotationdefaults": {
           "arrowcolor": "#2a3f5f",
           "arrowhead": 0,
           "arrowwidth": 1
          },
          "autotypenumbers": "strict",
          "coloraxis": {
           "colorbar": {
            "outlinewidth": 0,
            "ticks": ""
           }
          },
          "colorscale": {
           "diverging": [
            [
             0,
             "#8e0152"
            ],
            [
             0.1,
             "#c51b7d"
            ],
            [
             0.2,
             "#de77ae"
            ],
            [
             0.3,
             "#f1b6da"
            ],
            [
             0.4,
             "#fde0ef"
            ],
            [
             0.5,
             "#f7f7f7"
            ],
            [
             0.6,
             "#e6f5d0"
            ],
            [
             0.7,
             "#b8e186"
            ],
            [
             0.8,
             "#7fbc41"
            ],
            [
             0.9,
             "#4d9221"
            ],
            [
             1,
             "#276419"
            ]
           ],
           "sequential": [
            [
             0,
             "#0d0887"
            ],
            [
             0.1111111111111111,
             "#46039f"
            ],
            [
             0.2222222222222222,
             "#7201a8"
            ],
            [
             0.3333333333333333,
             "#9c179e"
            ],
            [
             0.4444444444444444,
             "#bd3786"
            ],
            [
             0.5555555555555556,
             "#d8576b"
            ],
            [
             0.6666666666666666,
             "#ed7953"
            ],
            [
             0.7777777777777778,
             "#fb9f3a"
            ],
            [
             0.8888888888888888,
             "#fdca26"
            ],
            [
             1,
             "#f0f921"
            ]
           ],
           "sequentialminus": [
            [
             0,
             "#0d0887"
            ],
            [
             0.1111111111111111,
             "#46039f"
            ],
            [
             0.2222222222222222,
             "#7201a8"
            ],
            [
             0.3333333333333333,
             "#9c179e"
            ],
            [
             0.4444444444444444,
             "#bd3786"
            ],
            [
             0.5555555555555556,
             "#d8576b"
            ],
            [
             0.6666666666666666,
             "#ed7953"
            ],
            [
             0.7777777777777778,
             "#fb9f3a"
            ],
            [
             0.8888888888888888,
             "#fdca26"
            ],
            [
             1,
             "#f0f921"
            ]
           ]
          },
          "colorway": [
           "#636efa",
           "#EF553B",
           "#00cc96",
           "#ab63fa",
           "#FFA15A",
           "#19d3f3",
           "#FF6692",
           "#B6E880",
           "#FF97FF",
           "#FECB52"
          ],
          "font": {
           "color": "#2a3f5f"
          },
          "geo": {
           "bgcolor": "white",
           "lakecolor": "white",
           "landcolor": "#E5ECF6",
           "showlakes": true,
           "showland": true,
           "subunitcolor": "white"
          },
          "hoverlabel": {
           "align": "left"
          },
          "hovermode": "closest",
          "mapbox": {
           "style": "light"
          },
          "paper_bgcolor": "white",
          "plot_bgcolor": "#E5ECF6",
          "polar": {
           "angularaxis": {
            "gridcolor": "white",
            "linecolor": "white",
            "ticks": ""
           },
           "bgcolor": "#E5ECF6",
           "radialaxis": {
            "gridcolor": "white",
            "linecolor": "white",
            "ticks": ""
           }
          },
          "scene": {
           "xaxis": {
            "backgroundcolor": "#E5ECF6",
            "gridcolor": "white",
            "gridwidth": 2,
            "linecolor": "white",
            "showbackground": true,
            "ticks": "",
            "zerolinecolor": "white"
           },
           "yaxis": {
            "backgroundcolor": "#E5ECF6",
            "gridcolor": "white",
            "gridwidth": 2,
            "linecolor": "white",
            "showbackground": true,
            "ticks": "",
            "zerolinecolor": "white"
           },
           "zaxis": {
            "backgroundcolor": "#E5ECF6",
            "gridcolor": "white",
            "gridwidth": 2,
            "linecolor": "white",
            "showbackground": true,
            "ticks": "",
            "zerolinecolor": "white"
           }
          },
          "shapedefaults": {
           "line": {
            "color": "#2a3f5f"
           }
          },
          "ternary": {
           "aaxis": {
            "gridcolor": "white",
            "linecolor": "white",
            "ticks": ""
           },
           "baxis": {
            "gridcolor": "white",
            "linecolor": "white",
            "ticks": ""
           },
           "bgcolor": "#E5ECF6",
           "caxis": {
            "gridcolor": "white",
            "linecolor": "white",
            "ticks": ""
           }
          },
          "title": {
           "x": 0.05
          },
          "xaxis": {
           "automargin": true,
           "gridcolor": "white",
           "linecolor": "white",
           "ticks": "",
           "title": {
            "standoff": 15
           },
           "zerolinecolor": "white",
           "zerolinewidth": 2
          },
          "yaxis": {
           "automargin": true,
           "gridcolor": "white",
           "linecolor": "white",
           "ticks": "",
           "title": {
            "standoff": 15
           },
           "zerolinecolor": "white",
           "zerolinewidth": 2
          }
         }
        },
        "title": {
         "text": "f1 scores par classedes modèles BERT par rapport au meilleur modèle ML"
        },
        "width": 1200,
        "xaxis": {
         "anchor": "y",
         "domain": [
          0,
          1
         ],
         "title": {
          "text": "f1 score"
         }
        },
        "yaxis": {
         "anchor": "x",
         "domain": [
          0,
          1
         ],
         "title": {
          "text": "classe"
         }
        }
       }
      }
     },
     "metadata": {},
     "output_type": "display_data"
    },
    {
     "data": {
      "text/plain": [
       "<src.utils.results.ResultsManager at 0x7a8e57e1d040>"
      ]
     },
     "execution_count": 7,
     "metadata": {},
     "output_type": "execute_result"
    }
   ],
   "source": [
    "res.plot_f1_scores_by_prdtype(\n",
    "    filter_model=['text/LinearSVC_tfidf', 'text/camembert-base', 'text/camembert-base-ccnet', 'text/flaubert_base_uncased'],\n",
    "    title=\"f1 scores par classedes modèles BERT par rapport au meilleur modèle ML\")"
   ]
  },
  {
   "cell_type": "markdown",
   "metadata": {},
   "source": [
    "# Matrice de confusion LinearSVC-tfidf"
   ]
  },
  {
   "cell_type": "code",
   "execution_count": 2,
   "metadata": {},
   "outputs": [
    {
     "data": {
      "image/png": "[encoded data removed]",
      "text/plain": [
       "<Figure size 1000x800 with 1 Axes>"
      ]
     },
     "metadata": {},
     "output_type": "display_data"
    },
    {
     "data": {
      "text/plain": [
       "<src.utils.results.ResultsManager at 0x737d68391a30>"
      ]
     },
     "execution_count": 2,
     "metadata": {},
     "output_type": "execute_result"
    }
   ],
   "source": [
    "import src.utils.plot as uplot\n",
    "import src.utils.results as results\n",
    "reload(uplot)\n",
    "reload(results)\n",
    "res.plot_confusion_matrix('text/LinearSVC_tfidf', model_label='LinearSVC (TF-IDF)')"
   ]
  },
  {
   "cell_type": "code",
   "execution_count": 2,
   "metadata": {},
   "outputs": [
    {
     "name": "stdout",
     "output_type": "stream",
     "text": [
      "                                precision    recall  f1-score   support\n",
      "\n",
      "               Livres occasion       0.53      0.52      0.52       623\n",
      "Figurines et objet pop culture       0.78      0.79      0.79       534\n",
      "                Cartes de jeux       0.91      0.96      0.93       791\n",
      "     Figurines et jeux de rôle       0.81      0.56      0.66       153\n",
      "                Jouets enfants       0.72      0.66      0.69       974\n",
      "       Jeux de société enfants       0.70      0.55      0.62       414\n",
      "               Jeux techniques       0.87      0.96      0.91      1009\n",
      "              Vêtements enfant       0.97      0.96      0.97       161\n",
      "                         Pêche       0.83      0.81      0.82       498\n",
      "                  Puériculture       0.86      0.81      0.83       648\n",
      "                      Mobilier       0.82      0.84      0.83      1015\n",
      "               Linge de maison       0.89      0.92      0.91       861\n",
      "                   Confiseries       0.87      0.95      0.91       161\n",
      "             Maison Décoration       0.81      0.82      0.82       999\n",
      "                    Animalerie       0.92      0.85      0.89       165\n",
      "            Magazines occasion       0.73      0.83      0.78       952\n",
      "           Livres BD magazines       0.77      0.75      0.76       955\n",
      "           Jeux vidéo occasion       0.80      0.80      0.80       284\n",
      "         Fournitures de bureau       0.93      0.95      0.94       998\n",
      "            Mobilier de jardin       0.78      0.70      0.74       518\n",
      "       Piscines et accessoires       0.96      0.98      0.97      2042\n",
      "          Outillages de jardin       0.84      0.82      0.83       499\n",
      "                  Livres neufs       0.71      0.69      0.70       552\n",
      "            Jeux vidéo pour PC       0.97      0.96      0.96       174\n",
      "     Jeux vidéo CDs équipement       0.72      0.66      0.69       502\n",
      "            Accessoires gaming       0.79      0.84      0.82       336\n",
      "               Consoles de jeu       0.94      0.81      0.87       166\n",
      "\n",
      "                      accuracy                           0.83     16984\n",
      "                     macro avg       0.82      0.81      0.81     16984\n",
      "                  weighted avg       0.82      0.83      0.82     16984\n",
      "\n"
     ]
    },
    {
     "data": {
      "text/plain": [
       "<src.utils.results.ResultsManager at 0x7969fffa8c40>"
      ]
     },
     "execution_count": 2,
     "metadata": {},
     "output_type": "execute_result"
    }
   ],
   "source": [
    "import src.utils.plot as uplot\n",
    "import src.utils.results as results\n",
    "reload(uplot)\n",
    "reload(results)\n",
    "res.plot_f1_scores_report('text/LinearSVC_tfidf', model_label='LinearSVC (TF-IDF)')"
   ]
  },
  {
   "cell_type": "code",
   "execution_count": 5,
   "metadata": {},
   "outputs": [
    {
     "name": "stdout",
     "output_type": "stream",
     "text": [
      "                                precision    recall  f1-score   support\n",
      "\n",
      "               Livres occasion       0.70      0.67      0.69       623\n",
      "Figurines et objet pop culture       0.83      0.86      0.84       534\n",
      "                Cartes de jeux       0.93      0.97      0.95       791\n",
      "     Figurines et jeux de rôle       0.70      0.65      0.67       153\n",
      "                Jouets enfants       0.83      0.80      0.82       974\n",
      "       Jeux de société enfants       0.75      0.71      0.73       414\n",
      "               Jeux techniques       0.98      0.99      0.98      1009\n",
      "              Vêtements enfant       0.98      0.96      0.97       161\n",
      "                         Pêche       0.85      0.83      0.84       498\n",
      "                  Puériculture       0.91      0.87      0.89       648\n",
      "                      Mobilier       0.89      0.90      0.89      1015\n",
      "               Linge de maison       0.95      0.91      0.93       861\n",
      "                   Confiseries       0.93      0.94      0.94       161\n",
      "             Maison Décoration       0.85      0.89      0.87       999\n",
      "                    Animalerie       0.90      0.88      0.89       165\n",
      "            Magazines occasion       0.91      0.92      0.92       952\n",
      "           Livres BD magazines       0.85      0.85      0.85       955\n",
      "           Jeux vidéo occasion       0.86      0.84      0.85       284\n",
      "         Fournitures de bureau       0.94      0.95      0.95       998\n",
      "            Mobilier de jardin       0.88      0.79      0.84       518\n",
      "       Piscines et accessoires       0.97      0.98      0.98      2042\n",
      "          Outillages de jardin       0.82      0.88      0.85       499\n",
      "                  Livres neufs       0.80      0.81      0.81       552\n",
      "            Jeux vidéo pour PC       1.00      0.99      0.99       174\n",
      "     Jeux vidéo CDs équipement       0.79      0.82      0.80       502\n",
      "            Accessoires gaming       0.87      0.93      0.90       336\n",
      "               Consoles de jeu       0.94      0.89      0.91       166\n",
      "\n",
      "                      accuracy                           0.89     16984\n",
      "                     macro avg       0.87      0.87      0.87     16984\n",
      "                  weighted avg       0.89      0.89      0.89     16984\n",
      "\n"
     ]
    },
    {
     "data": {
      "text/plain": [
       "<src.utils.results.ResultsManager at 0x777a79af99d0>"
      ]
     },
     "execution_count": 5,
     "metadata": {},
     "output_type": "execute_result"
    }
   ],
   "source": [
    "bimport src.utils.plot as uplot\n",
    "import src.utils.results as results\n",
    "reload(uplot)\n",
    "reload(results)\n",
    "res.plot_f1_scores_report('text/camembert-base-ccnet', model_label='CamemBERT (CCNet)')"
   ]
  },
  {
   "cell_type": "code",
   "execution_count": 6,
   "metadata": {},
   "outputs": [
    {
     "name": "stdout",
     "output_type": "stream",
     "text": [
      "                                precision    recall  f1-score   support\n",
      "\n",
      "               Livres occasion       0.49      0.67      0.57       623\n",
      "Figurines et objet pop culture       0.71      0.66      0.69       534\n",
      "                Cartes de jeux       0.96      0.94      0.95       791\n",
      "     Figurines et jeux de rôle       0.60      0.35      0.44       153\n",
      "                Jouets enfants       0.48      0.41      0.45       974\n",
      "       Jeux de société enfants       0.41      0.34      0.37       414\n",
      "               Jeux techniques       0.69      0.78      0.73      1009\n",
      "              Vêtements enfant       0.81      0.72      0.76       161\n",
      "                         Pêche       0.55      0.50      0.52       498\n",
      "                  Puériculture       0.56      0.53      0.55       648\n",
      "                      Mobilier       0.63      0.60      0.62      1015\n",
      "               Linge de maison       0.83      0.82      0.83       861\n",
      "                   Confiseries       0.84      0.76      0.79       161\n",
      "             Maison Décoration       0.47      0.67      0.55       999\n",
      "                    Animalerie       0.65      0.37      0.47       165\n",
      "            Magazines occasion       0.80      0.77      0.79       952\n",
      "           Livres BD magazines       0.70      0.71      0.70       955\n",
      "           Jeux vidéo occasion       0.77      0.57      0.66       284\n",
      "         Fournitures de bureau       0.73      0.74      0.74       998\n",
      "            Mobilier de jardin       0.46      0.54      0.50       518\n",
      "       Piscines et accessoires       0.88      0.87      0.87      2042\n",
      "          Outillages de jardin       0.51      0.56      0.53       499\n",
      "                  Livres neufs       0.81      0.67      0.73       552\n",
      "            Jeux vidéo pour PC       0.84      0.47      0.60       174\n",
      "     Jeux vidéo CDs équipement       0.64      0.69      0.66       502\n",
      "            Accessoires gaming       0.58      0.41      0.48       336\n",
      "               Consoles de jeu       0.73      0.73      0.73       166\n",
      "\n",
      "                      accuracy                           0.68     16984\n",
      "                     macro avg       0.67      0.62      0.64     16984\n",
      "                  weighted avg       0.68      0.68      0.67     16984\n",
      "\n"
     ]
    },
    {
     "data": {
      "text/plain": [
       "<src.utils.results.ResultsManager at 0x777a79af99d0>"
      ]
     },
     "execution_count": 6,
     "metadata": {},
     "output_type": "execute_result"
    }
   ],
   "source": [
    "import src.utils.plot as uplot\n",
    "import src.utils.results as results\n",
    "reload(uplot)\n",
    "reload(results)\n",
    "res.plot_f1_scores_report('image/vit_b16', model_label='CamemBERT (CCNet)')"
   ]
  },
  {
   "cell_type": "code",
   "execution_count": 13,
   "metadata": {},
   "outputs": [],
   "source": [
    "# models = res.get_model_paths()\n",
    "\n",
    "# for model in models:\n",
    "#     print(res.get_model_label(model))\n",
    "#     try:\n",
    "#         res.plot_confusion_matrix(model, model_label=res.get_model_label(model))\n",
    "#     except:\n",
    "#         print('error')\n",
    "    "
   ]
  },
  {
   "cell_type": "code",
   "execution_count": 16,
   "metadata": {},
   "outputs": [
    {
     "data": {
      "image/png": "[encoded data removed]",
      "text/plain": [
       "<Figure size 1000x800 with 1 Axes>"
      ]
     },
     "metadata": {},
     "output_type": "display_data"
    },
    {
     "data": {
      "text/plain": [
       "<src.utils.results.ResultsManager at 0x78557c5ccdf0>"
      ]
     },
     "execution_count": 16,
     "metadata": {},
     "output_type": "execute_result"
    }
   ],
   "source": [
    "res.plot_confusion_matrix('fusion/camembert-base-vit_b16_TF6', model_label='Transformer Fusion (CamemBERT + ViT) TF6')"
   ]
  },
  {
   "cell_type": "markdown",
   "metadata": {},
   "source": [
    "# Anomalies de classification résultantes"
   ]
  },
  {
   "cell_type": "code",
   "execution_count": 4,
   "metadata": {},
   "outputs": [],
   "source": [
    "import pandas as pd\n",
    "import src.utils.results as results\n",
    "\n",
    "from importlib import reload\n",
    "reload(results)\n",
    "\n",
    "y_pred = res.voting_pred(\n",
    "    [\n",
    "        'fusion/camembert-base-vit_b16_TF6',\n",
    "        'text/xgboost_tfidf',\n",
    "        'text/camembert-base-ccnet',\n",
    "        'image/vit_b16',\n",
    "        'text/flaubert_base_uncased',\n",
    "        'image/ResNet152' \n",
    "        ])\n",
    "\n",
    "y_test = res.get_y_test('fusion/camembert-base-vit_b16_TF6')\n",
    "\n",
    "mask = y_test != y_pred\n",
    "df = pd.read_csv('../data/clean/df_test_index.csv')\n",
    "df['pred_index'] = y_pred\n",
    "df['pred_label'] = res.get_label_encoder().inverse_transform(y_pred)\n",
    "\n",
    "\n"
   ]
  },
  {
   "cell_type": "code",
   "execution_count": 6,
   "metadata": {},
   "outputs": [
    {
     "data": {
      "text/html": [
       "<div>\n",
       "<style scoped>\n",
       "    .dataframe tbody tr th:only-of-type {\n",
       "        vertical-align: middle;\n",
       "    }\n",
       "\n",
       "    .dataframe tbody tr th {\n",
       "        vertical-align: top;\n",
       "    }\n",
       "\n",
       "    .dataframe thead th {\n",
       "        text-align: right;\n",
       "    }\n",
       "</style>\n",
       "<table border=\"1\" class=\"dataframe\">\n",
       "  <thead>\n",
       "    <tr style=\"text-align: right;\">\n",
       "      <th></th>\n",
       "      <th>productid</th>\n",
       "      <th>designation</th>\n",
       "      <th>description</th>\n",
       "      <th>prdtypedesignation</th>\n",
       "      <th>pred_label</th>\n",
       "    </tr>\n",
       "  </thead>\n",
       "  <tbody>\n",
       "    <tr>\n",
       "      <th>20</th>\n",
       "      <td>4195544704</td>\n",
       "      <td>Bas De Noël 18 Pouces Avec Grand Flocon De Neige Bas Plaid Pour Candy Hu6014</td>\n",
       "      <td>Bas de Noël 18 __g Virt_NP_NNS_NNPS&lt;__ pouces avec grand flocon de neige Bas Plaid pour Candy Description du produit Grand décor flocon de toile de jute. Il vaut mieux correspondre à Jute Plaid Snowflake Christmas Tree Skirt. FEEL RUSTIQUE. 100% flocon de neige de jute de qualité à carreaux classique fausse fourrure en peluche. Ajouter une ambiance chaleureuse de luxe à votre décor de vacances. Prêt à être farcie avec des cadeaux de goodies pour toute la famille. bas unique famille pour Noël. FORTE DURABLE. Triple couches conception avec du coton pp intérieur. Super épais solide. Dernière pour les années à venir. .. GRAND 18\" SIZE Chaque bas de Noël a un ruban boucle pour accrocher affichage facile Style:. Rustique luxe Taille spacieux prêt à être bourrés de goodies liste: 1 x Bas Candy Noël Plaid.</td>\n",
       "      <td>Jouets enfants</td>\n",
       "      <td>Mobilier</td>\n",
       "    </tr>\n",
       "    <tr>\n",
       "      <th>26</th>\n",
       "      <td>4075133776</td>\n",
       "      <td>Catalogue Phildar N°607 Modèles D'accessoires Femme À Tricoter</td>\n",
       "      <td>NaN</td>\n",
       "      <td>Livres BD magazines</td>\n",
       "      <td>Magazines occasion</td>\n",
       "    </tr>\n",
       "    <tr>\n",
       "      <th>46</th>\n",
       "      <td>3586643608</td>\n",
       "      <td>Dragon Ball Z Ichiban Kuji Songoku Super Instinct</td>\n",
       "      <td>NaN</td>\n",
       "      <td>Figurines et objet pop culture</td>\n",
       "      <td>Cartes de jeux</td>\n",
       "    </tr>\n",
       "    <tr>\n",
       "      <th>56</th>\n",
       "      <td>4010222981</td>\n",
       "      <td>Squishies Gâteau Kawaii Arc-En-Jumbo Rising Lent Squishies De Fromage Parfumé</td>\n",
       "      <td>Squishies Gâteau arc-Jumbo Kawaii lente hausse Squishies de fromage parfumé Fonction: Fonction: Stress Relief Pillow main Jouets décorat d'intéri Vent Emotions Finger Rehabilitation formation Simulations Jouets Matériel: PU matériaux de protection de l'environnement en mousse non toxiques. Squishies Caractéristique: Kawaii mignon doux Squishies Ralentir La hausse parfumée flexible. Stress Relief Oreiller main Jouets décorat d'intéri Vent Emotions Finger Rehabilitation formation Simulations Jouets Avis: Lorsque vous recevez les Squishies et après ventilation pendant 1-2 jours le parfum sera de retour à la normale. contenu du paquet: 1 x Gâteau arc</td>\n",
       "      <td>Pêche</td>\n",
       "      <td>Jouets enfants</td>\n",
       "    </tr>\n",
       "    <tr>\n",
       "      <th>70</th>\n",
       "      <td>4231852076</td>\n",
       "      <td>Taie Canapé Voiture Taille Throw Coussin Décoration Pillow Case 24098</td>\n",
       "      <td>Taie Sofa taille voiture Throw Coussin Accueil Décoration Description: 100% tout neuf mode camouflage parfait pour place sur le canapé un café une bibliothèque un magasin de livres partie club. fleur Oiseaux feuilles imprimé modèle apporte un monde magnifique et coloré. Apporte Rechercher chaleureux et moderne à votre maison décorative Lavage en machine à froid séparément doucement cycle seulement sans javellisant Séchage en bas Repassage basse température Si nécessaire Parfait pour être une décoration pour la maison bureau voiture canapé etc. Taille : Forfait 45x45cm inclus: 1pc x Taie d'oreiller</td>\n",
       "      <td>Linge de maison</td>\n",
       "      <td>Maison Décoration</td>\n",
       "    </tr>\n",
       "  </tbody>\n",
       "</table>\n",
       "</div>"
      ],
      "text/plain": [
       "     productid  \\\n",
       "20  4195544704   \n",
       "26  4075133776   \n",
       "46  3586643608   \n",
       "56  4010222981   \n",
       "70  4231852076   \n",
       "\n",
       "                                                                      designation  \\\n",
       "20   Bas De Noël 18 Pouces Avec Grand Flocon De Neige Bas Plaid Pour Candy Hu6014   \n",
       "26                 Catalogue Phildar N°607 Modèles D'accessoires Femme À Tricoter   \n",
       "46                              Dragon Ball Z Ichiban Kuji Songoku Super Instinct   \n",
       "56  Squishies Gâteau Kawaii Arc-En-Jumbo Rising Lent Squishies De Fromage Parfumé   \n",
       "70          Taie Canapé Voiture Taille Throw Coussin Décoration Pillow Case 24098   \n",
       "\n",
       "                                                                                                                                                                                                                                                                                                                                                                                                                                                                                                                                                                                                                                                                                                                                                                                                                                  description  \\\n",
       "20  Bas de Noël 18 __g Virt_NP_NNS_NNPS<__ pouces avec grand flocon de neige Bas Plaid pour Candy Description du produit Grand décor flocon de toile de jute. Il vaut mieux correspondre à Jute Plaid Snowflake Christmas Tree Skirt. FEEL RUSTIQUE. 100% flocon de neige de jute de qualité à carreaux classique fausse fourrure en peluche. Ajouter une ambiance chaleureuse de luxe à votre décor de vacances. Prêt à être farcie avec des cadeaux de goodies pour toute la famille. bas unique famille pour Noël. FORTE DURABLE. Triple couches conception avec du coton pp intérieur. Super épais solide. Dernière pour les années à venir. .. GRAND 18\" SIZE Chaque bas de Noël a un ruban boucle pour accrocher affichage facile Style:. Rustique luxe Taille spacieux prêt à être bourrés de goodies liste: 1 x Bas Candy Noël Plaid.   \n",
       "26                                                                                                                                                                                                                                                                                                                                                                                                                                                                                                                                                                                                                                                                                                                                                                                                                                        NaN   \n",
       "46                                                                                                                                                                                                                                                                                                                                                                                                                                                                                                                                                                                                                                                                                                                                                                                                                                        NaN   \n",
       "56                                                                                                                                                             Squishies Gâteau arc-Jumbo Kawaii lente hausse Squishies de fromage parfumé Fonction: Fonction: Stress Relief Pillow main Jouets décorat d'intéri Vent Emotions Finger Rehabilitation formation Simulations Jouets Matériel: PU matériaux de protection de l'environnement en mousse non toxiques. Squishies Caractéristique: Kawaii mignon doux Squishies Ralentir La hausse parfumée flexible. Stress Relief Oreiller main Jouets décorat d'intéri Vent Emotions Finger Rehabilitation formation Simulations Jouets Avis: Lorsque vous recevez les Squishies et après ventilation pendant 1-2 jours le parfum sera de retour à la normale. contenu du paquet: 1 x Gâteau arc   \n",
       "70                                                                                                                                                                                                               Taie Sofa taille voiture Throw Coussin Accueil Décoration Description: 100% tout neuf mode camouflage parfait pour place sur le canapé un café une bibliothèque un magasin de livres partie club. fleur Oiseaux feuilles imprimé modèle apporte un monde magnifique et coloré. Apporte Rechercher chaleureux et moderne à votre maison décorative Lavage en machine à froid séparément doucement cycle seulement sans javellisant Séchage en bas Repassage basse température Si nécessaire Parfait pour être une décoration pour la maison bureau voiture canapé etc. Taille : Forfait 45x45cm inclus: 1pc x Taie d'oreiller   \n",
       "\n",
       "                prdtypedesignation          pred_label  \n",
       "20                  Jouets enfants            Mobilier  \n",
       "26             Livres BD magazines  Magazines occasion  \n",
       "46  Figurines et objet pop culture      Cartes de jeux  \n",
       "56                           Pêche      Jouets enfants  \n",
       "70                 Linge de maison   Maison Décoration  "
      ]
     },
     "execution_count": 6,
     "metadata": {},
     "output_type": "execute_result"
    }
   ],
   "source": [
    "pd.set_option('display.max_colwidth',3000)\n",
    "df[mask][['productid', 'designation', 'description', 'prdtypedesignation', 'pred_label']].head()"
   ]
  },
  {
   "cell_type": "markdown",
   "metadata": {},
   "source": [
    "# Exemples de voting"
   ]
  },
  {
   "cell_type": "code",
   "execution_count": 4,
   "metadata": {},
   "outputs": [
    {
     "name": "stdout",
     "output_type": "stream",
     "text": [
      "model / fold                 f1 score\n",
      "-------------------------  ----------\n",
      "text/camembert-base-ccnet    0.885786\n",
      "image/vit_b16                0.674881\n",
      "voting fold 0                0.889181\n",
      "voting fold 1                0.892031\n",
      "voting fold 2                0.896505\n",
      "voting fold 3                0.896723\n",
      "voting fold 4                0.882791\n",
      "voting mean                  0.891446\n",
      "0.8914462332369316\n"
     ]
    }
   ],
   "source": [
    "res.voting_pred_cross_validate(['text/camembert-base-ccnet', 'image/vit_b16'])"
   ]
  },
  {
   "cell_type": "code",
   "execution_count": 5,
   "metadata": {},
   "outputs": [
    {
     "name": "stdout",
     "output_type": "stream",
     "text": [
      "model / fold                  f1 score\n",
      "--------------------------  ----------\n",
      "text/camembert-base-ccnet     0.885786\n",
      "image/vit_b16                 0.674881\n",
      "text/flaubert_base_uncased    0.877612\n",
      "voting fold 0                 0.899565\n",
      "voting fold 1                 0.902188\n",
      "voting fold 2                 0.897116\n",
      "voting fold 3                 0.903951\n",
      "voting fold 4                 0.889988\n",
      "voting mean                   0.898562\n"
     ]
    },
    {
     "data": {
      "text/plain": [
       "0.8985616077654587"
      ]
     },
     "execution_count": 5,
     "metadata": {},
     "output_type": "execute_result"
    }
   ],
   "source": [
    "res.voting_pred_cross_validate(['text/camembert-base-ccnet', 'image/vit_b16', 'text/flaubert_base_uncased'])"
   ]
  },
  {
   "cell_type": "code",
   "execution_count": 6,
   "metadata": {},
   "outputs": [
    {
     "name": "stdout",
     "output_type": "stream",
     "text": [
      "model / fold                  f1 score\n",
      "--------------------------  ----------\n",
      "text/camembert-base-ccnet     0.885786\n",
      "image/vit_b16                 0.674881\n",
      "text/flaubert_base_uncased    0.877612\n",
      "text/xgboost_tfidf            0.819312\n",
      "voting fold 0                 0.902571\n",
      "voting fold 1                 0.907521\n",
      "voting fold 2                 0.8967\n",
      "voting fold 3                 0.90159\n",
      "voting fold 4                 0.891515\n",
      "voting mean                   0.899979\n"
     ]
    },
    {
     "data": {
      "text/plain": [
       "0.8999793368128157"
      ]
     },
     "execution_count": 6,
     "metadata": {},
     "output_type": "execute_result"
    }
   ],
   "source": [
    "res.voting_pred_cross_validate(['text/camembert-base-ccnet', 'image/vit_b16', 'text/flaubert_base_uncased', 'text/xgboost_tfidf'])"
   ]
  },
  {
   "cell_type": "code",
   "execution_count": 12,
   "metadata": {},
   "outputs": [
    {
     "name": "stdout",
     "output_type": "stream",
     "text": [
      "model / fold          f1 score\n",
      "------------------  ----------\n",
      "text/xgboost_tfidf    0.819312\n",
      "image/vit_b16         0.674881\n",
      "voting fold 0         0.844982\n",
      "voting fold 1         0.857085\n",
      "voting fold 2         0.848079\n",
      "voting fold 3         0.857399\n",
      "voting fold 4         0.828241\n",
      "voting mean           0.847157\n"
     ]
    },
    {
     "data": {
      "text/plain": [
       "0.8471572745128757"
      ]
     },
     "execution_count": 12,
     "metadata": {},
     "output_type": "execute_result"
    }
   ],
   "source": [
    "res.voting_pred_cross_validate(['text/xgboost_tfidf', 'image/vit_b16'])"
   ]
  },
  {
   "cell_type": "code",
   "execution_count": 11,
   "metadata": {},
   "outputs": [
    {
     "name": "stdout",
     "output_type": "stream",
     "text": [
      "model / fold                         f1 score\n",
      "---------------------------------  ----------\n",
      "fusion/camembert-base-vit_b16_TF6    0.899074\n",
      "image/ResNet152                      0.657804\n",
      "text/flaubert_base_uncased           0.877612\n",
      "voting fold 0                        0.914025\n",
      "voting fold 1                        0.906649\n",
      "voting fold 2                        0.920803\n",
      "voting fold 3                        0.908241\n",
      "voting fold 4                        0.885274\n",
      "voting mean                          0.906998\n"
     ]
    },
    {
     "data": {
      "text/plain": [
       "0.9069982976161384"
      ]
     },
     "execution_count": 11,
     "metadata": {},
     "output_type": "execute_result"
    }
   ],
   "source": [
    "# 'text/LogisticRegression_cbow', 'text/RandomForestClassifier_cbow',\n",
    "#        'text/SVC_cbow', 'text/xgboost_cbow', 'text/SVC_skipgram',\n",
    "#        'text/LogisticRegression_skipgram',\n",
    "#        'text/RandomForestClassifier_skipgram', 'text/xgboost_skipgram',\n",
    "#        'text/LinearSVC_tfidf', 'text/LogisticRegression_tfidf',\n",
    "#        'text/MultinomialNB_tfidf', 'text/RandomForestClassifier_tfidf',\n",
    "#        'text/xgboost_tfidf', 'text/SVC_tfidf',\n",
    "#        'text/camembert-base-ccnet', 'text/camembert-base',\n",
    "#        'text/flaubert_base_uncased', 'image/vit_b16', 'image/ResNet152',\n",
    "#        'image/ResNet101', 'image/EfficientNetB1', 'image/ResNet50',\n",
    "#        'fusion/camembert-base-vit_b16_TF6',\n",
    "#        'fusion/camembert-base-vit_b16_TF3_att12',\n",
    "#        'fusion/camembert-base-vit_b16_TF6_att12',\n",
    "#        'fusion/camembert-base-vit_b16_TF1_att12'\n",
    "res.voting_pred_cross_validate(['fusion/camembert-base-vit_b16_TF6', 'image/ResNet152', 'text/flaubert_base_uncased'])"
   ]
  },
  {
   "cell_type": "code",
   "execution_count": null,
   "metadata": {},
   "outputs": [],
   "source": [
    "res.voting_pred_cross_validate(['image/ResNet101', 'image/EfficientNetB1', 'image/ResNet50', 'image/vit_b16', 'image/ResNet152'])"
   ]
  }
 ],
 "metadata": {
  "kernelspec": {
   "display_name": "tensorflow",
   "language": "python",
   "name": "python3"
  },
  "language_info": {
   "codemirror_mode": {
    "name": "ipython",
    "version": 3
   },
   "file_extension": ".py",
   "mimetype": "text/x-python",
   "name": "python",
   "nbconvert_exporter": "python",
   "pygments_lexer": "ipython3",
   "version": "3.9.18"
  }
 },
 "nbformat": 4,
 "nbformat_minor": 2
}
