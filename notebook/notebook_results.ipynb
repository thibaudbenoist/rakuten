{
 "cells": [
  {
   "cell_type": "code",
   "execution_count": 5,
   "metadata": {},
   "outputs": [
    {
     "name": "stdout",
     "output_type": "stream",
     "text": [
      "['/home/thibaud/repos/anaconda/rakuten/notebook', '/home/thibaud/intel/oneapi/intelpython/envs/tensorflow/lib/python39.zip', '/home/thibaud/intel/oneapi/intelpython/envs/tensorflow/lib/python3.9', '/home/thibaud/intel/oneapi/intelpython/envs/tensorflow/lib/python3.9/lib-dynload', '', '/home/thibaud/intel/oneapi/intelpython/envs/tensorflow/lib/python3.9/site-packages', '/home/thibaud/repos/anaconda/rakuten', '/home/thibaud/repos/anaconda/rakuten/src']\n"
     ]
    }
   ],
   "source": [
    "import sys\n",
    "configDir =  '/home/thibaud/repos/anaconda/rakuten/notebook'\n",
    "if configDir not in sys.path:\n",
    "    sys.path.append(configDir)\n",
    "\n",
    "import config\n",
    "\n",
    "print(sys.path)"
   ]
  },
  {
   "cell_type": "code",
   "execution_count": 6,
   "metadata": {},
   "outputs": [
    {
     "name": "stdout",
     "output_type": "stream",
     "text": [
      "['text/LogisticRegression_cbow' 'text/RandomForestClassifier_cbow'\n",
      " 'text/SVC_cbow' 'text/xgboost_cbow' 'text/SVC_skipgram'\n",
      " 'text/LogisticRegression_skipgram' 'text/RandomForestClassifier_skipgram'\n",
      " 'text/xgboost_skipgram' 'text/LinearSVC_tfidf'\n",
      " 'text/LogisticRegression_tfidf' 'text/MultinomialNB_tfidf'\n",
      " 'text/RandomForestClassifier_tfidf' 'text/xgboost_tfidf'\n",
      " 'text/camembert-base-ccnet' 'text/camembert-base'\n",
      " 'text/flaubert_base_uncased' 'image/vit_b16' 'image/ResNet152'\n",
      " 'image/ResNet101' 'image/EfficientNetB1' 'image/ResNet50'\n",
      " 'fusion/camembert-base-vit_b16_TF6'\n",
      " 'fusion/camembert-base-vit_b16_TF3_att12'\n",
      " 'fusion/camembert-base-vit_b16_TF6_att12'\n",
      " 'fusion/camembert-base-vit_b16_TF1_att12']\n",
      "New max score  text/camembert-base-ccnet text/flaubert_base_uncased text/SVC_skipgram text/LogisticRegression_skipgram 0.8877174999368697\n",
      "text/camembert-base-ccnet text/flaubert_base_uncased text/SVC_skipgram text/LogisticRegression_skipgram 0.8877174999368697\n",
      "text/camembert-base-ccnet text/flaubert_base_uncased text/SVC_skipgram text/xgboost_skipgram 0.88754918215058\n",
      "text/camembert-base-ccnet text/flaubert_base_uncased text/SVC_skipgram text/LinearSVC_tfidf 0.8876887880999842\n",
      "New max score  text/camembert-base-ccnet text/flaubert_base_uncased text/SVC_skipgram text/LogisticRegression_tfidf 0.8913611352725253\n",
      "text/camembert-base-ccnet text/flaubert_base_uncased text/SVC_skipgram text/LogisticRegression_tfidf 0.8913611352725253\n",
      "text/camembert-base-ccnet text/flaubert_base_uncased text/SVC_skipgram text/MultinomialNB_tfidf 0.8889879629518352\n",
      "New max score  text/camembert-base-ccnet text/flaubert_base_uncased text/SVC_skipgram text/xgboost_tfidf 0.8934469728227178\n",
      "text/camembert-base-ccnet text/flaubert_base_uncased text/SVC_skipgram text/xgboost_tfidf 0.8934469728227178\n",
      "New max score  text/camembert-base-ccnet text/flaubert_base_uncased text/SVC_skipgram image/vit_b16 0.8978615121512284\n",
      "text/camembert-base-ccnet text/flaubert_base_uncased text/SVC_skipgram image/vit_b16 0.8978615121512284\n",
      "text/camembert-base-ccnet text/flaubert_base_uncased text/SVC_skipgram image/ResNet152 0.8965423577686967\n",
      "text/camembert-base-ccnet text/flaubert_base_uncased text/LogisticRegression_skipgram text/xgboost_skipgram 0.8931684644766817\n",
      "text/camembert-base-ccnet text/flaubert_base_uncased text/LogisticRegression_skipgram text/LinearSVC_tfidf 0.8918327490033812\n",
      "text/camembert-base-ccnet text/flaubert_base_uncased text/LogisticRegression_skipgram text/LogisticRegression_tfidf 0.8951535178238947\n",
      "text/camembert-base-ccnet text/flaubert_base_uncased text/LogisticRegression_skipgram text/MultinomialNB_tfidf 0.8933571227354458\n",
      "text/camembert-base-ccnet text/flaubert_base_uncased text/LogisticRegression_skipgram text/xgboost_tfidf 0.8950537651806948\n",
      "New max score  text/camembert-base-ccnet text/flaubert_base_uncased text/LogisticRegression_skipgram image/vit_b16 0.8998206860003659\n",
      "text/camembert-base-ccnet text/flaubert_base_uncased text/LogisticRegression_skipgram image/vit_b16 0.8998206860003659\n",
      "text/camembert-base-ccnet text/flaubert_base_uncased text/LogisticRegression_skipgram image/ResNet152 0.8984151275561681\n",
      "text/camembert-base-ccnet text/flaubert_base_uncased text/xgboost_skipgram text/LinearSVC_tfidf 0.8914375480151301\n",
      "text/camembert-base-ccnet text/flaubert_base_uncased text/xgboost_skipgram text/LogisticRegression_tfidf 0.89369619882396\n",
      "text/camembert-base-ccnet text/flaubert_base_uncased text/xgboost_skipgram text/MultinomialNB_tfidf 0.8936796671730135\n",
      "text/camembert-base-ccnet text/flaubert_base_uncased text/xgboost_skipgram text/xgboost_tfidf 0.894533653992203\n",
      "text/camembert-base-ccnet text/flaubert_base_uncased text/xgboost_skipgram image/vit_b16 0.8997499013639372\n",
      "text/camembert-base-ccnet text/flaubert_base_uncased text/xgboost_skipgram image/ResNet152 0.8995991339466354\n",
      "text/camembert-base-ccnet text/flaubert_base_uncased text/LinearSVC_tfidf text/LogisticRegression_tfidf 0.8892539605278792\n",
      "text/camembert-base-ccnet text/flaubert_base_uncased text/LinearSVC_tfidf text/MultinomialNB_tfidf 0.8889385453965077\n",
      "text/camembert-base-ccnet text/flaubert_base_uncased text/LinearSVC_tfidf text/xgboost_tfidf 0.8919352365242942\n",
      "text/camembert-base-ccnet text/flaubert_base_uncased text/LinearSVC_tfidf image/vit_b16 0.8983906821956912\n",
      "text/camembert-base-ccnet text/flaubert_base_uncased text/LinearSVC_tfidf image/ResNet152 0.8980614706797349\n",
      "text/camembert-base-ccnet text/flaubert_base_uncased text/LogisticRegression_tfidf text/MultinomialNB_tfidf 0.8936095267315061\n",
      "text/camembert-base-ccnet text/flaubert_base_uncased text/LogisticRegression_tfidf text/xgboost_tfidf 0.8964642069084384\n",
      "New max score  text/camembert-base-ccnet text/flaubert_base_uncased text/LogisticRegression_tfidf image/vit_b16 0.9002728119860595\n",
      "text/camembert-base-ccnet text/flaubert_base_uncased text/LogisticRegression_tfidf image/vit_b16 0.9002728119860595\n",
      "text/camembert-base-ccnet text/flaubert_base_uncased text/LogisticRegression_tfidf image/ResNet152 0.8989433266571559\n",
      "text/camembert-base-ccnet text/flaubert_base_uncased text/MultinomialNB_tfidf text/xgboost_tfidf 0.8951786575402196\n",
      "New max score  text/camembert-base-ccnet text/flaubert_base_uncased text/MultinomialNB_tfidf image/vit_b16 0.9008055281046828\n",
      "text/camembert-base-ccnet text/flaubert_base_uncased text/MultinomialNB_tfidf image/vit_b16 0.9008055281046828\n",
      "text/camembert-base-ccnet text/flaubert_base_uncased text/MultinomialNB_tfidf image/ResNet152 0.8990320815919095\n",
      "text/camembert-base-ccnet text/flaubert_base_uncased text/xgboost_tfidf image/vit_b16 0.8998759532549453\n",
      "text/camembert-base-ccnet text/flaubert_base_uncased text/xgboost_tfidf image/ResNet152 0.899114861338718\n",
      "New max score  text/camembert-base-ccnet text/flaubert_base_uncased image/vit_b16 image/ResNet152 0.9018779593807282\n",
      "text/camembert-base-ccnet text/flaubert_base_uncased image/vit_b16 image/ResNet152 0.9018779593807282\n",
      "text/camembert-base-ccnet text/SVC_skipgram text/LogisticRegression_skipgram text/xgboost_skipgram 0.8388425752595711\n",
      "text/camembert-base-ccnet text/SVC_skipgram text/LogisticRegression_skipgram text/LinearSVC_tfidf 0.85827542709394\n",
      "text/camembert-base-ccnet text/SVC_skipgram text/LogisticRegression_skipgram text/LogisticRegression_tfidf 0.8416985302880373\n",
      "text/camembert-base-ccnet text/SVC_skipgram text/LogisticRegression_skipgram text/MultinomialNB_tfidf 0.8441352771148148\n",
      "text/camembert-base-ccnet text/SVC_skipgram text/LogisticRegression_skipgram text/xgboost_tfidf 0.8608441451125313\n",
      "text/camembert-base-ccnet text/SVC_skipgram text/LogisticRegression_skipgram image/vit_b16 0.8556057721158847\n",
      "text/camembert-base-ccnet text/SVC_skipgram text/LogisticRegression_skipgram image/ResNet152 0.8553407526638723\n",
      "text/camembert-base-ccnet text/SVC_skipgram text/xgboost_skipgram text/LinearSVC_tfidf 0.861883882869323\n",
      "text/camembert-base-ccnet text/SVC_skipgram text/xgboost_skipgram text/LogisticRegression_tfidf 0.848117308829425\n",
      "text/camembert-base-ccnet text/SVC_skipgram text/xgboost_skipgram text/MultinomialNB_tfidf 0.8484133138691532\n",
      "text/camembert-base-ccnet text/SVC_skipgram text/xgboost_skipgram text/xgboost_tfidf 0.8620443544093984\n",
      "text/camembert-base-ccnet text/SVC_skipgram text/xgboost_skipgram image/vit_b16 0.8573497079495805\n",
      "text/camembert-base-ccnet text/SVC_skipgram text/xgboost_skipgram image/ResNet152 0.857389183030854\n",
      "text/camembert-base-ccnet text/SVC_skipgram text/LinearSVC_tfidf text/LogisticRegression_tfidf 0.859932318227639\n",
      "text/camembert-base-ccnet text/SVC_skipgram text/LinearSVC_tfidf text/MultinomialNB_tfidf 0.8617160557886157\n",
      "text/camembert-base-ccnet text/SVC_skipgram text/LinearSVC_tfidf text/xgboost_tfidf 0.8662662458291003\n",
      "text/camembert-base-ccnet text/SVC_skipgram text/LinearSVC_tfidf image/vit_b16 0.8703440809724416\n",
      "text/camembert-base-ccnet text/SVC_skipgram text/LinearSVC_tfidf image/ResNet152 0.8704445812833184\n",
      "text/camembert-base-ccnet text/SVC_skipgram text/LogisticRegression_tfidf text/MultinomialNB_tfidf 0.8540950994934781\n",
      "text/camembert-base-ccnet text/SVC_skipgram text/LogisticRegression_tfidf text/xgboost_tfidf 0.8726654651931569\n",
      "text/camembert-base-ccnet text/SVC_skipgram text/LogisticRegression_tfidf image/vit_b16 0.8690885324365896\n",
      "text/camembert-base-ccnet text/SVC_skipgram text/LogisticRegression_tfidf image/ResNet152 0.8685395989219296\n",
      "text/camembert-base-ccnet text/SVC_skipgram text/MultinomialNB_tfidf text/xgboost_tfidf 0.8675321548204802\n",
      "text/camembert-base-ccnet text/SVC_skipgram text/MultinomialNB_tfidf image/vit_b16 0.8651407823994489\n",
      "text/camembert-base-ccnet text/SVC_skipgram text/MultinomialNB_tfidf image/ResNet152 0.8662734801098654\n",
      "text/camembert-base-ccnet text/SVC_skipgram text/xgboost_tfidf image/vit_b16 0.8822081587511637\n",
      "text/camembert-base-ccnet text/SVC_skipgram text/xgboost_tfidf image/ResNet152 0.8812880048145267\n",
      "text/camembert-base-ccnet text/SVC_skipgram image/vit_b16 image/ResNet152 0.873756783518169\n",
      "text/camembert-base-ccnet text/LogisticRegression_skipgram text/xgboost_skipgram text/LinearSVC_tfidf 0.860707531975796\n",
      "text/camembert-base-ccnet text/LogisticRegression_skipgram text/xgboost_skipgram text/LogisticRegression_tfidf 0.8655206489174595\n",
      "text/camembert-base-ccnet text/LogisticRegression_skipgram text/xgboost_skipgram text/MultinomialNB_tfidf 0.86106999289579\n",
      "text/camembert-base-ccnet text/LogisticRegression_skipgram text/xgboost_skipgram text/xgboost_tfidf 0.8764385339090004\n",
      "text/camembert-base-ccnet text/LogisticRegression_skipgram text/xgboost_skipgram image/vit_b16 0.8742482971443487\n",
      "text/camembert-base-ccnet text/LogisticRegression_skipgram text/xgboost_skipgram image/ResNet152 0.872638815871636\n",
      "text/camembert-base-ccnet text/LogisticRegression_skipgram text/LinearSVC_tfidf text/LogisticRegression_tfidf 0.8509738925968062\n",
      "text/camembert-base-ccnet text/LogisticRegression_skipgram text/LinearSVC_tfidf text/MultinomialNB_tfidf 0.8542067518787748\n",
      "text/camembert-base-ccnet text/LogisticRegression_skipgram text/LinearSVC_tfidf text/xgboost_tfidf 0.8677228038739773\n",
      "text/camembert-base-ccnet text/LogisticRegression_skipgram text/LinearSVC_tfidf image/vit_b16 0.8708214953401028\n",
      "text/camembert-base-ccnet text/LogisticRegression_skipgram text/LinearSVC_tfidf image/ResNet152 0.8688096481173007\n",
      "text/camembert-base-ccnet text/LogisticRegression_skipgram text/LogisticRegression_tfidf text/MultinomialNB_tfidf 0.8656052409653854\n",
      "text/camembert-base-ccnet text/LogisticRegression_skipgram text/LogisticRegression_tfidf text/xgboost_tfidf 0.8815922502295821\n",
      "text/camembert-base-ccnet text/LogisticRegression_skipgram text/LogisticRegression_tfidf image/vit_b16 0.8836484508729863\n",
      "text/camembert-base-ccnet text/LogisticRegression_skipgram text/LogisticRegression_tfidf image/ResNet152 0.882056178008552\n",
      "text/camembert-base-ccnet text/LogisticRegression_skipgram text/MultinomialNB_tfidf text/xgboost_tfidf 0.8818546203263815\n",
      "text/camembert-base-ccnet text/LogisticRegression_skipgram text/MultinomialNB_tfidf image/vit_b16 0.875558234520121\n",
      "text/camembert-base-ccnet text/LogisticRegression_skipgram text/MultinomialNB_tfidf image/ResNet152 0.8743428670422774\n",
      "text/camembert-base-ccnet text/LogisticRegression_skipgram text/xgboost_tfidf image/vit_b16 0.8921901953868306\n",
      "text/camembert-base-ccnet text/LogisticRegression_skipgram text/xgboost_tfidf image/ResNet152 0.8915724297731151\n",
      "text/camembert-base-ccnet text/LogisticRegression_skipgram image/vit_b16 image/ResNet152 0.8807260863351486\n",
      "text/camembert-base-ccnet text/xgboost_skipgram text/LinearSVC_tfidf text/LogisticRegression_tfidf 0.8577947634775441\n",
      "text/camembert-base-ccnet text/xgboost_skipgram text/LinearSVC_tfidf text/MultinomialNB_tfidf 0.8595231431509017\n",
      "text/camembert-base-ccnet text/xgboost_skipgram text/LinearSVC_tfidf text/xgboost_tfidf 0.8694526600220717\n",
      "text/camembert-base-ccnet text/xgboost_skipgram text/LinearSVC_tfidf image/vit_b16 0.8727603374553955\n",
      "text/camembert-base-ccnet text/xgboost_skipgram text/LinearSVC_tfidf image/ResNet152 0.8726978607988938\n",
      "text/camembert-base-ccnet text/xgboost_skipgram text/LogisticRegression_tfidf text/MultinomialNB_tfidf 0.8686490956941255\n",
      "text/camembert-base-ccnet text/xgboost_skipgram text/LogisticRegression_tfidf text/xgboost_tfidf 0.8810560235599798\n",
      "text/camembert-base-ccnet text/xgboost_skipgram text/LogisticRegression_tfidf image/vit_b16 0.882370069627715\n",
      "text/camembert-base-ccnet text/xgboost_skipgram text/LogisticRegression_tfidf image/ResNet152 0.8811104118647269\n",
      "text/camembert-base-ccnet text/xgboost_skipgram text/MultinomialNB_tfidf text/xgboost_tfidf 0.8803619375435766\n",
      "text/camembert-base-ccnet text/xgboost_skipgram text/MultinomialNB_tfidf image/vit_b16 0.8762082360647356\n",
      "text/camembert-base-ccnet text/xgboost_skipgram text/MultinomialNB_tfidf image/ResNet152 0.8759632565787687\n",
      "text/camembert-base-ccnet text/xgboost_skipgram text/xgboost_tfidf image/vit_b16 0.8903165427416616\n",
      "text/camembert-base-ccnet text/xgboost_skipgram text/xgboost_tfidf image/ResNet152 0.8894211266464029\n",
      "text/camembert-base-ccnet text/xgboost_skipgram image/vit_b16 image/ResNet152 0.8835479362816483\n",
      "text/camembert-base-ccnet text/LinearSVC_tfidf text/LogisticRegression_tfidf text/MultinomialNB_tfidf 0.8439088480981966\n",
      "text/camembert-base-ccnet text/LinearSVC_tfidf text/LogisticRegression_tfidf text/xgboost_tfidf 0.8608217641065716\n",
      "text/camembert-base-ccnet text/LinearSVC_tfidf text/LogisticRegression_tfidf image/vit_b16 0.8631008180684052\n",
      "text/camembert-base-ccnet text/LinearSVC_tfidf text/LogisticRegression_tfidf image/ResNet152 0.8630016984048853\n",
      "text/camembert-base-ccnet text/LinearSVC_tfidf text/MultinomialNB_tfidf text/xgboost_tfidf 0.859615978604933\n",
      "text/camembert-base-ccnet text/LinearSVC_tfidf text/MultinomialNB_tfidf image/vit_b16 0.8645154492388518\n",
      "text/camembert-base-ccnet text/LinearSVC_tfidf text/MultinomialNB_tfidf image/ResNet152 0.8648830069360193\n"
     ]
    },
    {
     "ename": "KeyboardInterrupt",
     "evalue": "",
     "output_type": "error",
     "traceback": [
      "\u001b[0;31m---------------------------------------------------------------------------\u001b[0m",
      "\u001b[0;31mKeyboardInterrupt\u001b[0m                         Traceback (most recent call last)",
      "Cell \u001b[0;32mIn[6], line 37\u001b[0m\n\u001b[1;32m     35\u001b[0m \u001b[38;5;28;01mfor\u001b[39;00m y \u001b[38;5;129;01min\u001b[39;00m combinations(models_sans_transformers, \u001b[38;5;241m4\u001b[39m):\n\u001b[1;32m     36\u001b[0m     \u001b[38;5;28;01mtry\u001b[39;00m:\n\u001b[0;32m---> 37\u001b[0m         y_pred \u001b[38;5;241m=\u001b[39m \u001b[43mres\u001b[49m\u001b[38;5;241;43m.\u001b[39;49m\u001b[43mvoting_pred\u001b[49m\u001b[43m(\u001b[49m\u001b[43my\u001b[49m\u001b[43m)\u001b[49m\n\u001b[1;32m     38\u001b[0m         score \u001b[38;5;241m=\u001b[39m f1_score(y_true, y_pred, average\u001b[38;5;241m=\u001b[39m\u001b[38;5;124m'\u001b[39m\u001b[38;5;124mweighted\u001b[39m\u001b[38;5;124m'\u001b[39m)\n\u001b[1;32m     39\u001b[0m         \u001b[38;5;28;01mif\u001b[39;00m score \u001b[38;5;241m>\u001b[39m max_score:\n",
      "File \u001b[0;32m~/repos/anaconda/rakuten/src/utils/results.py:494\u001b[0m, in \u001b[0;36mResultsManager.voting_pred\u001b[0;34m(self, basenames)\u001b[0m\n\u001b[1;32m    491\u001b[0m weight_set \u001b[38;5;241m=\u001b[39m []\n\u001b[1;32m    493\u001b[0m \u001b[38;5;28;01mfor\u001b[39;00m basename \u001b[38;5;129;01min\u001b[39;00m basenames:\n\u001b[0;32m--> 494\u001b[0m     probas\u001b[38;5;241m.\u001b[39mappend(np\u001b[38;5;241m.\u001b[39marray(\u001b[38;5;28;43mself\u001b[39;49m\u001b[38;5;241;43m.\u001b[39;49m\u001b[43mget_y_pred_probas\u001b[49m\u001b[43m(\u001b[49m\u001b[43mbasename\u001b[49m\u001b[43m)\u001b[49m))\n\u001b[1;32m    495\u001b[0m     weight_set\u001b[38;5;241m.\u001b[39mappend(\u001b[38;5;28mself\u001b[39m\u001b[38;5;241m.\u001b[39mget_f1_score(basename))\n\u001b[1;32m    497\u001b[0m probas_weighted \u001b[38;5;241m=\u001b[39m np\u001b[38;5;241m.\u001b[39msum([probas[i] \u001b[38;5;241m*\u001b[39m weight_set[i]\n\u001b[1;32m    498\u001b[0m                           \u001b[38;5;28;01mfor\u001b[39;00m i \u001b[38;5;129;01min\u001b[39;00m \u001b[38;5;28mrange\u001b[39m(\u001b[38;5;28mlen\u001b[39m(probas))], axis\u001b[38;5;241m=\u001b[39m\u001b[38;5;241m0\u001b[39m)\n",
      "File \u001b[0;32m~/repos/anaconda/rakuten/src/utils/results.py:391\u001b[0m, in \u001b[0;36mResultsManager.get_y_pred_probas\u001b[0;34m(self, model_path)\u001b[0m\n\u001b[1;32m    388\u001b[0m \u001b[38;5;28;01melse\u001b[39;00m:\n\u001b[1;32m    389\u001b[0m     probas \u001b[38;5;241m=\u001b[39m np\u001b[38;5;241m.\u001b[39mzeros(\n\u001b[1;32m    390\u001b[0m         (\u001b[38;5;28mlen\u001b[39m(\u001b[38;5;28mself\u001b[39m\u001b[38;5;241m.\u001b[39mget_X_test()), \u001b[38;5;28mself\u001b[39m\u001b[38;5;241m.\u001b[39mget_num_classes()))\n\u001b[0;32m--> 391\u001b[0m     y_pred \u001b[38;5;241m=\u001b[39m \u001b[38;5;28;43mself\u001b[39;49m\u001b[38;5;241;43m.\u001b[39;49m\u001b[43mget_y_pred\u001b[49m\u001b[43m(\u001b[49m\u001b[43mmodel_path\u001b[49m\u001b[43m)\u001b[49m\n\u001b[1;32m    392\u001b[0m     \u001b[38;5;28;01mfor\u001b[39;00m i, y \u001b[38;5;129;01min\u001b[39;00m \u001b[38;5;28menumerate\u001b[39m(y_pred):\n\u001b[1;32m    393\u001b[0m         probas[i, y] \u001b[38;5;241m=\u001b[39m \u001b[38;5;241m1\u001b[39m\n",
      "File \u001b[0;32m~/repos/anaconda/rakuten/src/utils/results.py:364\u001b[0m, in \u001b[0;36mResultsManager.get_y_pred\u001b[0;34m(self, model_path)\u001b[0m\n\u001b[1;32m    362\u001b[0m \u001b[38;5;28;01mif\u001b[39;00m pd\u001b[38;5;241m.\u001b[39misna(\u001b[38;5;28mself\u001b[39m\u001b[38;5;241m.\u001b[39mdf_results[\u001b[38;5;28mself\u001b[39m\u001b[38;5;241m.\u001b[39mdf_results\u001b[38;5;241m.\u001b[39mmodel_path \u001b[38;5;241m==\u001b[39m model_path]\u001b[38;5;241m.\u001b[39mpred_test\u001b[38;5;241m.\u001b[39mvalues[\u001b[38;5;241m0\u001b[39m]):\n\u001b[1;32m    363\u001b[0m     clf \u001b[38;5;241m=\u001b[39m load_classifier(model_path)\n\u001b[0;32m--> 364\u001b[0m     y_pred \u001b[38;5;241m=\u001b[39m \u001b[43mclf\u001b[49m\u001b[38;5;241;43m.\u001b[39;49m\u001b[43mpredict\u001b[49m\u001b[43m(\u001b[49m\u001b[38;5;28;43mself\u001b[39;49m\u001b[38;5;241;43m.\u001b[39;49m\u001b[43mget_X_test\u001b[49m\u001b[43m(\u001b[49m\u001b[43m)\u001b[49m\u001b[43m)\u001b[49m\n\u001b[1;32m    365\u001b[0m     \u001b[38;5;28;01mreturn\u001b[39;00m y_pred\n\u001b[1;32m    366\u001b[0m pred \u001b[38;5;241m=\u001b[39m \u001b[38;5;28mself\u001b[39m\u001b[38;5;241m.\u001b[39mdf_results[\u001b[38;5;28mself\u001b[39m\u001b[38;5;241m.\u001b[39mdf_results\u001b[38;5;241m.\u001b[39mmodel_path \u001b[38;5;241m==\u001b[39m\n\u001b[1;32m    367\u001b[0m                        model_path]\u001b[38;5;241m.\u001b[39mpred_test\u001b[38;5;241m.\u001b[39mvalues[\u001b[38;5;241m0\u001b[39m]\n",
      "File \u001b[0;32m~/repos/anaconda/rakuten/src/text/classifiers.py:747\u001b[0m, in \u001b[0;36mMLClassifier.predict\u001b[0;34m(self, X)\u001b[0m\n\u001b[1;32m    736\u001b[0m \u001b[38;5;250m\u001b[39m\u001b[38;5;124;03m\"\"\"\u001b[39;00m\n\u001b[1;32m    737\u001b[0m \u001b[38;5;124;03mPredicts the class labels for the given input data.\u001b[39;00m\n\u001b[1;32m    738\u001b[0m \n\u001b[0;32m   (...)\u001b[0m\n\u001b[1;32m    744\u001b[0m \u001b[38;5;124;03mAn array of predicted class labels.\u001b[39;00m\n\u001b[1;32m    745\u001b[0m \u001b[38;5;124;03m\"\"\"\u001b[39;00m\n\u001b[1;32m    746\u001b[0m X_vec \u001b[38;5;241m=\u001b[39m \u001b[38;5;28mself\u001b[39m\u001b[38;5;241m.\u001b[39m_getdataset(X, training\u001b[38;5;241m=\u001b[39m\u001b[38;5;28;01mFalse\u001b[39;00m)\n\u001b[0;32m--> 747\u001b[0m pred \u001b[38;5;241m=\u001b[39m \u001b[38;5;28;43mself\u001b[39;49m\u001b[38;5;241;43m.\u001b[39;49m\u001b[43mmodel\u001b[49m\u001b[38;5;241;43m.\u001b[39;49m\u001b[43mpredict\u001b[49m\u001b[43m(\u001b[49m\u001b[43mX_vec\u001b[49m\u001b[43m)\u001b[49m\n\u001b[1;32m    748\u001b[0m \u001b[38;5;28;01mreturn\u001b[39;00m pred\n",
      "File \u001b[0;32m~/intel/oneapi/intelpython/envs/tensorflow/lib/python3.9/site-packages/sklearn/linear_model/_base.py:451\u001b[0m, in \u001b[0;36mLinearClassifierMixin.predict\u001b[0;34m(self, X)\u001b[0m\n\u001b[1;32m    437\u001b[0m \u001b[38;5;250m\u001b[39m\u001b[38;5;124;03m\"\"\"\u001b[39;00m\n\u001b[1;32m    438\u001b[0m \u001b[38;5;124;03mPredict class labels for samples in X.\u001b[39;00m\n\u001b[1;32m    439\u001b[0m \n\u001b[0;32m   (...)\u001b[0m\n\u001b[1;32m    448\u001b[0m \u001b[38;5;124;03m    Vector containing the class labels for each sample.\u001b[39;00m\n\u001b[1;32m    449\u001b[0m \u001b[38;5;124;03m\"\"\"\u001b[39;00m\n\u001b[1;32m    450\u001b[0m xp, _ \u001b[38;5;241m=\u001b[39m get_namespace(X)\n\u001b[0;32m--> 451\u001b[0m scores \u001b[38;5;241m=\u001b[39m \u001b[38;5;28;43mself\u001b[39;49m\u001b[38;5;241;43m.\u001b[39;49m\u001b[43mdecision_function\u001b[49m\u001b[43m(\u001b[49m\u001b[43mX\u001b[49m\u001b[43m)\u001b[49m\n\u001b[1;32m    452\u001b[0m \u001b[38;5;28;01mif\u001b[39;00m \u001b[38;5;28mlen\u001b[39m(scores\u001b[38;5;241m.\u001b[39mshape) \u001b[38;5;241m==\u001b[39m \u001b[38;5;241m1\u001b[39m:\n\u001b[1;32m    453\u001b[0m     indices \u001b[38;5;241m=\u001b[39m xp\u001b[38;5;241m.\u001b[39mastype(scores \u001b[38;5;241m>\u001b[39m \u001b[38;5;241m0\u001b[39m, \u001b[38;5;28mint\u001b[39m)\n",
      "File \u001b[0;32m~/intel/oneapi/intelpython/envs/tensorflow/lib/python3.9/site-packages/sklearn/linear_model/_base.py:433\u001b[0m, in \u001b[0;36mLinearClassifierMixin.decision_function\u001b[0;34m(self, X)\u001b[0m\n\u001b[1;32m    430\u001b[0m xp, _ \u001b[38;5;241m=\u001b[39m get_namespace(X)\n\u001b[1;32m    432\u001b[0m X \u001b[38;5;241m=\u001b[39m \u001b[38;5;28mself\u001b[39m\u001b[38;5;241m.\u001b[39m_validate_data(X, accept_sparse\u001b[38;5;241m=\u001b[39m\u001b[38;5;124m\"\u001b[39m\u001b[38;5;124mcsr\u001b[39m\u001b[38;5;124m\"\u001b[39m, reset\u001b[38;5;241m=\u001b[39m\u001b[38;5;28;01mFalse\u001b[39;00m)\n\u001b[0;32m--> 433\u001b[0m scores \u001b[38;5;241m=\u001b[39m \u001b[43msafe_sparse_dot\u001b[49m\u001b[43m(\u001b[49m\u001b[43mX\u001b[49m\u001b[43m,\u001b[49m\u001b[43m \u001b[49m\u001b[38;5;28;43mself\u001b[39;49m\u001b[38;5;241;43m.\u001b[39;49m\u001b[43mcoef_\u001b[49m\u001b[38;5;241;43m.\u001b[39;49m\u001b[43mT\u001b[49m\u001b[43m,\u001b[49m\u001b[43m \u001b[49m\u001b[43mdense_output\u001b[49m\u001b[38;5;241;43m=\u001b[39;49m\u001b[38;5;28;43;01mTrue\u001b[39;49;00m\u001b[43m)\u001b[49m \u001b[38;5;241m+\u001b[39m \u001b[38;5;28mself\u001b[39m\u001b[38;5;241m.\u001b[39mintercept_\n\u001b[1;32m    434\u001b[0m \u001b[38;5;28;01mreturn\u001b[39;00m xp\u001b[38;5;241m.\u001b[39mreshape(scores, (\u001b[38;5;241m-\u001b[39m\u001b[38;5;241m1\u001b[39m,)) \u001b[38;5;28;01mif\u001b[39;00m scores\u001b[38;5;241m.\u001b[39mshape[\u001b[38;5;241m1\u001b[39m] \u001b[38;5;241m==\u001b[39m \u001b[38;5;241m1\u001b[39m \u001b[38;5;28;01melse\u001b[39;00m scores\n",
      "File \u001b[0;32m~/intel/oneapi/intelpython/envs/tensorflow/lib/python3.9/site-packages/sklearn/utils/extmath.py:192\u001b[0m, in \u001b[0;36msafe_sparse_dot\u001b[0;34m(a, b, dense_output)\u001b[0m\n\u001b[1;32m    190\u001b[0m         ret \u001b[38;5;241m=\u001b[39m np\u001b[38;5;241m.\u001b[39mdot(a, b)\n\u001b[1;32m    191\u001b[0m \u001b[38;5;28;01melse\u001b[39;00m:\n\u001b[0;32m--> 192\u001b[0m     ret \u001b[38;5;241m=\u001b[39m \u001b[43ma\u001b[49m\u001b[43m \u001b[49m\u001b[38;5;241;43m@\u001b[39;49m\u001b[43m \u001b[49m\u001b[43mb\u001b[49m\n\u001b[1;32m    194\u001b[0m \u001b[38;5;28;01mif\u001b[39;00m (\n\u001b[1;32m    195\u001b[0m     sparse\u001b[38;5;241m.\u001b[39missparse(a)\n\u001b[1;32m    196\u001b[0m     \u001b[38;5;129;01mand\u001b[39;00m sparse\u001b[38;5;241m.\u001b[39missparse(b)\n\u001b[1;32m    197\u001b[0m     \u001b[38;5;129;01mand\u001b[39;00m dense_output\n\u001b[1;32m    198\u001b[0m     \u001b[38;5;129;01mand\u001b[39;00m \u001b[38;5;28mhasattr\u001b[39m(ret, \u001b[38;5;124m\"\u001b[39m\u001b[38;5;124mtoarray\u001b[39m\u001b[38;5;124m\"\u001b[39m)\n\u001b[1;32m    199\u001b[0m ):\n\u001b[1;32m    200\u001b[0m     \u001b[38;5;28;01mreturn\u001b[39;00m ret\u001b[38;5;241m.\u001b[39mtoarray()\n",
      "File \u001b[0;32m~/intel/oneapi/intelpython/envs/tensorflow/lib/python3.9/site-packages/scipy/sparse/_base.py:630\u001b[0m, in \u001b[0;36mspmatrix.__matmul__\u001b[0;34m(self, other)\u001b[0m\n\u001b[1;32m    627\u001b[0m \u001b[38;5;28;01mif\u001b[39;00m isscalarlike(other):\n\u001b[1;32m    628\u001b[0m     \u001b[38;5;28;01mraise\u001b[39;00m \u001b[38;5;167;01mValueError\u001b[39;00m(\u001b[38;5;124m\"\u001b[39m\u001b[38;5;124mScalar operands are not allowed, \u001b[39m\u001b[38;5;124m\"\u001b[39m\n\u001b[1;32m    629\u001b[0m                      \u001b[38;5;124m\"\u001b[39m\u001b[38;5;124muse \u001b[39m\u001b[38;5;124m'\u001b[39m\u001b[38;5;124m*\u001b[39m\u001b[38;5;124m'\u001b[39m\u001b[38;5;124m instead\u001b[39m\u001b[38;5;124m\"\u001b[39m)\n\u001b[0;32m--> 630\u001b[0m \u001b[38;5;28;01mreturn\u001b[39;00m \u001b[38;5;28;43mself\u001b[39;49m\u001b[38;5;241;43m.\u001b[39;49m\u001b[43m_mul_dispatch\u001b[49m\u001b[43m(\u001b[49m\u001b[43mother\u001b[49m\u001b[43m)\u001b[49m\n",
      "File \u001b[0;32m~/intel/oneapi/intelpython/envs/tensorflow/lib/python3.9/site-packages/scipy/sparse/_base.py:532\u001b[0m, in \u001b[0;36mspmatrix._mul_dispatch\u001b[0;34m(self, other)\u001b[0m\n\u001b[1;32m    530\u001b[0m         \u001b[38;5;28;01mreturn\u001b[39;00m \u001b[38;5;28mself\u001b[39m\u001b[38;5;241m.\u001b[39m_mul_vector(other\u001b[38;5;241m.\u001b[39mravel())\u001b[38;5;241m.\u001b[39mreshape(M, \u001b[38;5;241m1\u001b[39m)\n\u001b[1;32m    531\u001b[0m     \u001b[38;5;28;01melif\u001b[39;00m other\u001b[38;5;241m.\u001b[39mndim \u001b[38;5;241m==\u001b[39m \u001b[38;5;241m2\u001b[39m \u001b[38;5;129;01mand\u001b[39;00m other\u001b[38;5;241m.\u001b[39mshape[\u001b[38;5;241m0\u001b[39m] \u001b[38;5;241m==\u001b[39m N:\n\u001b[0;32m--> 532\u001b[0m         \u001b[38;5;28;01mreturn\u001b[39;00m \u001b[38;5;28;43mself\u001b[39;49m\u001b[38;5;241;43m.\u001b[39;49m\u001b[43m_mul_multivector\u001b[49m\u001b[43m(\u001b[49m\u001b[43mother\u001b[49m\u001b[43m)\u001b[49m\n\u001b[1;32m    534\u001b[0m \u001b[38;5;28;01mif\u001b[39;00m isscalarlike(other):\n\u001b[1;32m    535\u001b[0m     \u001b[38;5;66;03m# scalar value\u001b[39;00m\n\u001b[1;32m    536\u001b[0m     \u001b[38;5;28;01mreturn\u001b[39;00m \u001b[38;5;28mself\u001b[39m\u001b[38;5;241m.\u001b[39m_mul_scalar(other)\n",
      "File \u001b[0;32m~/intel/oneapi/intelpython/envs/tensorflow/lib/python3.9/site-packages/scipy/sparse/_compressed.py:502\u001b[0m, in \u001b[0;36m_cs_matrix._mul_multivector\u001b[0;34m(self, other)\u001b[0m\n\u001b[1;32m    500\u001b[0m \u001b[38;5;66;03m# csr_matvecs or csc_matvecs\u001b[39;00m\n\u001b[1;32m    501\u001b[0m fn \u001b[38;5;241m=\u001b[39m \u001b[38;5;28mgetattr\u001b[39m(_sparsetools, \u001b[38;5;28mself\u001b[39m\u001b[38;5;241m.\u001b[39mformat \u001b[38;5;241m+\u001b[39m \u001b[38;5;124m'\u001b[39m\u001b[38;5;124m_matvecs\u001b[39m\u001b[38;5;124m'\u001b[39m)\n\u001b[0;32m--> 502\u001b[0m \u001b[43mfn\u001b[49m\u001b[43m(\u001b[49m\u001b[43mM\u001b[49m\u001b[43m,\u001b[49m\u001b[43m \u001b[49m\u001b[43mN\u001b[49m\u001b[43m,\u001b[49m\u001b[43m \u001b[49m\u001b[43mn_vecs\u001b[49m\u001b[43m,\u001b[49m\u001b[43m \u001b[49m\u001b[38;5;28;43mself\u001b[39;49m\u001b[38;5;241;43m.\u001b[39;49m\u001b[43mindptr\u001b[49m\u001b[43m,\u001b[49m\u001b[43m \u001b[49m\u001b[38;5;28;43mself\u001b[39;49m\u001b[38;5;241;43m.\u001b[39;49m\u001b[43mindices\u001b[49m\u001b[43m,\u001b[49m\u001b[43m \u001b[49m\u001b[38;5;28;43mself\u001b[39;49m\u001b[38;5;241;43m.\u001b[39;49m\u001b[43mdata\u001b[49m\u001b[43m,\u001b[49m\n\u001b[1;32m    503\u001b[0m \u001b[43m   \u001b[49m\u001b[43mother\u001b[49m\u001b[38;5;241;43m.\u001b[39;49m\u001b[43mravel\u001b[49m\u001b[43m(\u001b[49m\u001b[43m)\u001b[49m\u001b[43m,\u001b[49m\u001b[43m \u001b[49m\u001b[43mresult\u001b[49m\u001b[38;5;241;43m.\u001b[39;49m\u001b[43mravel\u001b[49m\u001b[43m(\u001b[49m\u001b[43m)\u001b[49m\u001b[43m)\u001b[49m\n\u001b[1;32m    505\u001b[0m \u001b[38;5;28;01mreturn\u001b[39;00m result\n",
      "\u001b[0;31mKeyboardInterrupt\u001b[0m: "
     ]
    }
   ],
   "source": [
    "\n",
    "import warnings\n",
    "warnings.filterwarnings('ignore')\n",
    "from importlib import reload\n",
    "import src.utils.results as results\n",
    "from sklearn.metrics import f1_score\n",
    "\n",
    "# print(config.path_to_data)\n",
    "reload(results)\n",
    "\n",
    "from src.utils.results import ResultsManager\n",
    "res = ResultsManager(config)\n",
    "res.add_result_file('../results/results_benchmark_sklearn.csv', 'text')\n",
    "res.add_result_file('../results/results_benchmark_bert.csv', 'bert')\n",
    "res.add_result_file('../results/results_benchmark_img.csv', 'img')\n",
    "res.add_result_file('../results/results_benchmark_fusion_TF.csv', 'fusion')\n",
    "# res.plot_f1_scores(filter_package=['bert','text'])\n",
    "\n",
    "# models=['fusion/camembert-base-vit_b16_TF6', 'text/SVC_skipgram', 'text/xgboost_skipgram','text/xgboost_tfidf', 'text/camembert-base-ccnet', 'image/vit_b16','text/flaubert_base_uncased', 'image/ResNet152']\n",
    "models_sans_transformers = ['text/camembert-base-ccnet', 'text/flaubert_base_uncased','text/SVC_skipgram',\n",
    " 'text/LogisticRegression_skipgram','text/RandomForestClassifier_skipgram',\n",
    " 'text/xgboost_skipgram','text/LinearSVC_tfidf',\n",
    " 'text/LogisticRegression_tfidf','text/MultinomialNB_tfidf',\n",
    " 'text/RandomForestClassifier_tfidf','text/xgboost_tfidf',\n",
    " 'image/vit_b16','image/ResNet152']\n",
    "\n",
    "\n",
    "models = res.get_model_paths()\n",
    "print(models)\n",
    "# tests à 3 models\n",
    "top_scores = []\n",
    "from itertools import combinations\n",
    "y_true = res.get_y_test('text/xgboost_tfidf')\n",
    "max_score = 0\n",
    "y_max=[]\n",
    "for y in combinations(models_sans_transformers, 4):\n",
    "    try:\n",
    "        y_pred = res.voting_pred(y)\n",
    "        score = f1_score(y_true, y_pred, average='weighted')\n",
    "        if score > max_score:\n",
    "            max_score = score\n",
    "            y_max=y\n",
    "            print(\"New max score \", \" \".join(y), score)\n",
    "        top_scores.append((y, score))\n",
    "        print(\" \".join(y), score)\n",
    "    except Exception as e:\n",
    "        toto = 1\n",
    "        #continue\n",
    "        \n",
    "print(\"Max score \", \" \".join(y_max), max_score)\n",
    "\n",
    "# res.plot_f1_scores(filter_package=['bert','text'])\n",
    "# res.plot_f1_scores_by_prdtype(filter_package=['bert','text'])\n",
    "# res.plot_classification_report('text/SVC_skipgram')\n",
    "\n",
    "# res.plot_classification_report('text/camembert-base-ccnet')\n",
    "# res.df_results[res.df_results.package=='img'].head()\n",
    "# text/camembert-base-ccnet\n",
    "# image/vit_b16\n",
    "# text/LinearSVC_tfidf\n",
    "\n",
    "# print(res.get_model_paths())\n",
    "# res.plot_classification_report_merged(['text/SVC_skipgram','text/LinearSVC_tfidf', 'text/camembert-base-ccnet', 'image/vit_b16','text/flaubert_base_uncased', 'image/ResNet152'])"
   ]
  },
  {
   "cell_type": "markdown",
   "metadata": {},
   "source": []
  },
  {
   "cell_type": "code",
   "execution_count": 51,
   "metadata": {},
   "outputs": [
    {
     "name": "stdout",
     "output_type": "stream",
     "text": [
      "['Livres occasion' 'Figurines et objet pop culture' 'Cartes de jeux'\n",
      " 'Figurines et jeux de rôle' 'Jouets enfants' 'Jeux de société enfants'\n",
      " 'Jeux techniques' 'Vêtements enfant' 'Pêche' 'Puériculture' 'Mobilier'\n",
      " 'Linge de maison' 'Confiseries' 'Maison Décoration' 'Animalerie'\n",
      " 'Magazines occasion' 'Livres BD magazines' 'Jeux vidéo occasion'\n",
      " 'Fournitures de bureau' 'Mobilier de jardin' 'Piscines et accessoires'\n",
      " 'Outillages de jardin' 'Livres neufs' 'Jeux vidéo pour PC'\n",
      " 'Jeux vidéo CDs équipement' 'Accessoires gaming' 'Consoles de jeu']\n"
     ]
    }
   ],
   "source": [
    "import os\n",
    "classes = np.load(os.path.join(\n",
    "                config.path_to_data, 'le_classes_new.npy'), allow_pickle=True)\n",
    "# classes_r = []\n",
    "# for cl in classes:\n",
    "#     classes_r.append(cl.split(' - ')[1])\n",
    "\n",
    "# np.save(os.path.join(\n",
    "#                 config.path_to_data, 'le_classes_new.npy'), classes_r)\n",
    "print(classes)\n",
    "# print(np.array(classes_r))\n"
   ]
  },
  {
   "cell_type": "code",
   "execution_count": 41,
   "metadata": {},
   "outputs": [
    {
     "data": {
      "image/png": "[encoded data removed]",
      "text/plain": [
       "<Figure size 600x600 with 1 Axes>"
      ]
     },
     "metadata": {},
     "output_type": "display_data"
    }
   ],
   "source": [
    "model1 = \"text/camembert-base-ccnet\"\n",
    "model2 = \"image/vit_b16\"\n",
    "model3 = \"text/SVC_skipgram\"\n",
    "\n",
    "\n",
    "def plot_square_pred(res, models =[]):\n",
    "\n",
    "    y_pred = []\n",
    "    y_test = res.get_y_test(\"text/camembert-base-ccnet\")\n",
    "    y_test = y_test[:16900]\n",
    "\n",
    "\n",
    "    for model in models:\n",
    "        pred = np.array(res.get_y_pred(model))\n",
    "        pred = pred[:16900]\n",
    "        pred = pred == y_test\n",
    "        pred = pred.reshape(130,130)\n",
    "\n",
    "        y_pred.append(pred)\n",
    "\n",
    "\n",
    "    import matplotlib.pyplot as plt\n",
    "    plt.figure(figsize=(6,6))\n",
    "    for pred in y_pred:\n",
    "        plt.imshow(pred, cmap='gray', interpolation='nearest', alpha=0.5)\n",
    "    plt.title('Predictions')\n",
    "    plt.axis('off')  # Turn off axis\n",
    "    plt.show()\n",
    "\n",
    "    return\n",
    "plot_square_pred(res, [model1, model2])\n",
    "\n",
    "# y_pred1 = res.get_y_pred(model1)\n",
    "# y_pred2 = res.get_y_pred(model2)\n",
    "# y_pred3 = res.get_y_pred(model3)\n",
    "# y_test = res.get_y_test(model1)\n",
    "\n",
    "# import numpy as np\n",
    "# y_pred1 = np.array(y_pred1[:16900])\n",
    "# y_pred2 = np.array(y_pred2[:16900])\n",
    "# y_test = np.array(y_test[:16900])\n",
    "\n",
    "# print(type(y_pred1))\n",
    "# y_compare1 = y_pred1 != y_test\n",
    "# y_compare2 = y_pred2 != y_test\n",
    "\n",
    "# # print(y_compare)\n",
    "# img_1 = y_compare1.reshape(130,130)\n",
    "# img_2 = y_compare2.reshape(130,130)\n",
    "# img_3 = \n",
    "# composite = np.logical_and(img_1, img_2)\n",
    "\n",
    "\n",
    "\n",
    "# import matplotlib.pyplot as plt\n",
    "# plt.figure(figsize=(6,6))\n",
    "# plt.imshow(img_1, cmap='gray', interpolation='nearest', alpha=0.5)\n",
    "# plt.imshow(img_2, cmap='gray', interpolation='nearest', alpha=0.5)\n",
    "# plt.imshow(composite, cmap='gray', interpolation='nearest', alpha=0.5)\n",
    "\n",
    "# plt.title('Boolean Image')\n",
    "# plt.axis('off')  # Turn off axis\n",
    "# plt.show()"
   ]
  },
  {
   "cell_type": "code",
   "execution_count": 13,
   "metadata": {},
   "outputs": [
    {
     "name": "stderr",
     "output_type": "stream",
     "text": [
      "/tmp/ipykernel_1141312/2952430557.py:12: SettingWithCopyWarning:\n",
      "\n",
      "\n",
      "A value is trying to be set on a copy of a slice from a DataFrame.\n",
      "Try using .loc[row_indexer,col_indexer] = value instead\n",
      "\n",
      "See the caveats in the documentation: https://pandas.pydata.org/pandas-docs/stable/user_guide/indexing.html#returning-a-view-versus-a-copy\n",
      "\n"
     ]
    },
    {
     "data": {
      "application/vnd.plotly.v1+json": {
       "config": {
        "plotlyServerURL": "https://plot.ly"
       },
       "data": [
        {
         "alignmentgroup": "True",
         "hovertemplate": "vectorizer=camembert-base-ccnet<br>score_test=%{x}<br>model_path=%{y}<extra></extra>",
         "legendgroup": "camembert-base-ccnet",
         "marker": {
          "color": "#636EFA",
          "pattern": {
           "shape": ""
          }
         },
         "name": "camembert-base-ccnet",
         "offsetgroup": "camembert-base-ccnet",
         "orientation": "h",
         "showlegend": true,
         "textposition": "auto",
         "type": "bar",
         "width": 0.8,
         "x": [
          0.8857864469097614
         ],
         "xaxis": "x",
         "y": [
          "text/camembert-base-ccnet"
         ],
         "yaxis": "y"
        },
        {
         "alignmentgroup": "True",
         "hovertemplate": "vectorizer=camembert-base<br>score_test=%{x}<br>model_path=%{y}<extra></extra>",
         "legendgroup": "camembert-base",
         "marker": {
          "color": "#EF553B",
          "pattern": {
           "shape": ""
          }
         },
         "name": "camembert-base",
         "offsetgroup": "camembert-base",
         "orientation": "h",
         "showlegend": true,
         "textposition": "auto",
         "type": "bar",
         "width": 0.8,
         "x": [
          0.8855658016888385
         ],
         "xaxis": "x",
         "y": [
          "text/camembert-base"
         ],
         "yaxis": "y"
        },
        {
         "alignmentgroup": "True",
         "hovertemplate": "vectorizer=flaubert_base_uncased<br>score_test=%{x}<br>model_path=%{y}<extra></extra>",
         "legendgroup": "flaubert_base_uncased",
         "marker": {
          "color": "#00CC96",
          "pattern": {
           "shape": ""
          }
         },
         "name": "flaubert_base_uncased",
         "offsetgroup": "flaubert_base_uncased",
         "orientation": "h",
         "showlegend": true,
         "textposition": "auto",
         "type": "bar",
         "width": 0.8,
         "x": [
          0.8776119296690704
         ],
         "xaxis": "x",
         "y": [
          "text/flaubert_base_uncased"
         ],
         "yaxis": "y"
        },
        {
         "alignmentgroup": "True",
         "hovertemplate": "vectorizer=tfidf<br>score_test=%{x}<br>model_path=%{y}<extra></extra>",
         "legendgroup": "tfidf",
         "marker": {
          "color": "#AB63FA",
          "pattern": {
           "shape": ""
          }
         },
         "name": "tfidf",
         "offsetgroup": "tfidf",
         "orientation": "h",
         "showlegend": true,
         "textposition": "auto",
         "type": "bar",
         "width": 0.8,
         "x": [
          0.8239800861828738,
          0.8193118067053706,
          0.812512673117705,
          0.7764210029928454,
          0.771265410675905,
          0.6131298294051816
         ],
         "xaxis": "x",
         "y": [
          "text/LinearSVC_tfidf",
          "text/xgboost_tfidf",
          "text/LogisticRegression_tfidf",
          "text/RandomForestClassifier_tfidf",
          "text/MultinomialNB_tfidf",
          "text/SVC_tfidf"
         ],
         "yaxis": "y"
        },
        {
         "alignmentgroup": "True",
         "hovertemplate": "vectorizer=skipgram<br>score_test=%{x}<br>model_path=%{y}<extra></extra>",
         "legendgroup": "skipgram",
         "marker": {
          "color": "#FFA15A",
          "pattern": {
           "shape": ""
          }
         },
         "name": "skipgram",
         "offsetgroup": "skipgram",
         "orientation": "h",
         "showlegend": true,
         "textposition": "auto",
         "type": "bar",
         "width": 0.8,
         "x": [
          0.8122277556665772,
          0.8013694697810105,
          0.7698540020165677,
          0.7640591569090228
         ],
         "xaxis": "x",
         "y": [
          "text/SVC_skipgram",
          "text/xgboost_skipgram",
          "text/LogisticRegression_skipgram",
          "text/RandomForestClassifier_skipgram"
         ],
         "yaxis": "y"
        },
        {
         "alignmentgroup": "True",
         "hovertemplate": "vectorizer=cbow<br>score_test=%{x}<br>model_path=%{y}<extra></extra>",
         "legendgroup": "cbow",
         "marker": {
          "color": "#19D3F3",
          "pattern": {
           "shape": ""
          }
         },
         "name": "cbow",
         "offsetgroup": "cbow",
         "orientation": "h",
         "showlegend": true,
         "textposition": "auto",
         "type": "bar",
         "width": 0.8,
         "x": [
          0.7759367729160634,
          0.7616964698575163,
          0.7325875869554023,
          0.7282730934992188
         ],
         "xaxis": "x",
         "y": [
          "text/SVC_cbow",
          "text/xgboost_cbow",
          "text/RandomForestClassifier_cbow",
          "text/LogisticRegression_cbow"
         ],
         "yaxis": "y"
        }
       ],
       "layout": {
        "bargap": 0.3,
        "bargroupgap": 0.2,
        "barmode": "stack",
        "height": 600,
        "legend": {},
        "margin": {
         "t": 60
        },
        "template": {
         "data": {
          "bar": [
           {
            "error_x": {
             "color": "#2a3f5f"
            },
            "error_y": {
             "color": "#2a3f5f"
            },
            "marker": {
             "line": {
              "color": "#E5ECF6",
              "width": 0.5
             },
             "pattern": {
              "fillmode": "overlay",
              "size": 10,
              "solidity": 0.2
             }
            },
            "type": "bar"
           }
          ],
          "barpolar": [
           {
            "marker": {
             "line": {
              "color": "#E5ECF6",
              "width": 0.5
             },
             "pattern": {
              "fillmode": "overlay",
              "size": 10,
              "solidity": 0.2
             }
            },
            "type": "barpolar"
           }
          ],
          "carpet": [
           {
            "aaxis": {
             "endlinecolor": "#2a3f5f",
             "gridcolor": "white",
             "linecolor": "white",
             "minorgridcolor": "white",
             "startlinecolor": "#2a3f5f"
            },
            "baxis": {
             "endlinecolor": "#2a3f5f",
             "gridcolor": "white",
             "linecolor": "white",
             "minorgridcolor": "white",
             "startlinecolor": "#2a3f5f"
            },
            "type": "carpet"
           }
          ],
          "choropleth": [
           {
            "colorbar": {
             "outlinewidth": 0,
             "ticks": ""
            },
            "type": "choropleth"
           }
          ],
          "contour": [
           {
            "colorbar": {
             "outlinewidth": 0,
             "ticks": ""
            },
            "colorscale": [
             [
              0,
              "#0d0887"
             ],
             [
              0.1111111111111111,
              "#46039f"
             ],
             [
              0.2222222222222222,
              "#7201a8"
             ],
             [
              0.3333333333333333,
              "#9c179e"
             ],
             [
              0.4444444444444444,
              "#bd3786"
             ],
             [
              0.5555555555555556,
              "#d8576b"
             ],
             [
              0.6666666666666666,
              "#ed7953"
             ],
             [
              0.7777777777777778,
              "#fb9f3a"
             ],
             [
              0.8888888888888888,
              "#fdca26"
             ],
             [
              1,
              "#f0f921"
             ]
            ],
            "type": "contour"
           }
          ],
          "contourcarpet": [
           {
            "colorbar": {
             "outlinewidth": 0,
             "ticks": ""
            },
            "type": "contourcarpet"
           }
          ],
          "heatmap": [
           {
            "colorbar": {
             "outlinewidth": 0,
             "ticks": ""
            },
            "colorscale": [
             [
              0,
              "#0d0887"
             ],
             [
              0.1111111111111111,
              "#46039f"
             ],
             [
              0.2222222222222222,
              "#7201a8"
             ],
             [
              0.3333333333333333,
              "#9c179e"
             ],
             [
              0.4444444444444444,
              "#bd3786"
             ],
             [
              0.5555555555555556,
              "#d8576b"
             ],
             [
              0.6666666666666666,
              "#ed7953"
             ],
             [
              0.7777777777777778,
              "#fb9f3a"
             ],
             [
              0.8888888888888888,
              "#fdca26"
             ],
             [
              1,
              "#f0f921"
             ]
            ],
            "type": "heatmap"
           }
          ],
          "heatmapgl": [
           {
            "colorbar": {
             "outlinewidth": 0,
             "ticks": ""
            },
            "colorscale": [
             [
              0,
              "#0d0887"
             ],
             [
              0.1111111111111111,
              "#46039f"
             ],
             [
              0.2222222222222222,
              "#7201a8"
             ],
             [
              0.3333333333333333,
              "#9c179e"
             ],
             [
              0.4444444444444444,
              "#bd3786"
             ],
             [
              0.5555555555555556,
              "#d8576b"
             ],
             [
              0.6666666666666666,
              "#ed7953"
             ],
             [
              0.7777777777777778,
              "#fb9f3a"
             ],
             [
              0.8888888888888888,
              "#fdca26"
             ],
             [
              1,
              "#f0f921"
             ]
            ],
            "type": "heatmapgl"
           }
          ],
          "histogram": [
           {
            "marker": {
             "pattern": {
              "fillmode": "overlay",
              "size": 10,
              "solidity": 0.2
             }
            },
            "type": "histogram"
           }
          ],
          "histogram2d": [
           {
            "colorbar": {
             "outlinewidth": 0,
             "ticks": ""
            },
            "colorscale": [
             [
              0,
              "#0d0887"
             ],
             [
              0.1111111111111111,
              "#46039f"
             ],
             [
              0.2222222222222222,
              "#7201a8"
             ],
             [
              0.3333333333333333,
              "#9c179e"
             ],
             [
              0.4444444444444444,
              "#bd3786"
             ],
             [
              0.5555555555555556,
              "#d8576b"
             ],
             [
              0.6666666666666666,
              "#ed7953"
             ],
             [
              0.7777777777777778,
              "#fb9f3a"
             ],
             [
              0.8888888888888888,
              "#fdca26"
             ],
             [
              1,
              "#f0f921"
             ]
            ],
            "type": "histogram2d"
           }
          ],
          "histogram2dcontour": [
           {
            "colorbar": {
             "outlinewidth": 0,
             "ticks": ""
            },
            "colorscale": [
             [
              0,
              "#0d0887"
             ],
             [
              0.1111111111111111,
              "#46039f"
             ],
             [
              0.2222222222222222,
              "#7201a8"
             ],
             [
              0.3333333333333333,
              "#9c179e"
             ],
             [
              0.4444444444444444,
              "#bd3786"
             ],
             [
              0.5555555555555556,
              "#d8576b"
             ],
             [
              0.6666666666666666,
              "#ed7953"
             ],
             [
              0.7777777777777778,
              "#fb9f3a"
             ],
             [
              0.8888888888888888,
              "#fdca26"
             ],
             [
              1,
              "#f0f921"
             ]
            ],
            "type": "histogram2dcontour"
           }
          ],
          "mesh3d": [
           {
            "colorbar": {
             "outlinewidth": 0,
             "ticks": ""
            },
            "type": "mesh3d"
           }
          ],
          "parcoords": [
           {
            "line": {
             "colorbar": {
              "outlinewidth": 0,
              "ticks": ""
             }
            },
            "type": "parcoords"
           }
          ],
          "pie": [
           {
            "automargin": true,
            "type": "pie"
           }
          ],
          "scatter": [
           {
            "fillpattern": {
             "fillmode": "overlay",
             "size": 10,
             "solidity": 0.2
            },
            "type": "scatter"
           }
          ],
          "scatter3d": [
           {
            "line": {
             "colorbar": {
              "outlinewidth": 0,
              "ticks": ""
             }
            },
            "marker": {
             "colorbar": {
              "outlinewidth": 0,
              "ticks": ""
             }
            },
            "type": "scatter3d"
           }
          ],
          "scattercarpet": [
           {
            "marker": {
             "colorbar": {
              "outlinewidth": 0,
              "ticks": ""
             }
            },
            "type": "scattercarpet"
           }
          ],
          "scattergeo": [
           {
            "marker": {
             "colorbar": {
              "outlinewidth": 0,
              "ticks": ""
             }
            },
            "type": "scattergeo"
           }
          ],
          "scattergl": [
           {
            "marker": {
             "colorbar": {
              "outlinewidth": 0,
              "ticks": ""
             }
            },
            "type": "scattergl"
           }
          ],
          "scattermapbox": [
           {
            "marker": {
             "colorbar": {
              "outlinewidth": 0,
              "ticks": ""
             }
            },
            "type": "scattermapbox"
           }
          ],
          "scatterpolar": [
           {
            "marker": {
             "colorbar": {
              "outlinewidth": 0,
              "ticks": ""
             }
            },
            "type": "scatterpolar"
           }
          ],
          "scatterpolargl": [
           {
            "marker": {
             "colorbar": {
              "outlinewidth": 0,
              "ticks": ""
             }
            },
            "type": "scatterpolargl"
           }
          ],
          "scatterternary": [
           {
            "marker": {
             "colorbar": {
              "outlinewidth": 0,
              "ticks": ""
             }
            },
            "type": "scatterternary"
           }
          ],
          "surface": [
           {
            "colorbar": {
             "outlinewidth": 0,
             "ticks": ""
            },
            "colorscale": [
             [
              0,
              "#0d0887"
             ],
             [
              0.1111111111111111,
              "#46039f"
             ],
             [
              0.2222222222222222,
              "#7201a8"
             ],
             [
              0.3333333333333333,
              "#9c179e"
             ],
             [
              0.4444444444444444,
              "#bd3786"
             ],
             [
              0.5555555555555556,
              "#d8576b"
             ],
             [
              0.6666666666666666,
              "#ed7953"
             ],
             [
              0.7777777777777778,
              "#fb9f3a"
             ],
             [
              0.8888888888888888,
              "#fdca26"
             ],
             [
              1,
              "#f0f921"
             ]
            ],
            "type": "surface"
           }
          ],
          "table": [
           {
            "cells": {
             "fill": {
              "color": "#EBF0F8"
             },
             "line": {
              "color": "white"
             }
            },
            "header": {
             "fill": {
              "color": "#C8D4E3"
             },
             "line": {
              "color": "white"
             }
            },
            "type": "table"
           }
          ]
         },
         "layout": {
          "annotationdefaults": {
           "arrowcolor": "#2a3f5f",
           "arrowhead": 0,
           "arrowwidth": 1
          },
          "autotypenumbers": "strict",
          "coloraxis": {
           "colorbar": {
            "outlinewidth": 0,
            "ticks": ""
           }
          },
          "colorscale": {
           "diverging": [
            [
             0,
             "#8e0152"
            ],
            [
             0.1,
             "#c51b7d"
            ],
            [
             0.2,
             "#de77ae"
            ],
            [
             0.3,
             "#f1b6da"
            ],
            [
             0.4,
             "#fde0ef"
            ],
            [
             0.5,
             "#f7f7f7"
            ],
            [
             0.6,
             "#e6f5d0"
            ],
            [
             0.7,
             "#b8e186"
            ],
            [
             0.8,
             "#7fbc41"
            ],
            [
             0.9,
             "#4d9221"
            ],
            [
             1,
             "#276419"
            ]
           ],
           "sequential": [
            [
             0,
             "#0d0887"
            ],
            [
             0.1111111111111111,
             "#46039f"
            ],
            [
             0.2222222222222222,
             "#7201a8"
            ],
            [
             0.3333333333333333,
             "#9c179e"
            ],
            [
             0.4444444444444444,
             "#bd3786"
            ],
            [
             0.5555555555555556,
             "#d8576b"
            ],
            [
             0.6666666666666666,
             "#ed7953"
            ],
            [
             0.7777777777777778,
             "#fb9f3a"
            ],
            [
             0.8888888888888888,
             "#fdca26"
            ],
            [
             1,
             "#f0f921"
            ]
           ],
           "sequentialminus": [
            [
             0,
             "#0d0887"
            ],
            [
             0.1111111111111111,
             "#46039f"
            ],
            [
             0.2222222222222222,
             "#7201a8"
            ],
            [
             0.3333333333333333,
             "#9c179e"
            ],
            [
             0.4444444444444444,
             "#bd3786"
            ],
            [
             0.5555555555555556,
             "#d8576b"
            ],
            [
             0.6666666666666666,
             "#ed7953"
            ],
            [
             0.7777777777777778,
             "#fb9f3a"
            ],
            [
             0.8888888888888888,
             "#fdca26"
            ],
            [
             1,
             "#f0f921"
            ]
           ]
          },
          "colorway": [
           "#636efa",
           "#EF553B",
           "#00cc96",
           "#ab63fa",
           "#FFA15A",
           "#19d3f3",
           "#FF6692",
           "#B6E880",
           "#FF97FF",
           "#FECB52"
          ],
          "font": {
           "color": "#2a3f5f"
          },
          "geo": {
           "bgcolor": "white",
           "lakecolor": "white",
           "landcolor": "#E5ECF6",
           "showlakes": true,
           "showland": true,
           "subunitcolor": "white"
          },
          "hoverlabel": {
           "align": "left"
          },
          "hovermode": "closest",
          "mapbox": {
           "style": "light"
          },
          "paper_bgcolor": "white",
          "plot_bgcolor": "#E5ECF6",
          "polar": {
           "angularaxis": {
            "gridcolor": "white",
            "linecolor": "white",
            "ticks": ""
           },
           "bgcolor": "#E5ECF6",
           "radialaxis": {
            "gridcolor": "white",
            "linecolor": "white",
            "ticks": ""
           }
          },
          "scene": {
           "xaxis": {
            "backgroundcolor": "#E5ECF6",
            "gridcolor": "white",
            "gridwidth": 2,
            "linecolor": "white",
            "showbackground": true,
            "ticks": "",
            "zerolinecolor": "white"
           },
           "yaxis": {
            "backgroundcolor": "#E5ECF6",
            "gridcolor": "white",
            "gridwidth": 2,
            "linecolor": "white",
            "showbackground": true,
            "ticks": "",
            "zerolinecolor": "white"
           },
           "zaxis": {
            "backgroundcolor": "#E5ECF6",
            "gridcolor": "white",
            "gridwidth": 2,
            "linecolor": "white",
            "showbackground": true,
            "ticks": "",
            "zerolinecolor": "white"
           }
          },
          "shapedefaults": {
           "line": {
            "color": "#2a3f5f"
           }
          },
          "ternary": {
           "aaxis": {
            "gridcolor": "white",
            "linecolor": "white",
            "ticks": ""
           },
           "baxis": {
            "gridcolor": "white",
            "linecolor": "white",
            "ticks": ""
           },
           "bgcolor": "#E5ECF6",
           "caxis": {
            "gridcolor": "white",
            "linecolor": "white",
            "ticks": ""
           }
          },
          "title": {
           "x": 0.05
          },
          "xaxis": {
           "automargin": true,
           "gridcolor": "white",
           "linecolor": "white",
           "ticks": "",
           "title": {
            "standoff": 15
           },
           "zerolinecolor": "white",
           "zerolinewidth": 2
          },
          "yaxis": {
           "automargin": true,
           "gridcolor": "white",
           "linecolor": "white",
           "ticks": "",
           "title": {
            "standoff": 15
           },
           "zerolinecolor": "white",
           "zerolinewidth": 2
          }
         }
        },
        "title": {
         "text": "Benchmark des f1 scores"
        },
        "width": 1200,
        "xaxis": {
         "anchor": "y",
         "domain": [
          0,
          1
         ],
         "title": {
          "text": "f1 score"
         }
        },
        "yaxis": {
         "anchor": "x",
         "categoryarray": [
          "text/SVC_tfidf",
          "text/LogisticRegression_cbow",
          "text/RandomForestClassifier_cbow",
          "text/xgboost_cbow",
          "text/RandomForestClassifier_skipgram",
          "text/LogisticRegression_skipgram",
          "text/MultinomialNB_tfidf",
          "text/SVC_cbow",
          "text/RandomForestClassifier_tfidf",
          "text/xgboost_skipgram",
          "text/SVC_skipgram",
          "text/LogisticRegression_tfidf",
          "text/xgboost_tfidf",
          "text/LinearSVC_tfidf",
          "text/flaubert_base_uncased",
          "text/camembert-base",
          "text/camembert-base-ccnet"
         ],
         "categoryorder": "array",
         "domain": [
          0,
          1
         ],
         "title": {
          "text": "model"
         }
        }
       }
      }
     },
     "metadata": {},
     "output_type": "display_data"
    },
    {
     "data": {
      "text/plain": [
       "<module 'matplotlib.pyplot' from '/home/thibaud/intel/oneapi/intelpython/envs/tensorflow/lib/python3.9/site-packages/matplotlib/pyplot.py'>"
      ]
     },
     "execution_count": 13,
     "metadata": {},
     "output_type": "execute_result"
    }
   ],
   "source": [
    "from importlib import reload\n",
    "import plotly.graph_objs as go\n",
    "import numpy as np\n",
    "import src.utils.plot as uplot\n",
    "\n",
    "reload(uplot)\n",
    "scores = fusion[['model_path', 'score_test', 'package', 'classifier', 'vectorization']]\n",
    "\n",
    "# display(scores)\n",
    "\n",
    "\n",
    "scores.loc[:, 'vectorizer'] = scores.apply(lambda row: row.classifier if pd.isna(row.vectorization) else row.vectorization, axis=1)\n",
    "scores=scores.groupby(['model_path', 'package', 'classifier', 'vectorizer']).max('score_test').reset_index()\n",
    "scores = scores[scores.package != 'img']\n",
    "sorted_scores = scores.sort_values(by='score_test', ascending=False)\n",
    "\n",
    "# Sort 'scores' by 'score_test' in descending order\n",
    "sorted_scores = scores.sort_values('score_test', ascending=False)\n",
    "\n",
    "# Create custom categories order based on the sorted 'score_test'\n",
    "custom_categories_order = sorted_scores['model_path'].tolist()\n",
    "\n",
    "\n",
    "uplot.plot_bench_results(\n",
    "    sorted_scores, \n",
    "    'model_path', \n",
    "    'score_test', \n",
    "    'model', \n",
    "    'f1 score', \n",
    "    color_column='vectorizer',\n",
    "    title='Benchmark des f1 scores'\n",
    ")\n",
    "\n",
    "\n"
   ]
  },
  {
   "cell_type": "code",
   "execution_count": null,
   "metadata": {},
   "outputs": [],
   "source": [
    "from importlib import reload\n",
    "import plotly.graph_objs as go\n",
    "import numpy as np\n",
    "import src.utils.plot as uplot\n",
    "\n",
    "reload(uplot)\n",
    "scores = fusion[['model_path', 'score_test', 'package', 'classifier', 'vectorization']]\n",
    "\n",
    "# display(scores)\n",
    "\n",
    "\n",
    "scores.loc[:, 'vectorizer'] = scores.apply(lambda row: row.classifier if pd.isna(row.vectorization) else row.vectorization, axis=1)\n",
    "scores=scores.groupby(['model_path', 'package', 'classifier', 'vectorizer']).max('score_test').reset_index()\n",
    "scores = scores[scores.package != 'img']\n",
    "sorted_scores = scores.sort_values(by='score_test', ascending=False)\n",
    "\n",
    "# Sort 'scores' by 'score_test' in descending order\n",
    "sorted_scores = scores.sort_values('score_test', ascending=False)\n",
    "\n",
    "# Create custom categories order based on the sorted 'score_test'\n",
    "custom_categories_order = sorted_scores['model_path'].tolist()\n",
    "\n",
    "\n",
    "uplot.plot_bench_results(\n",
    "    sorted_scores, \n",
    "    'model_path', \n",
    "    'score_test', \n",
    "    'model', \n",
    "    'f1 score', \n",
    "    color_column='vectorizer',\n",
    "    title='Benchmark des f1 scores'\n",
    ")\n",
    "\n",
    "\n"
   ]
  },
  {
   "cell_type": "code",
   "execution_count": null,
   "metadata": {},
   "outputs": [],
   "source": []
  }
 ],
 "metadata": {
  "kernelspec": {
   "display_name": "tensorflow",
   "language": "python",
   "name": "python3"
  },
  "language_info": {
   "codemirror_mode": {
    "name": "ipython",
    "version": 3
   },
   "file_extension": ".py",
   "mimetype": "text/x-python",
   "name": "python",
   "nbconvert_exporter": "python",
   "pygments_lexer": "ipython3",
   "version": "3.9.18"
  }
 },
 "nbformat": 4,
 "nbformat_minor": 2
}
