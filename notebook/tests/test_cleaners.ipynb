{
 "cells": [
  {
   "cell_type": "markdown",
   "metadata": {},
   "source": [
    "# Text cleaning\n",
    "\n",
    "A notebook to better explain text cleaning process and help building Transformers and make pipelines.\n",
    "\n",
    "This is a refactoring of part of the job made in [Rakuten_preprocessing.py](Rakuten_preprocessing.py) by Julien Fournier"
   ]
  },
  {
   "cell_type": "code",
   "execution_count": 1,
   "metadata": {},
   "outputs": [
    {
     "name": "stdout",
     "output_type": "stream",
     "text": [
      "c:\\Users\\mangg\\projects\\RakutenTeam\\notebook\\tests tests\n",
      "C:\\Users\\mangg\\projects\\RakutenTeam\\notebook C:\\Users\\mangg\\projects\\RakutenTeam\\notebook\\data notebook\n",
      "C:\\Users\\mangg\\projects\\RakutenTeam C:\\Users\\mangg\\projects\\RakutenTeam\\data RakutenTeam\n"
     ]
    }
   ],
   "source": [
    "import pandas as pd\n",
    "import numpy as np\n",
    "import os\n",
    "import re\n",
    "\n",
    "BASE_DIR = os.getcwd()\n",
    "DIR_NAME = os.path.basename(BASE_DIR)\n",
    "print(BASE_DIR, DIR_NAME)\n",
    "while DIR_NAME != \"RakutenTeam\": \n",
    "    BASE_DIR = os.path.realpath(os.path.join(os.path.dirname(__name__), '..'))\n",
    "    DIR_NAME = os.path.basename(BASE_DIR)\n",
    "    os.chdir(BASE_DIR)\n",
    "    DATA_DIR = os.path.join(BASE_DIR, 'data')\n",
    "    print( BASE_DIR, DATA_DIR, DIR_NAME)\n"
   ]
  },
  {
   "cell_type": "code",
   "execution_count": null,
   "metadata": {},
   "outputs": [],
   "source": [
    "from src.data_loader import import_data\n",
    "\n",
    "folder_path = os.path.join(DATA_DIR, \"raw\")\n",
    "print(folder_path)"
   ]
  },
  {
   "cell_type": "code",
   "execution_count": null,
   "metadata": {},
   "outputs": [],
   "source": [
    "df = import_data(folder_path=folder_path)\n",
    "df.info()"
   ]
  },
  {
   "cell_type": "markdown",
   "metadata": {},
   "source": [
    "On a des NaN pour description et pas pour designation (qui doit être un champ obligatoire)."
   ]
  },
  {
   "cell_type": "code",
   "execution_count": null,
   "metadata": {},
   "outputs": [],
   "source": [
    "df.head()"
   ]
  },
  {
   "cell_type": "markdown",
   "metadata": {},
   "source": [
    "Nous avons \n",
    "Concentrons nous ici sur le texte.\n",
    "Nous avons deux colonnes non pertinentes et deux à étudier: designation et description."
   ]
  },
  {
   "cell_type": "code",
   "execution_count": null,
   "metadata": {},
   "outputs": [],
   "source": [
    "descriptions = df.description\n",
    "\n",
    "designation = df.designation"
   ]
  },
  {
   "cell_type": "markdown",
   "metadata": {},
   "source": [
    "Travaillons sur les descriptions, notamment celles qui ne sont pas NaN"
   ]
  },
  {
   "cell_type": "code",
   "execution_count": null,
   "metadata": {},
   "outputs": [],
   "source": [
    "filter = descriptions.notnull()\n",
    "filtered_descriptions = descriptions[filter]"
   ]
  },
  {
   "cell_type": "code",
   "execution_count": null,
   "metadata": {},
   "outputs": [],
   "source": [
    "from sklearn import set_config\n",
    "set_config(display=\"diagram\")"
   ]
  },
  {
   "cell_type": "code",
   "execution_count": null,
   "metadata": {},
   "outputs": [],
   "source": [
    "from src.features.text.pipelines.cleaner import CleanTextPipeline\n",
    "\n",
    "\n",
    "pipe = CleanTextPipeline()\n",
    "pipe\n"
   ]
  },
  {
   "cell_type": "code",
   "execution_count": null,
   "metadata": {},
   "outputs": [],
   "source": [
    "url_pattern = r\"http[s]?://(?:[a-zA-Z]|[0-9]|[$-_@.&+]|[!*\\\\(\\\\),]|(?:%[0-9a-fA-F][0-9a-fA-F]))+\"\n",
    "filename_pattern = r'\\b(?<!\\d\\.)\\w+\\.(txt|jpg|png|docx|pdf)\\b'\n",
    "bad_html_pattern = r'nbsp|&amp|& nbsp|'\n",
    "space_around_pattern = r'(\\d+|[-.,!¡;；:¯…„“\\§«»—°•£❤☆(){}\\[\\]\"@#$%^&*+=|<>~`‘’¬])'\n",
    "space_before_pattern = r'(?<=[a-zÀ-ÿ]|[.,!;:\\§«»°])([A-Z])(?=[a-zÀ-ÿ])'"
   ]
  },
  {
   "cell_type": "code",
   "execution_count": null,
   "metadata": {},
   "outputs": [],
   "source": [
    "new_descriptions = pipe.fit_transform(descriptions)\n"
   ]
  },
  {
   "cell_type": "code",
   "execution_count": null,
   "metadata": {},
   "outputs": [],
   "source": [
    "descriptions.str.count(url_pattern).sum(), descriptions.str.count(filename_pattern).sum(), descriptions.str.count(bad_html_pattern).sum(), descriptions.str.count(space_around_pattern).sum(), descriptions.str.count(space_before_pattern).sum()\n"
   ]
  },
  {
   "cell_type": "code",
   "execution_count": null,
   "metadata": {},
   "outputs": [],
   "source": [
    "new_descriptions.str.count(url_pattern).sum(), new_descriptions.str.count(filename_pattern).sum(), new_descriptions.str.count(bad_html_pattern).sum(), new_descriptions.str.count(space_around_pattern).sum(), new_descriptions.str.count(space_before_pattern).sum()\n"
   ]
  },
  {
   "cell_type": "code",
   "execution_count": null,
   "metadata": {},
   "outputs": [],
   "source": [
    "space_filter = new_descriptions.str.count(space_around_pattern) > 0\n",
    "len_filter1 = new_descriptions.str.len() < 4 \n",
    "len_filter2 = new_descriptions.str.len() > 0"
   ]
  },
  {
   "cell_type": "code",
   "execution_count": null,
   "metadata": {},
   "outputs": [],
   "source": [
    "descriptions.isna().sum()"
   ]
  },
  {
   "cell_type": "code",
   "execution_count": null,
   "metadata": {},
   "outputs": [],
   "source": [
    "new_descriptions[len_filter1 & len_filter2]"
   ]
  }
 ],
 "metadata": {
  "kernelspec": {
   "display_name": "Rakuten",
   "language": "python",
   "name": "python3"
  },
  "language_info": {
   "codemirror_mode": {
    "name": "ipython",
    "version": 3
   },
   "file_extension": ".py",
   "mimetype": "text/x-python",
   "name": "python",
   "nbconvert_exporter": "python",
   "pygments_lexer": "ipython3",
   "version": "3.8.18"
  }
 },
 "nbformat": 4,
 "nbformat_minor": 2
}
