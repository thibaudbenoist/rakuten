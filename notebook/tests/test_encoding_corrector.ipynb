{
 "cells": [
  {
   "cell_type": "code",
   "execution_count": 1,
   "metadata": {},
   "outputs": [
    {
     "name": "stdout",
     "output_type": "stream",
     "text": [
      "c:\\Users\\mangg\\projects\\RakutenTeam\\notebook\\tests tests\n",
      "C:\\Users\\mangg\\projects\\RakutenTeam\\notebook C:\\Users\\mangg\\projects\\RakutenTeam\\notebook\\data notebook\n",
      "C:\\Users\\mangg\\projects\\RakutenTeam C:\\Users\\mangg\\projects\\RakutenTeam\\data RakutenTeam\n"
     ]
    }
   ],
   "source": [
    "import pandas as pd\n",
    "import numpy as np\n",
    "import os\n",
    "import re\n",
    "\n",
    "BASE_DIR = os.getcwd()\n",
    "DIR_NAME = os.path.basename(BASE_DIR)\n",
    "print(BASE_DIR, DIR_NAME)\n",
    "while DIR_NAME != \"RakutenTeam\": \n",
    "    BASE_DIR = os.path.realpath(os.path.join(os.path.dirname(__name__), '..'))\n",
    "    DIR_NAME = os.path.basename(BASE_DIR)\n",
    "    os.chdir(BASE_DIR)\n",
    "    DATA_DIR = os.path.join(BASE_DIR, 'data')\n",
    "    print( BASE_DIR, DATA_DIR, DIR_NAME)\n"
   ]
  },
  {
   "cell_type": "code",
   "execution_count": 2,
   "metadata": {},
   "outputs": [
    {
     "name": "stdout",
     "output_type": "stream",
     "text": [
      "C:\\Users\\mangg\\projects\\RakutenTeam\\data\\raw\n"
     ]
    }
   ],
   "source": [
    "from src.data_loader import import_data\n",
    "\n",
    "folder_path = os.path.join(DATA_DIR, \"raw\")\n",
    "print(folder_path)"
   ]
  },
  {
   "cell_type": "code",
   "execution_count": 3,
   "metadata": {},
   "outputs": [],
   "source": [
    "df = import_data(folder_path=folder_path)"
   ]
  },
  {
   "cell_type": "code",
   "execution_count": 4,
   "metadata": {},
   "outputs": [],
   "source": [
    "designations = df.designation\n",
    "descriptions = df.description"
   ]
  },
  {
   "cell_type": "code",
   "execution_count": 5,
   "metadata": {},
   "outputs": [
    {
     "name": "stderr",
     "output_type": "stream",
     "text": [
      "C:\\Users\\mangg\\projects\\RakutenTeam\\src\\features\\text\\transformers\\cleaners.py:24: MarkupResemblesLocatorWarning: The input looks more like a filename than markup. You may want to open this file and pass the filehandle into Beautiful Soup.\n",
      "  soup = BeautifulSoup(text, 'html.parser')\n",
      "C:\\Users\\mangg\\projects\\RakutenTeam\\src\\features\\text\\transformers\\cleaners.py:24: MarkupResemblesLocatorWarning: The input looks more like a URL than markup. You may want to use an HTTP client like requests to get the document behind the URL, and feed that document to Beautiful Soup.\n",
      "  soup = BeautifulSoup(text, 'html.parser')\n",
      "C:\\Users\\mangg\\projects\\RakutenTeam\\src\\features\\text\\transformers\\cleaners.py:47: MarkupResemblesLocatorWarning: The input looks more like a filename than markup. You may want to open this file and pass the filehandle into Beautiful Soup.\n",
      "  soup = BeautifulSoup(text, 'lxml')\n",
      "C:\\Users\\mangg\\projects\\RakutenTeam\\src\\features\\text\\transformers\\cleaners.py:47: MarkupResemblesLocatorWarning: The input looks more like a URL than markup. You may want to use an HTTP client like requests to get the document behind the URL, and feed that document to Beautiful Soup.\n",
      "  soup = BeautifulSoup(text, 'lxml')\n"
     ]
    }
   ],
   "source": [
    "from src.features.text.pipelines.cleaner import CleanTextPipeline\n",
    "\n",
    "pipe = CleanTextPipeline()\n",
    "cleaned_descriptions = pipe.fit_transform(descriptions)"
   ]
  },
  {
   "cell_type": "code",
   "execution_count": 6,
   "metadata": {},
   "outputs": [],
   "source": [
    "\n",
    "pattern1 = r'([?¿º¢©́])\\1'\n",
    "pattern2 = r'[å¿]'\n",
    "pattern3 = r\"[?\\s:;\\/\\!]{3,}\"\n",
    "pattern4 = r'\\w*[å¿]\\w*'\n"
   ]
  },
  {
   "cell_type": "code",
   "execution_count": 7,
   "metadata": {},
   "outputs": [
    {
     "data": {
      "text/plain": [
       "(8487.0, 13180.0, 132837.0, 13180.0)"
      ]
     },
     "execution_count": 7,
     "metadata": {},
     "output_type": "execute_result"
    }
   ],
   "source": [
    "cleaned_descriptions.str.count(pattern1).sum(), cleaned_descriptions.str.count(pattern2).sum(), cleaned_descriptions.str.count(pattern3).sum(), cleaned_descriptions.str.count(pattern4).sum()"
   ]
  },
  {
   "cell_type": "code",
   "execution_count": 8,
   "metadata": {},
   "outputs": [
    {
     "name": "stderr",
     "output_type": "stream",
     "text": [
      "Neither PyTorch nor TensorFlow >= 2.0 have been found.Models won't be available and only tokenizers, configurationand file/data utilities can be used.\n"
     ]
    },
    {
     "name": "stdout",
     "output_type": "stream",
     "text": [
      "Badword: roulettes¿une\n",
      " Text to correct: ce produit appartient à la collection jeux de la marque djeco. référence produit . 08466 a propos de la marque . djeco parce que le jeu participe de manière essentielle au développement de l'enfant djeco crée une collection toujours plus ludique éducative et imaginative. fidèle à sa démarche de création artistique djeco fait appel à des illustrateurs talentueux pour enrichir sa collection de jeux et de jouets. depuis sa création la société de jouets djeco accorde une place prépondérante à l'illustration. ainsi est née l'idée de proposer à des illustrateurs d'imaginer la chambre d'enfant de leur rêve et de créer des objets qui suscitent l'imaginaire. grâce à ces créations ludiques et poétiques les enfants mettent en scène leur propre monde. les petits garçons rêveront de partager les aventures extravagantes du chevalier fantastique et de ses drôles de compagnons de route. les petites filles vont se lover avec ravissement dans le royaume féerique de la jolie princesse marguerite écrin si romantique pour rêver du prince charmant. vivre parmi leurs animaux préférés rêve exaucé grâce aux amis d'amazonie. singe facétieux girafe aux petits pois lapin sur roulettes¿une drôle de parade tendre et fantasque. voyager au bout de la terre . la collection d'un monde à l'autre tendre et chaleureuse emmène les enfants dans un merveilleux périple autours du monde.\n",
      "Badword: ¿grimms\n",
      " Text to correct: münzetui in edler mahagonifarbener holzmaserung zur unterbringung der 6 deutschen 20-euro-gedenkmünzen der serie ¿grimms märchen¿ 2018 . 2023 in kapseln. 1 einlage mit blauer veloursartiger oberfläche und 6 runden feldern (ø 375 mm). themenspezifischer deckel- und kissendruck. kennzeichnung der felder mit jahreszahlen 2018 bis 2023. deckelkissen mit blauem satin ausgepolstert. sicherer und unauffälliger magnetverschluss. außenformat: 310 x 93 x 30 mm. kapseln nicht im lieferumfang enthalten.\n",
      "Badword: märchen¿\n",
      " Text to correct: münzetui in edler mahagonifarbener holzmaserung zur unterbringung der 6 deutschen 20-euro-gedenkmünzen der serie ¿grimms märchen¿ 2018 . 2023 in kapseln. 1 einlage mit blauer veloursartiger oberfläche und 6 runden feldern (ø 375 mm). themenspezifischer deckel- und kissendruck. kennzeichnung der felder mit jahreszahlen 2018 bis 2023. deckelkissen mit blauem satin ausgepolstert. sicherer und unauffälliger magnetverschluss. außenformat: 310 x 93 x 30 mm. kapseln nicht im lieferumfang enthalten.\n",
      "Badword: fancier¿all\n",
      " Text to correct: 'to celebrate the 15th birthday of apples to apples the appleversary edition has a fancy black and gold look and is packed with fresh content and exclusive appleversary scoring golden tokens. whether it is your first visit to the apple orchard or youve been drinking the cider for years everyone will find outrageous laughs in the apples to apples 15th appleversary edition it looks a little fancier¿all dressed up in black and gold with updated content to keep things fresh¿but it is still the same classic game play thats sold more than 15 million copies. just play a black apple card from your hand that best matches the white apple card from the judge. if the judge picks your card you win the round each sold separately. colors and decorations may vary.'\n",
      "Badword: fresh¿but\n",
      " Text to correct: 'to celebrate the 15th birthday of apples to apples the appleversary edition has a fancy black and gold look and is packed with fresh content and exclusive appleversary scoring golden tokens. whether it is your first visit to the apple orchard or youve been drinking the cider for years everyone will find outrageous laughs in the apples to apples 15th appleversary edition it looks a little fancier¿all dressed up in black and gold with updated content to keep things fresh¿but it is still the same classic game play thats sold more than 15 million copies. just play a black apple card from your hand that best matches the white apple card from the judge. if the judge picks your card you win the round each sold separately. colors and decorations may vary.'\n",
      "Badword: braxton¿s\n",
      " Text to correct: sommaire revue filigrane n°8 - jazz musiques improvisées et écritures contemporaines pierre michel éditorial jean-marc foltz geste et mémoire chez l'interprète le compositeur et l'improvisateur denis levaillant en lisant en jouant en écrivant stephan oliva comment la musique contemporaine nourrit mes improvisations christa haring anthony braxton¿s ghost trance music . 9 compositions (iridium) 2006 philippe michel jazz et musique occidentale écrite du xxe siècle . convergences et antinomies morphologiques kai lothwesen the role of contemporary music for the development of european improvised music henry fourès ce qu'a vu le cers et à la recherche du rythme perdu deux collaborations avec le compositeur luc ferrari pierre michel die befristeten de bernd alois zimmermann . à propos d'une expérience de reconstitution de la partition et de son interprétation en concert vincenzo caporaletti la théorie des musiques audiotactiles et ses rapports avec les pratiques d'improvisation contemporaines jean-luc guionnet buttes-témoins philippe michel et makis solomos entretien avec vincent lê quang et alexandros markeas comptes rendus de lecture revue en français et anglais\n",
      "Badword: chacqu¿une\n",
      " Text to correct: coque étui spécialement conçu pour la télécommande sans fil de la console ps4. personnalisez chacqu¿une de votre manette. protège et embellit la manette. fait de matériau silicone léger et souple. conçu avec une sangle de sécurité. inclus: 1x etui silicone pour manette ps4. livraison 15 à 25 jours.\n",
      "Badword: arena¿and\n",
      " Text to correct: p bringing the wizard to your i pad unlocks a whole new world of imaginext imagination and adventure to start download the free app. then the choice is up to you ride on a magic cloud & collect gold stars in the flying game. cast spells on opponents in the battle arena¿and more have the ultimate play experience (and add more games) when you bring the wizard to the imaginext apptivity fortress and dont forget to look for the imaginext apptivity archer and troll to unlock additional app content and even more fun (fortress troll and wizard sold separately and subject to availability.)i pad not included.p\n",
      "Badword: tritech¿\n",
      " Text to correct: cette baignoire de spa spa hawaii air jet 54154 de la marque bestway sera un excellent choix pour vous détendre entre amis en hiver comme en été. elle offre une détente luxueuse pour six adultes. fabriquée en matériaux de haute qualité tritech¿ cette baignoire gonflable offre une durabilité et un confort de première qualité. elle offre un rendement élevé par simple pression d'un bouton sur le panneau de commande à toucher doux qui active le système de massage apaisant pour une expérience rafraîchissante. vous pouvez profiter de l'eau à une température allant jusqu'à 40°c. le spa peut être facilement gonflé par la pompe à commande numérique et le raccord d'échappement supplémentaire permet un dégonflage plus rapide du spa lorsque vous le préparez pour le stockage. le couvercle renforcé est équipé des attaches de verrouillage de sécurité et la chambre à air intégrée assure l'isolation. le protecteur de coussin d'air maintient la température de l'eau. il peut être facilement rabattu pour le stockage et le transport lorsqu'il n'est pas utilisé. les 2 poignées faciles à soulever facilitent le déplacement du spa vide. ce spa est doté d'un système de massage qui transformera instantanément votre cour arrière en un centre de villégiature de luxe. couleur . bleu matériau . pvc dimensions extérieures (gonflage) . 180 x 180 x 71 cm (l x l x h) dimensions intérieures (gonflage) . 130 x 130 x 71 cm (l x l x h) capacité d'eau (80 % de remplissage) . 840 litres débit d'eau réel . 1 325 litres . h (350 gal . h) capacité thermique maximale . 40 . (104 ?) alimentation . 220 - 240 v ~ 50 hz système de chauffage . environ 15-20 . h (3-4 . h) avec 120 jets d'air système d'économie d'énergie . système de chauffage à démarrage automatique . arrêt commandé par minuterie système de filtration d'eau intégré sol souple et isolé avec vanne de vidange pratique couvercle renforcé avec des attaches de sécurité et chambre à air intégrée pour l'isolation protecteur de coussin d'air pour maintenir la température de l'eau avec 2 poignées de transport facile un raccord d'échappement supplémentaire permet un dégonflage plus rapide du spa pompe à commande numérique avec panneau de commande tactile la pompe est fournie avec un interrupteur différentiel - courant nominal de fonctionnement résiduel ne dépassant pas 10 ma la livraison comprend . 1 x revêtement de piscine 1 x bâche de piscine 1 x pompe de spa 1 x distributeur chem connect 1 x cartouche filtrante 1 x protecteur de coussin d'air 1 x kit de réparation\n",
      "Badword: bébé¿dormir\n",
      " Text to correct: couverture bébé doublée - rose dimensions . 100x150 cm une petite cachette dans un nid douillet. les grands aimeraient de nouveau ãªtre bébé¿dormir sous ces couvertures de qualité premium 100% coton tissé est simplement un rãªve. doux chaud et rassurant. caractéristiques: 100% coton tissé de qualité premium et 100% polyesterâ 4 designs: indigo blue powder pink fresh mint desert taupe doublé (50% coton 50% polyester) en 100 x 150 cm . avec les fameuses étiquettes snoozebaby instruction de lavage pour courvertures . pour laver votre couverture choisissez le programme 30â°c de votre machine ã laver et utilisez une lessive liquide pour laine.â pour sécher votre couverture essorez-la dans la machine a laver. ensuite etirez-la doucement oour lui redonner sa forme initiale et accrochez-la au fil a linge pour la secher completement.â pour ne prendre aucun risqué il est recommande de laver le couverture avec des couleurs semblables.\n",
      "Badword: surintensit¿s\n",
      " Text to correct: 3.1a 12-24v affichage . led chargeur allume-cigare adaptateur prise cc . 3 prises caractéristiques du produit: le premier allume-cigare avec commutateur de bande limitant le courant et la pression limitant détecteur de tension de batterie double usb avec commutateur indépendant affichage de la tension de la batterie anti-reculration protection intelligente avec clé indépendante dispositif de limitation de courant et de limitation de pression . deux ports prend en charge la charge rapide par surchauffe et protection contre les surintensit¿s et ne br?le jamais une charge intelligente . double puce . haute vitesse description du produit: matériel: abs. tension d'entr¿e: dc12v-24v tension de sortie: 5v puissance de sortie: 3 trous 120w courant de sortie: usb1: 1100ma usb2: 2100ma couleur: noir blanc temp¿rature de fonctionnement: 0 . 40 ¡æ poids: 02 kg taille: 96 * 66 * 31 mm . forfait comprend: 1pcs chargeur de voiture d'affichage . led.\n",
      "Badword: intelligentst¿l\n",
      " Text to correct: cable de chargeur sport-bracelet type-c pour ligne teleuphonique de données cable portabl cable 22.5cm caractéristique robuste & amp; durable vitesse de chargement la vitesse de chargement est plus rapide que celle des cordons conventionnels. ajoutez davantage de confort et de vitesse. bracelet type-c cable chargeur charge rapide pour telphone adaptateur de fil micro portable ligne de données prise en charge de la technologie de charge rapide: qualcomm charge rapide 3.0 qualcomm charge rapide 2.0 nom: bracelet type-c cable type: ligne de cable support: 2.1a port: type longueur: 225 cm matériel: matériau pet cuivre fonction: chargement d'un appareil transfert de données compatibilit . compatible avec la plupart des appareils intelligentstelphones android dot¿s d'un port usb de type c tels que: pour samsung galaxy s9 . s8 fors9 . s8 plus for note9 . 8 forlg g5 g6 . pour huawei p9 p10 mate 9 10 . pour one plus 5 5t . htc 10 . u11 . u11 + autres telphones android de type-c le forfait comprend: 1x cable de charge de qualité premium de type-c\n",
      "Badword: leader¿but\n",
      " Text to correct: p in the time before the dawn the mages of sorcado were locked in a constant struggle for power. they would battle to control monsters and minions. at the end the mage with the greatest fighting force was declared leader¿but that was then. objective players take turns observing and manipulating the field of monsters by peeking at cards and deviously moving the monsters. players strategically place their mage cards to compel monsters to join their army. the mage controlling the strongest force of monsters wins.p\n",
      "Badword: maracan¿\n",
      " Text to correct: description: pas besoin de se rendre dans un stade connu pour vivre un match passionnant . le babyfoot klarfit maracan¿ apporte chez vous le plaisir d'une partie de babyfoot riche en action . le terrain du babyfoot aux dimensions de tournoi habituelles de 118 x 68 cm est doté d'angles parfaitement relevés pour que la balle ne reste pas bloquée. les barres creuses facilement manipulables de 159 mm de diamètre garantissent un jeu toujours parfait avec leurs poignées antidérapantes. et pour un plaisir maximisé les figurines disposent de pieds inclinés tandis que les balles en liège naturel conviennent parfaitement à la réalisation de figures sans faire de bruit. mais ce n'est pas tout . les points forts visuels sont la protection des angles les supports pour boissons les pieds au design chromé et le terrain à motif de gazon réaliste. même les exigences des divers lieux d'installation sont respectées . grâce aux pieds du babyfoot réglables en hauteur les inégalités du sol sont facilement compensées. un babyfoot à la maison quand vous le voulez avec le maracan¿ de klarfit . caractéristiques principales: extrêmement stable . babyfoot avec terrain aux dimensions de tournoi (118 x 68 cm) fabrication robuste . éléments latéraux de 30 mm d'épaisseur terrain de 156 mm d'épaisseur facile à manipuler et durable . barres creuses de 159 mm de diamètre et parois de 2mm d'épaisseur riche en détail . protection des angles support pour boissons et constructions sur pieds réglable en hauteur au design chromé plaisir du jeu . figurines aux pieds inclinés et balles en liège naturel pour réaliser des figures jeu très fluide . terrain de jeu aux angles parfaitement relevés inclus dans la livraison: 1 x babyfoot (kit de montage) manuel d'utilisation inclus dimensions: dimensions . env. 140 x 86 x 75 cm (lx hxp) dimensions terrain . 118 x 68 cm poids . env. 50 kg caractéristiques: pieds réglables en hauteur matériau . mdf poignées antidérapantes balles incluses terrain à motif de gazon\n",
      "Badword: maracan¿\n",
      " Text to correct: description: pas besoin de se rendre dans un stade connu pour vivre un match passionnant . le babyfoot klarfit maracan¿ apporte chez vous le plaisir d'une partie de babyfoot riche en action . le terrain du babyfoot aux dimensions de tournoi habituelles de 118 x 68 cm est doté d'angles parfaitement relevés pour que la balle ne reste pas bloquée. les barres creuses facilement manipulables de 159 mm de diamètre garantissent un jeu toujours parfait avec leurs poignées antidérapantes. et pour un plaisir maximisé les figurines disposent de pieds inclinés tandis que les balles en liège naturel conviennent parfaitement à la réalisation de figures sans faire de bruit. mais ce n'est pas tout . les points forts visuels sont la protection des angles les supports pour boissons les pieds au design chromé et le terrain à motif de gazon réaliste. même les exigences des divers lieux d'installation sont respectées . grâce aux pieds du babyfoot réglables en hauteur les inégalités du sol sont facilement compensées. un babyfoot à la maison quand vous le voulez avec le maracan¿ de klarfit . caractéristiques principales: extrêmement stable . babyfoot avec terrain aux dimensions de tournoi (118 x 68 cm) fabrication robuste . éléments latéraux de 30 mm d'épaisseur terrain de 156 mm d'épaisseur facile à manipuler et durable . barres creuses de 159 mm de diamètre et parois de 2mm d'épaisseur riche en détail . protection des angles support pour boissons et constructions sur pieds réglable en hauteur au design chromé plaisir du jeu . figurines aux pieds inclinés et balles en liège naturel pour réaliser des figures jeu très fluide . terrain de jeu aux angles parfaitement relevés inclus dans la livraison: 1 x babyfoot (kit de montage) manuel d'utilisation inclus dimensions: dimensions . env. 140 x 86 x 75 cm (lx hxp) dimensions terrain . 118 x 68 cm poids . env. 50 kg caractéristiques: pieds réglables en hauteur matériau . mdf poignées antidérapantes balles incluses terrain à motif de gazon\n",
      "Badword: halog¿ne\n",
      " Text to correct: 6w 60led e27 vataux de culture hydroponique lumière panel spectre complet intérieur culture caractéristiques de la lampe: 100% tout neuf de haute qualité de énergie électrique déconomie avec efficacité au niveau supérieur. 1w led peut remplacer la lampe halog¿ne 3.5w hpshidmhincandescent 450nm blue acc¿l¿re la feuille de croissance et plantes poussent 650nm red est la cl¿ pour favoriser la floraison et plantes poussent parfait pour les petits cultivez box grow tentdiy hydroponics bonsai garden etc. confortable humaniste performant sp¿cification: article: brand new led 6w cro?tre lumière chips led: epistar led quantit . 60pcs full spectrum: 40 pcs 650nm rouge + 20 pcs 450nm bleu tension dentr¿e: ac85-265v lumens: 500 de lifespan: 50000 heures type de base: e27 taille: 63mm * 60mm poids: forfait 60g inclus: 1 x 60led lumière\n",
      "Badword: passionnés¿un\n",
      " Text to correct: un thé de première qualité cultivé par des cultivateurs passionnésun thé vert délicieux né d'une nature luxuriante arrosé de bienfaits sur une terre entre mer et montagnes. au commencement les artisans cultivaient le thé pour leur consommation personnelle jusqu'à ce qu'il ait un grand succès auprès de la population et commencèrent à le vendre. son succès fut immédiat et c'est aujourd'hui encore un thé apprécié de toutes les générations et au-delà des frontières.\n",
      "Badword: line¿comprised\n",
      " Text to correct: pdivincrease sight word recognition develop phonics skills improve fluency build vocabulary motivate young readers and provide hands-on reading experiences it includes 250 self-checking puzzle pieces125 word puzzle pieces (approx. 1.5 x 2) and 125 photo puzzle pieces (approx. 2 x 2)and a 4-page booklet with directions teaching suggestions and games. key education products are intended to engage and educate young and special learners as well as assist teachers in building a strong and developmentally appropriate curriculum for these children. the product line¿comprised of teacherparent resource books photographic learning cards and other activity- and game-oriented materials¿is designed to assist in unlocking the potential in every child.divp\n",
      "Badword: materials¿is\n",
      " Text to correct: pdivincrease sight word recognition develop phonics skills improve fluency build vocabulary motivate young readers and provide hands-on reading experiences it includes 250 self-checking puzzle pieces125 word puzzle pieces (approx. 1.5 x 2) and 125 photo puzzle pieces (approx. 2 x 2)and a 4-page booklet with directions teaching suggestions and games. key education products are intended to engage and educate young and special learners as well as assist teachers in building a strong and developmentally appropriate curriculum for these children. the product line¿comprised of teacherparent resource books photographic learning cards and other activity- and game-oriented materials¿is designed to assist in unlocking the potential in every child.divp\n",
      "Badword: sonné¿contenu\n",
      " Text to correct: dans cette suite du chapitre 1 à travers ces 8 nouveaux épisodes vous allez incarner cette fois l'un des quatre membres de l'escadron de combat urbain. vous allez pouvoir fouiller les containers dans le parc tenter d'esquiver les décharges électriques des sentinelles ou la charge des fou-furieux utiliser votre jet pack pour échapper au titan l'heure du combat à sonné¿contenu . 40 figurines 94 cartes de jeu 9 dalles plateau 15 éléments 3d¿peut être joué indépendamment du chapitre 1.\n",
      "Badword: 3d¿peut\n",
      " Text to correct: dans cette suite du chapitre 1 à travers ces 8 nouveaux épisodes vous allez incarner cette fois l'un des quatre membres de l'escadron de combat urbain. vous allez pouvoir fouiller les containers dans le parc tenter d'esquiver les décharges électriques des sentinelles ou la charge des fou-furieux utiliser votre jet pack pour échapper au titan l'heure du combat à sonné¿contenu . 40 figurines 94 cartes de jeu 9 dalles plateau 15 éléments 3d¿peut être joué indépendamment du chapitre 1.\n",
      "Badword: bultex¿\n",
      " Text to correct: garantie 12 ans incluse mecanique a lattes renatonisi matelas bultex¿ inclus fabrication 100% italienne ce canapé 2-3 places premium convertible dispose d'un système ouverture rapido pour une mise en place du lit rapide et aisée sommier à double lattes mécanique brevetée renatonisi aucun coussin a retirer l'ouverture du lit ouverture rapido 120 * 197 cm se fait en quelques secondes sans enlever les coussins d'assise et de dossier. voir la vidéo ci dessous. caractéristiques techniques . - couchage ouverture rapido . 2 personnes 120 x 197 cm. - système ouverture rapido . mécanique renatonisi . couchage double lattes bois large avec renfort central montées sur rotules vissées silentbloc. structure métal galvanisé. - assises . âme en mousse 35kg/m3 hr + surcouche en mousse mémoire de forme 60kg/m3. - dossiers coffre: densité 28 kg/m3 mousse polyuréthane haute résilience + couche acrylique. (coffre de rangement intégré). confort ferme. - accoudoirs . densité 21 kg/m3 mousse polyuréthane haute résilience + couche acrylique. (accoudoirs démontables). - structure . montée sur glissières métallique. carcasse en sapin massif + panneaux de contreplaqué mdf garnie de mousse polyuréthane. - finition . contours et coussins passepoilés. - piétement . pieds métal chromé de forme cylindrique. dimensions . - longueur . 175 cm - profondeur . 95 cm - hauteur d'assise . 50 cm - longueur d'assise . 141 cm - profondeur d'assise . 55 cm - hauteur de dossier: 95 cm - largeur accoudoirs . 17 cm - encombrement du lit ouvert . 223 cm les + produits . - couchage régulieravec matelas très épais de 14 cm. - sommier à lattes renatonisi. - coffre de rangement pour oreillers derrière les dossiers. - assises posées sur sangles pour un confort maximum. - coussins d'assise déhoussables. (lavage à sec) - canapé en grande partie démontable facilite le transport et l'accès des passages étroits. - rangement pour couette et oreillers à l'arrière du dossier tout reste à l'intérieur du canapé. matelas bultex¿ inclus - la célèbre marque bultex ¿ dans votre canapé ouverture rapido gain de place. un confort souple et progressif grâce à la technique exclusive bultex ¿ de mousse latex micro alvéolé. cette technique vous garantie un maintien parfaitement équilibré du corps ainsi qu'une excellente ventilation du matelas. - mousse bultex ¿ haute résilience 50kg/m3 hypoallergénique - traitements anti-acariens et antibacterien - stretch 100% polyester plateau piqué finition silver fresch hypoallergénique. - épaisseur 14 cm - longueur de couchage 200 cm - confort souple tissu microfibre amore . - double épaisseur aspect façon tweed touché ultra doux traité anti-tâche. la microfibre est une grande qualité de revêtement. tissu lavable anti tâche anti transpirant ultra résistant à l'usure et à la déchirure. surface 100% polyester touché alcantara ultra doux trame 90% polyester + 10% coton. dimensions (cm) . l175 x h95 x p95 déplié (cm) . l175 x h50 x p224-\n",
      "Badword: bultex¿\n",
      " Text to correct: garantie 12 ans incluse mecanique a lattes renatonisi matelas bultex¿ inclus fabrication 100% italienne ce canapé 2-3 places premium convertible dispose d'un système ouverture rapido pour une mise en place du lit rapide et aisée sommier à double lattes mécanique brevetée renatonisi aucun coussin a retirer l'ouverture du lit ouverture rapido 120 * 197 cm se fait en quelques secondes sans enlever les coussins d'assise et de dossier. voir la vidéo ci dessous. caractéristiques techniques . - couchage ouverture rapido . 2 personnes 120 x 197 cm. - système ouverture rapido . mécanique renatonisi . couchage double lattes bois large avec renfort central montées sur rotules vissées silentbloc. structure métal galvanisé. - assises . âme en mousse 35kg/m3 hr + surcouche en mousse mémoire de forme 60kg/m3. - dossiers coffre: densité 28 kg/m3 mousse polyuréthane haute résilience + couche acrylique. (coffre de rangement intégré). confort ferme. - accoudoirs . densité 21 kg/m3 mousse polyuréthane haute résilience + couche acrylique. (accoudoirs démontables). - structure . montée sur glissières métallique. carcasse en sapin massif + panneaux de contreplaqué mdf garnie de mousse polyuréthane. - finition . contours et coussins passepoilés. - piétement . pieds métal chromé de forme cylindrique. dimensions . - longueur . 175 cm - profondeur . 95 cm - hauteur d'assise . 50 cm - longueur d'assise . 141 cm - profondeur d'assise . 55 cm - hauteur de dossier: 95 cm - largeur accoudoirs . 17 cm - encombrement du lit ouvert . 223 cm les + produits . - couchage régulieravec matelas très épais de 14 cm. - sommier à lattes renatonisi. - coffre de rangement pour oreillers derrière les dossiers. - assises posées sur sangles pour un confort maximum. - coussins d'assise déhoussables. (lavage à sec) - canapé en grande partie démontable facilite le transport et l'accès des passages étroits. - rangement pour couette et oreillers à l'arrière du dossier tout reste à l'intérieur du canapé. matelas bultex¿ inclus - la célèbre marque bultex ¿ dans votre canapé ouverture rapido gain de place. un confort souple et progressif grâce à la technique exclusive bultex ¿ de mousse latex micro alvéolé. cette technique vous garantie un maintien parfaitement équilibré du corps ainsi qu'une excellente ventilation du matelas. - mousse bultex ¿ haute résilience 50kg/m3 hypoallergénique - traitements anti-acariens et antibacterien - stretch 100% polyester plateau piqué finition silver fresch hypoallergénique. - épaisseur 14 cm - longueur de couchage 200 cm - confort souple tissu microfibre amore . - double épaisseur aspect façon tweed touché ultra doux traité anti-tâche. la microfibre est une grande qualité de revêtement. tissu lavable anti tâche anti transpirant ultra résistant à l'usure et à la déchirure. surface 100% polyester touché alcantara ultra doux trame 90% polyester + 10% coton. dimensions (cm) . l175 x h95 x p95 déplié (cm) . l175 x h50 x p224-\n",
      "Badword: pokémon¿\n",
      " Text to correct: boîte pour cartes à collectionner haute qualité avec revêtement innovant xeno soin et fermeture magnétique. peut contenir jusqu'à 100 cartes de taille standard (magie pokémon¿ et autres) en double pochette ou 120+ cartes en pochette simple.- peut contenir jusqu'à 100 cartes de taille standard en double pochette ou 120+ cartes en pochette simple- fermeture magnétique avec 4 aimants pour une fermeture parfaite et très forte- boîte très robuste pour un maximum de protection- revêtement xeno soin innovant avec texture antidérapante- idéal pour le rangement des cartes à collectionner en pochettes ultimate guard sleeves- taille: env. 104 x 80 x 83 mm\n",
      "Badword: tupperware¿\n",
      " Text to correct: catherine mitchell gentille ménagère de 44 ans abonnée à elle et à tupperware¿ magazine mère de deux charmants adolescents dont l'époux dévoué l'adooore? catherine mitchell n'est plus? n'est plus qu'une grosse salope qui broute les toisons de ses copines et se fait emmancher par des godes taille «?extra king size?». désormais divorcée cathy est relâchée du sanatorium d'hillvale et se tient à la disposition du docteur nelson sa psychologue? jusqu'au jour où stéphanie alias pic-et-pic go-go danseuse qu'elle avait rencontrée au club «?remue ton jelly?» réapparaît?\n",
      "Badword: gathering¿\n",
      " Text to correct: boite de très grande qualité avec texture xeno soin fermeture magnétique et tiroirs pour cartes et dés pour protéger et stocker en qualité archivage jusqu'à 100 cartes de jeu taille standard (comme magic the gathering¿ pokemon¿ et autres) en double pochettes.- peut contenir jusqu'à 100 cartes de taille standard en double pochette ou 120+ cartes en pochette simple- revêtement xeno soin innovant avec texture antidérapante- doublure intérieure en microfibre haute qualité- tiroir pour dés et accessoires amovible- tiroir pour cartes amovible- accès indépendant aux cartes et aux accessoires- 4 aimants pour une fermeture très solide- revêtement double-couche super rigide pour une protection maximum- idéal pour le rangement des cartes en pochettes ultimate guard sleeves- taille: env. 142 x 88 x 91 mm\n",
      "Badword: pokemon¿\n",
      " Text to correct: boite de très grande qualité avec texture xeno soin fermeture magnétique et tiroirs pour cartes et dés pour protéger et stocker en qualité archivage jusqu'à 100 cartes de jeu taille standard (comme magic the gathering¿ pokemon¿ et autres) en double pochettes.- peut contenir jusqu'à 100 cartes de taille standard en double pochette ou 120+ cartes en pochette simple- revêtement xeno soin innovant avec texture antidérapante- doublure intérieure en microfibre haute qualité- tiroir pour dés et accessoires amovible- tiroir pour cartes amovible- accès indépendant aux cartes et aux accessoires- 4 aimants pour une fermeture très solide- revêtement double-couche super rigide pour une protection maximum- idéal pour le rangement des cartes en pochettes ultimate guard sleeves- taille: env. 142 x 88 x 91 mm\n",
      "Badword: xenoskin¿\n",
      " Text to correct: boite de transport et de stockage haut de gamme avec matériau xenoskin¿ fermeture magnétique et tiroir amovible. la solution premium pour protéger votre tapis de jeu!- revêtement xeno skin¿ innovant avec texture antidérapante- doublure intérieure en microfibre haute qualité- avec tiroir pour dés et accessoires amovible- accès indépendant au tapis de jeu et au tiroir pour accessoires- 3 aimants pour une fermeture très solide- revêtement double-couche super rigide pour une protection maximum- taille: env. 402 x 77 x 69 mm découvrez ce produit en vidéo.\n",
      "Badword: sets¿simply\n",
      " Text to correct: an interactive way for individual students to learn and practice key animal plant and ecosystem science concepts and vocabulary on their own best-selling hot dots is available in science card sets¿simply touch the interactive hot dots pen (not included) to the correct answers for an auditory response. six different science sets available.p\n",
      "Badword: reinforcement¿just\n",
      " Text to correct: use as basic flash cards or add the hot dots talking pen for instant reinforcement¿just touch the pen to the correct answer to get a positive response. the plastic storage case makes these great send-home helpers for students needing extra reinforcement.ulli master telling time in no time with hot dots math flash cardslili set includes 50 double-sided cards for 100 interactive time problems.lili use as basic flash cards or add the hot dots talking pen (not included) for instant reinforcement.lili touch the pen to an answer dot for positive reinforcement (correct responses) or gentle redirection (incorrect responses).lili perfect for independent self-paced learning.ul\n",
      "Badword: ph¿nglui\n",
      " Text to correct: n'est pas mort ce qui à jamais dort et au cours des sièclespeut mourir même la mort. le necronomicon cthulhu explore la malignité cosmique de l'oeuvre maîtresse de lovecraft dans les années trente alors que la folie rampante des grands anciens se mêle à la montée cruelle du totalitarisme mondial sous la plume talentueuse et avertie de kenneth hite. le système de jeu détective/gumshoe créé par robin d. laws apporte de la nouveauté dans la conception même des jeux d'enquête. vous pouvez être sûr que lorsque vos investigateurs entreront dans de vieilles fermes sinistres des bibliothèques interdites et des labyrinthes glacés en antarctique ils auront toujours les indices dont ils ont besoin pour avancer dans l'aventure vers la confrontation avec d'antiques vérités fatales pour l'esprit humain. dans cette nouvelle édition vous pouvez choisir votre mode de jeu . une spirale puriste vous entrainant dans la terreur la plus profonde ou une aventure pulp excitante et débridée ou mêler le tout en une aventure haletante et fatale. renforcez vos investigateurs avec 14 motivations irrésistibles pour envoyer vos personnages fouiller cette crypte inquiétante en pleine nuit et plus de 60 compétences allant du mythe de cthulhu aux explosifs pour les aider à en revenir à peu près sains et saufs. vous trouverez dans cet ouvrage trois trames de campagne pour envoyer des érudits en veston de tweed des agents du gouvernement ou des trafiquants dans l'étrange ainsi qu'un scénario d'introduction complet l'horreur de kingsbury . ia ia . cthulhu ftaghn . ph¿nglui mglw¿nafh cthulhu r¿lyeh wgah¿nagl ftaghn\n",
      "Badword: mglw¿nafh\n",
      " Text to correct: n'est pas mort ce qui à jamais dort et au cours des sièclespeut mourir même la mort. le necronomicon cthulhu explore la malignité cosmique de l'oeuvre maîtresse de lovecraft dans les années trente alors que la folie rampante des grands anciens se mêle à la montée cruelle du totalitarisme mondial sous la plume talentueuse et avertie de kenneth hite. le système de jeu détective/gumshoe créé par robin d. laws apporte de la nouveauté dans la conception même des jeux d'enquête. vous pouvez être sûr que lorsque vos investigateurs entreront dans de vieilles fermes sinistres des bibliothèques interdites et des labyrinthes glacés en antarctique ils auront toujours les indices dont ils ont besoin pour avancer dans l'aventure vers la confrontation avec d'antiques vérités fatales pour l'esprit humain. dans cette nouvelle édition vous pouvez choisir votre mode de jeu . une spirale puriste vous entrainant dans la terreur la plus profonde ou une aventure pulp excitante et débridée ou mêler le tout en une aventure haletante et fatale. renforcez vos investigateurs avec 14 motivations irrésistibles pour envoyer vos personnages fouiller cette crypte inquiétante en pleine nuit et plus de 60 compétences allant du mythe de cthulhu aux explosifs pour les aider à en revenir à peu près sains et saufs. vous trouverez dans cet ouvrage trois trames de campagne pour envoyer des érudits en veston de tweed des agents du gouvernement ou des trafiquants dans l'étrange ainsi qu'un scénario d'introduction complet l'horreur de kingsbury . ia ia . cthulhu ftaghn . ph¿nglui mglw¿nafh cthulhu r¿lyeh wgah¿nagl ftaghn\n",
      "Badword: r¿lyeh\n",
      " Text to correct: n'est pas mort ce qui à jamais dort et au cours des sièclespeut mourir même la mort. le necronomicon cthulhu explore la malignité cosmique de l'oeuvre maîtresse de lovecraft dans les années trente alors que la folie rampante des grands anciens se mêle à la montée cruelle du totalitarisme mondial sous la plume talentueuse et avertie de kenneth hite. le système de jeu détective/gumshoe créé par robin d. laws apporte de la nouveauté dans la conception même des jeux d'enquête. vous pouvez être sûr que lorsque vos investigateurs entreront dans de vieilles fermes sinistres des bibliothèques interdites et des labyrinthes glacés en antarctique ils auront toujours les indices dont ils ont besoin pour avancer dans l'aventure vers la confrontation avec d'antiques vérités fatales pour l'esprit humain. dans cette nouvelle édition vous pouvez choisir votre mode de jeu . une spirale puriste vous entrainant dans la terreur la plus profonde ou une aventure pulp excitante et débridée ou mêler le tout en une aventure haletante et fatale. renforcez vos investigateurs avec 14 motivations irrésistibles pour envoyer vos personnages fouiller cette crypte inquiétante en pleine nuit et plus de 60 compétences allant du mythe de cthulhu aux explosifs pour les aider à en revenir à peu près sains et saufs. vous trouverez dans cet ouvrage trois trames de campagne pour envoyer des érudits en veston de tweed des agents du gouvernement ou des trafiquants dans l'étrange ainsi qu'un scénario d'introduction complet l'horreur de kingsbury . ia ia . cthulhu ftaghn . ph¿nglui mglw¿nafh cthulhu r¿lyeh wgah¿nagl ftaghn\n",
      "Badword: wgah¿nagl\n",
      " Text to correct: n'est pas mort ce qui à jamais dort et au cours des sièclespeut mourir même la mort. le necronomicon cthulhu explore la malignité cosmique de l'oeuvre maîtresse de lovecraft dans les années trente alors que la folie rampante des grands anciens se mêle à la montée cruelle du totalitarisme mondial sous la plume talentueuse et avertie de kenneth hite. le système de jeu détective/gumshoe créé par robin d. laws apporte de la nouveauté dans la conception même des jeux d'enquête. vous pouvez être sûr que lorsque vos investigateurs entreront dans de vieilles fermes sinistres des bibliothèques interdites et des labyrinthes glacés en antarctique ils auront toujours les indices dont ils ont besoin pour avancer dans l'aventure vers la confrontation avec d'antiques vérités fatales pour l'esprit humain. dans cette nouvelle édition vous pouvez choisir votre mode de jeu . une spirale puriste vous entrainant dans la terreur la plus profonde ou une aventure pulp excitante et débridée ou mêler le tout en une aventure haletante et fatale. renforcez vos investigateurs avec 14 motivations irrésistibles pour envoyer vos personnages fouiller cette crypte inquiétante en pleine nuit et plus de 60 compétences allant du mythe de cthulhu aux explosifs pour les aider à en revenir à peu près sains et saufs. vous trouverez dans cet ouvrage trois trames de campagne pour envoyer des érudits en veston de tweed des agents du gouvernement ou des trafiquants dans l'étrange ainsi qu'un scénario d'introduction complet l'horreur de kingsbury . ia ia . cthulhu ftaghn . ph¿nglui mglw¿nafh cthulhu r¿lyeh wgah¿nagl ftaghn\n",
      "Badword: bombardement¿lors\n",
      " Text to correct: a propos . au treizième jour de secundus commença le bombardement¿lors de la plus grande trahison que l'univers ait jamais connu le maître de guerre horus . autrefois le plus grand général de l'humanité maintenant corrompu par le chaos . s'est retourné contre l'empereur et a jeté l'imperium dans une guerre civile sans merci. ce conflit galactique est maintenant à son apogée. les légions corrompues du maître de guerre assaillent terra le sanctuaire sacré de l'empereur. le destin de l'humanité se joue ici avec la plus grande campagne militaire de tous les temps. dans le jeu de plateau l'hérésie d'horus cette bataille légendaire se déroule des plaines dévastées de terra jusque dans l'espace glacé juste au-dessus des combattants. contrôlant le camp des loyalistes ou celui des renégats les deux joueurs commandent les légions sans peur de space marines ou leurs anciens frères pervertis par le chaos les puissants titans les armées impériales restées loyales ou ayant rejoint le camp des renégats ainsi qu'une grande variété d'unités et incarnent l'empereur ou horus eux-mêmes . un système novateur d'ordres et d'initiative oblige chaque camp à choisir judicieusement les ordres donnés aux troupes. un système de combat basé sur des cartes donne aux joueurs le choix de répartir leurs ressources entre l'attaque et la défense et apporte des capacités spéciales pour chaque type d'unité des titans capables de détruire les fortifications aux démons pervers du chaos. frère contre frère et l'univers retient son souffle . voici enfin le jeu dont tout fan de warhammer 40.000 rêvait. pouvoir revivre la bataille qui a changé l'univers incarner les deux êtres humains les plus puissants de l'histoire de l'humanité et pourquoi pas voir le chaos triompher!\n",
      "Badword: estuariennes¿la\n",
      " Text to correct: sommaire . dossier pêches estuariennes¿la pêche professionnelle la pêche côtière aux xve et xvie siècles la pêche à pied aux huîtres pêcheur de charme. les carrelets de l'estuaire .. environnement stations botaniques à valeur patrimoniale construire un barrage à l'embouchure de la gironde . .. histoire royan invente la charente-maritime actualité la mise en valeurdu site gallo-romain de plassac.. esturgeons sibériensque deviennent les échappés de 1999 . .écritschez ¿la pomme¿. une visite chez le cordier. tour d'horizon revue de presse.l'estuaire voie maritime brèves d'estuaire..\n",
      "Badword: samantha¿\n",
      " Text to correct: un nouveau bonheur pour samantha¿ amy ruttan samantha n'a qu'une hâte . commencer au plus vite sa nouvelle vie d'infirmière des airs à thunder bay. une nouvelle vie avec son fils adam âgé de dix ans qu'elle élève seule depuis la disparition de son mari des années plus tôt. mais pour cela il faut d'abord qu'elle s'acquitte d'une dernière mission . finir de former george atavik son stagiaire. sauf que dès qu'elle pose les yeux sur ce dernier un curieux trouble s'empare d'elle comme si son coeur dégelait après un trop long hiver. liaison secrète à l'hôpital kate hardy que faire pour oublier l'échec de ses fiançailles si ce n'est danser et boire du champagne le jour initialement prévu pour le mariage ' c'est du moins ce que pense joni lorsqu'elle pénètre dans un club de salsa londonien avec sa meilleure amie. mais l'idée est-elle si bonne ' sur la piste de danse elle rencontre le mystérieux aaron et succombe à son charme sensuel toute la nuit. avant de découvrir dès le lendemain dégrisée et redevenue parfaitement professionnelle que son bel inconnu est le nouveau consultant du service qu'elle dirige à l'hôpital.\n",
      "Badword: skimmer¿\n",
      " Text to correct: idéal pour le contrôle des bondes de fond projecteurs brides de buses niches de skimmer¿ ce kit de détection des fuites contient . 1 valisette de transport . 3 détecteurs de différents diamètres . 40 50 63 mm . 3 bouchons de différents diamètres . 40 50 63 mm . 1 grande coupole de 340mm de diamètre . 1 petite coupole de 180mm de diamètre . 1 mode d'emploi . garantie 2 ans\n",
      "Badword: surintensit¿s\n",
      " Text to correct: manette de jeu sans fil bluetooth jeu de jeu télescopique pour android ios caractéristiques: lecteur de telphone portable match compatible avec ios modèles grand public android connexion bluetooth prise en main ergonomique texture antidérapante sensation mate prise en main . long terme iltante et leare facile . transporter connectez-vous et jouez il vous suffit de connecter le telphone via bluetooth puis vous jouez au pub vous n¡¯avez pas besoin d¡¯application connexion sans fil bluetooth haute vitesse 4.0 bluetooth pas besoin de frapper physiquement l¡¯écran conception creuse qui dissipe la chaleur s¡¯tire davantage 100 000 fois test de dure de vie support longueur de telphone portable 118-170mm epaisseur maximale de support 13mm pas besoin de retirer le bo?tier du telphone support de telphone mobile plein écran pas de blocage de l'écran boucle gauche et droite n'affecte pas la fonction du bouton du telphone longue vie de la batterie pour plus de 10 heures plusieurs circuits de protection protection contre les surintensit¿s protection contre les surtensions sp¿cification: type d'interface: usb couleur: noir matériel: abs wireless prot ocol: compatible bluetooth 3.0 . 4.0 distance: 2-10 m¿tres os: android ios temps d¡¯utilisation continue: environ dix heures courant de travail: 05-12ma courant de coupure: 9ua batterie: batterie au lithium rechargeable 100m ah 37v. emballage inclus: 1 manette de jeu x 1 cable usb 1 x capuchon . bascule\n",
      "Badword: evolve¿and\n",
      " Text to correct: the pokmon legacy evolves. all trainers and pokmon grow and evolve¿and this expansion restores the very first pokmon trading cards to glory with the exhilarating power of mega venusaur-ex mega charizard-ex and mega blastoise-ex plus some wild surprises like dragonite-ex ninetales break machamp break and mega slowbro-ex the classic hard battling pokmon and old-school trainers are reinvented for a new generation. ask professor oak to get you started and reach new heights with the pokmon tcg xy¿evolutions expansion.\n",
      "Badword: xy¿evolutions\n",
      " Text to correct: the pokmon legacy evolves. all trainers and pokmon grow and evolve¿and this expansion restores the very first pokmon trading cards to glory with the exhilarating power of mega venusaur-ex mega charizard-ex and mega blastoise-ex plus some wild surprises like dragonite-ex ninetales break machamp break and mega slowbro-ex the classic hard battling pokmon and old-school trainers are reinvented for a new generation. ask professor oak to get you started and reach new heights with the pokmon tcg xy¿evolutions expansion.\n",
      "Badword: hardr¿de\n",
      " Text to correct: note . nécessite le jeu original sid meier's civilization vi pour fonctionner. code d'activation à utiliser exclusivement sur un compte steam valide connexion internet requise. à propos du jeu imposez votre règne en europe en incarnant un puissant seigneur viking dans un scénario riche en détails pour sid meier's civilization vi. le pack scénario vikings inclut également trois merveilles naturelles et six cités-états additionnelles dont deux proposant de nouveaux aménagements. caractéristiques six nouvelles cités-états . auckland (industrielle) . production améliorée pour les cases côtières. antananarivo (culturelle) . bonus culturel qui croît avec chaque personnage illustre recruté. armagh (religieuse) . possibilité de construire un monastère qui génère de la foi et soigne les unités religieuses. grenade (militaire) . possibilité de construire un alcázar qui protège les unités militaires et génère de la culture. mascate (commerciale) . activités bonus dans les villes dotées d'une plateforme commerciale. palenque (scientifique) . croissance améliorée pour les villes dotées d'un campus. incarnez un grand dirigeant de l'âge sombre dans 'vikings marchands et pillards !' . scénario en 100 tours de 787 à 1087. incarnez harald hardr¿de de norvège le roi danois knut ou olof skötkonung de suède. envahissez l'angleterre par la mer partez à la conquête de paris envoyez un explorateur découvrir le vinland ou naviguez jusqu'à gibraltar pour prendre d'assaut la méditerranée. développez un empire commercial et des villes prospères ou propagez une religion et générez de la foi pour votre peuple. chaque dirigeant est accompagné de sa propre illustration spéciale. trois nouvelles merveilles naturelles . eyjafjallajökull lysefjord chaussée des géants configuration requise windows - minimale système d'exploitation . windows 7 64 bit . 8.1 64 bit . 10 64 bit processeur . intel core i3 25 ghz ou amd phenom ii 26 ghz ou supérieur mémoire . 4 go de ram disque dur . 12 go ou plus carte graphique . 1 go compatible directx 11 (amd 5570 ou n vidia 450 ou intel integrated graphics 530) windows - recommandée système d'exploitation . windows 7 64 bit . 8.1 64 bit . 10 64 bit processeur . intel core i5 25 ghz 4e génération ou amd fx8350 4 ghz ou supérieur mémoire . 8 go de ram disque dur . 12 go ou plus carte graphique . 2 go compatible directx 11 (amd 7970 ou n vidia 770 ou supérieure) 2016 take-two interactive software et ses filiales. sid meier's civilization civilization civ 2k firaxis games take-two interactive software et leurs logos respectifs sont des marques commerciales de take-two interactive software inc. toutes les autres marques et désignations commerciales sont la propriété de leurs détenteurs respectifs. tous droits réservés. l'utilisation de ce produit requiert l'acceptation du contrat de licence suivant :\n",
      "Badword: bultex¿\n",
      " Text to correct: garantie 12 ans incluse mecanique a lattes renatonisi matelas bultex¿ inclus fabrication 100% italienne ce canapé 2-3 places premium convertible dispose d'un système ouverture rapido pour une mise en place du lit rapide et aisée sommier à double lattes mécanique brevetée renatonisi aucun coussin a retirer l'ouverture du lit ouverture rapido 120 * 197 cm se fait en quelques secondes sans enlever les coussins d'assise et de dossier. voir la vidéo ci dessous. caractéristiques techniques . - couchage ouverture rapido . 2 personnes 120 x 197 cm. - système ouverture rapido . mécanique renatonisi . couchage double lattes bois large avec renfort central montées sur rotules vissées silentbloc. structure métal galvanisé. - assises . âme en mousse 35kg/m3 hr + surcouche en mousse mémoire de forme 60kg/m3. - dossiers coffre: densité 28 kg/m3 mousse polyuréthane haute résilience + couche acrylique. (coffre de rangement intégré). confort ferme. - accoudoirs . densité 21 kg/m3 mousse polyuréthane haute résilience + couche acrylique. (accoudoirs démontables). - structure . montée sur glissières métallique. carcasse en sapin massif + panneaux de contreplaqué mdf garnie de mousse polyuréthane. - finition . contours et coussins passepoilés. - piétement . pieds métal chromé de forme cylindrique. dimensions . - longueur . 175 cm - profondeur . 95 cm - hauteur d'assise . 50 cm - longueur d'assise . 141 cm - profondeur d'assise . 55 cm - hauteur de dossier: 95 cm - largeur accoudoirs . 17 cm - encombrement du lit ouvert . 223 cm les + produits . - couchage régulieravec matelas très épais de 14 cm. - sommier à lattes renatonisi. - coffre de rangement pour oreillers derrière les dossiers. - assises posées sur sangles pour un confort maximum. - coussins d'assise déhoussables. (lavage à sec) - canapé en grande partie démontable facilite le transport et l'accès des passages étroits. - rangement pour couette et oreillers à l'arrière du dossier tout reste à l'intérieur du canapé. matelas bultex¿ inclus - la célèbre marque bultex ¿ dans votre canapé ouverture rapido gain de place. un confort souple et progressif grâce à la technique exclusive bultex ¿ de mousse latex micro alvéolé. cette technique vous garantie un maintien parfaitement équilibré du corps ainsi qu'une excellente ventilation du matelas. - mousse bultex ¿ haute résilience 50kg/m3 hypoallergénique - traitements anti-acariens et antibacterien - stretch 100% polyester plateau piqué finition silver fresch hypoallergénique. - épaisseur 14 cm - longueur de couchage 197 cm - confort souple cuir vachette regent . - vachette 1.4/1.6mm d'épaisseur. traitement matifié anti-tache. fleur corrigée pigmentée aux normes européennes. tannage au chrome teinte aniline. epaisseur 14 à 16mm. cuir souple légèrement grainé et mat. dimensions (cm) . l175 x h95 x p95 déplié (cm) . l175 x h50 x p224-\n",
      "Badword: bultex¿\n",
      " Text to correct: garantie 12 ans incluse mecanique a lattes renatonisi matelas bultex¿ inclus fabrication 100% italienne ce canapé 2-3 places premium convertible dispose d'un système ouverture rapido pour une mise en place du lit rapide et aisée sommier à double lattes mécanique brevetée renatonisi aucun coussin a retirer l'ouverture du lit ouverture rapido 120 * 197 cm se fait en quelques secondes sans enlever les coussins d'assise et de dossier. voir la vidéo ci dessous. caractéristiques techniques . - couchage ouverture rapido . 2 personnes 120 x 197 cm. - système ouverture rapido . mécanique renatonisi . couchage double lattes bois large avec renfort central montées sur rotules vissées silentbloc. structure métal galvanisé. - assises . âme en mousse 35kg/m3 hr + surcouche en mousse mémoire de forme 60kg/m3. - dossiers coffre: densité 28 kg/m3 mousse polyuréthane haute résilience + couche acrylique. (coffre de rangement intégré). confort ferme. - accoudoirs . densité 21 kg/m3 mousse polyuréthane haute résilience + couche acrylique. (accoudoirs démontables). - structure . montée sur glissières métallique. carcasse en sapin massif + panneaux de contreplaqué mdf garnie de mousse polyuréthane. - finition . contours et coussins passepoilés. - piétement . pieds métal chromé de forme cylindrique. dimensions . - longueur . 175 cm - profondeur . 95 cm - hauteur d'assise . 50 cm - longueur d'assise . 141 cm - profondeur d'assise . 55 cm - hauteur de dossier: 95 cm - largeur accoudoirs . 17 cm - encombrement du lit ouvert . 223 cm les + produits . - couchage régulieravec matelas très épais de 14 cm. - sommier à lattes renatonisi. - coffre de rangement pour oreillers derrière les dossiers. - assises posées sur sangles pour un confort maximum. - coussins d'assise déhoussables. (lavage à sec) - canapé en grande partie démontable facilite le transport et l'accès des passages étroits. - rangement pour couette et oreillers à l'arrière du dossier tout reste à l'intérieur du canapé. matelas bultex¿ inclus - la célèbre marque bultex ¿ dans votre canapé ouverture rapido gain de place. un confort souple et progressif grâce à la technique exclusive bultex ¿ de mousse latex micro alvéolé. cette technique vous garantie un maintien parfaitement équilibré du corps ainsi qu'une excellente ventilation du matelas. - mousse bultex ¿ haute résilience 50kg/m3 hypoallergénique - traitements anti-acariens et antibacterien - stretch 100% polyester plateau piqué finition silver fresch hypoallergénique. - épaisseur 14 cm - longueur de couchage 197 cm - confort souple cuir vachette regent . - vachette 1.4/1.6mm d'épaisseur. traitement matifié anti-tache. fleur corrigée pigmentée aux normes européennes. tannage au chrome teinte aniline. epaisseur 14 à 16mm. cuir souple légèrement grainé et mat. dimensions (cm) . l175 x h95 x p95 déplié (cm) . l175 x h50 x p224-\n",
      "Badword: ll¿assise\n",
      " Text to correct: louis ghost: un petit fauteuil confortable en polycarbonate transparent et colorédu design louis xv . l'archétype du baroque revisité pour étonner émouvoir fasciner. louis ghost est l'exemple le plus hardi au monde d'injection de polycarbonate en un seule moule. en dépit de son aspect évanescent et cristallin louis ghost est stable résistant aux chocs aux griffures et aux agents atmosphériques empilable jusqu'à six pièces. un modèle extrêmement attrayant et esthétique qui s'intègre avec élégance et ironie dans tout type d'habitation ou d'espace collectif. il cuscino rend encore plus pratique élégante et coordonnable au contexte d'ameublement existant votre chaise kartell. il se fixe à ll¿assise avec un système simple et pratique d'encastrement sans attaaquer la chaise avec des colles ou autres et la préservant ainsi dans le temps. il cuscino suggère relax et praticité . il est souple confortable et facile à enlever il est lavable et la chaise reste utilisable créant un dialogue entre utilisation quotidienne et design. design qualité et praticité . produit uniquement par des artisans italiens et distribué exclusivement par my area design. dimensions de louis ghost kartell:l 54 cm p 55 cm h 94 cm hauteur de selle 47 cmh accoudoirs 67 cm dimensions de \"\"il cuscino\"\" pour louis ghost kartell:l 44 cmp 43 cmh 25 cm\n",
      "Badword: maison¿ça\n",
      " Text to correct: je vends l'édition collector légendaire \"dawn of the creed\" de assassin's creed origin sur xbox one. cette édition est limitée à 1000 exemplaires dans le monde et est en rupture de stock partout. la figurine (de 73cm tout de même . ) n'a été sortie et monté qu'une seule fois avant d'être remise dans la boite avant que ma chère et tendre moitié me fasse clairement comprendre que ça n'allait pas être possible de garder ça à la maison¿ça m'apprendra à me faire plaisir avant d'en discuter avec elle¿\n",
      "Badword: packaging¿\n",
      " Text to correct: devant épaisseur 6 mm et corps 2 mm serrure électronique et clé d'urgence pênes en acier nickelé fermeture éclair spécial indéchirable pour permettre l'ouverture à large contenu du packaging¿¯: coffre-fort 2 clés de secours 4 piles type . outils et accessoires date de sortie . 2013-11-27 fabricant . domus\n",
      "Badword: 10l¿exposition\n",
      " Text to correct: sommaire . le château de clères par henry fuchs.. 3les plantes vivaces par georges truffaut____ 10l¿exposition d'automne de la société nationale d'horticulture de france 26/10 4/11/34 par henry fuchs 13les iv« floralies valenciennoises 20-29 octobre 1934 16l¿amandier en provence par raoul arnaud.. 20la pomme de terre par pierre leboucher____ 24la construction des serres par g. bloch et l. praeger .. 26les tenthrèdes ou « mouches à scie » nuisiblesaux arbres fruitiers par fred féraud . 28la basse-cour familiale. la maladie du gros ventre ou coccidiose du lapin par jacques brès 32informations et nouvelles . 1la technique de l'emploi des engrais dans les jardins par georges truffaut . ivles conseils journaliers viiconseils pratiques pour les jardins du midi de la france par raoul arnaud ixles recettes de tante armelle * xiia chacun son droit par abel beckerich xivpour lire au coin du feu par jean-bernard las-serre .. xv\n",
      "Badword: 16l¿amandier\n",
      " Text to correct: sommaire . le château de clères par henry fuchs.. 3les plantes vivaces par georges truffaut____ 10l¿exposition d'automne de la société nationale d'horticulture de france 26/10 4/11/34 par henry fuchs 13les iv« floralies valenciennoises 20-29 octobre 1934 16l¿amandier en provence par raoul arnaud.. 20la pomme de terre par pierre leboucher____ 24la construction des serres par g. bloch et l. praeger .. 26les tenthrèdes ou « mouches à scie » nuisiblesaux arbres fruitiers par fred féraud . 28la basse-cour familiale. la maladie du gros ventre ou coccidiose du lapin par jacques brès 32informations et nouvelles . 1la technique de l'emploi des engrais dans les jardins par georges truffaut . ivles conseils journaliers viiconseils pratiques pour les jardins du midi de la france par raoul arnaud ixles recettes de tante armelle * xiia chacun son droit par abel beckerich xivpour lire au coin du feu par jean-bernard las-serre .. xv\n",
      "Badword: venu¿vous\n",
      " Text to correct: il y a très longtemps les necrons régnaient sur la galaxie en suzerains immortels avant que le cours du temps et les plaies de la guerre les poussent à se mettre en hibernation. leurs armées dormirent des millions d'années en rangs innombrables de guerriers immortels conservés en stase jusqu'au jour où les necrons domineraient de nouveau les étoiles. ce moment est enfin venu¿vous trouverez dans ce codex de 120 pages à couverture rigide l'histoire des necrons: légions des necrons: l'his\n",
      "Badword: chaqu¿une\n",
      " Text to correct: spécialement conçu pour la manette sans fil de la console ps4. personnalisez chaqu¿une de votre manette. protège et embellit la manette. fait de matériaux en silicone léger et souple. inclus: 1x etui silicone pour manette sans fil ps4. 2x anneau de protection. livraison 15 à 25 jours.\n",
      "Badword: ravenloft¿\n",
      " Text to correct: d&d4 - castle ravenloft board gamethe dungeons & dragons: castle ravenloft¿ board game is a cooperative adventure game. you and your fellow heroes must work as a team to succeed in the adventures that unfold within the castle. you either win together or lose together. each player selects a hero who has come to barovia to discover the secrets of castle ravenloft. choose from the dragonborn fighter human rogue dwarf cleric eladrin wizard and human ranger. heroes explore the dungeons beneath the castle solve mysteries fight monsters and uncover magic treasure. the game runs the traps events monsters and villains contained within the halls of castle ravenloft (with a little help from you). la video des regles . une partie en solo :\n",
      "Badword: bultex¿\n",
      " Text to correct: garantie 12 ans incluse mecanique a lattes renatonisi matelas bultex¿ inclus fabrication 100% italienne ce canapé 3 places premium convertible dispose d'un système ouverture rapido pour une mise en place du lit rapide et aisée sommier à double lattes mécanique brevetée renatonisi aucun coussin a retirer l'ouverture du lit ouverture rapido 140 * 197 cm se fait en quelques secondes sans enlever les coussins d'assise et de dossier. caractéristiques techniques . - couchage ouverture rapido . 2 personnes 140 x 197 cm. - système ouverture rapido . mécanique renatonisi . couchage double lattes bois large avec renfort central montées sur rotules vissées silentbloc. structure métal galvanisé. - assises . âme en mousse 35kg/m3 hr + surcouche en mousse mémoire de forme 60kg/m3. - dossiers coffre: densité 28 kg/m3 mousse polyuréthane haute résilience + couche acrylique. (coffre de rangement intégré). confort ferme. - accoudoirs . densité 21 kg/m3 mousse polyuréthane haute résilience + couche acrylique. (accoudoirs démontables). - structure . montée sur glissières métallique. carcasse en sapin massif + panneaux de contreplaqué mdf garnie de mousse polyuréthane. - finition . contours et coussins passepoilés. - piétement . pieds métal chromé de forme cylindrique. dimensions . - longueur . 195 cm. - profondeur . 95 cm. - hauteur d'assise . 50 cm. - longueur d'assise . 161 cm. - profondeur d'assise . 55 cm. - hauteur de dossier: 95 cm. - largeur accoudoirs . 17 cm. - encombrement du lit ouvert . 223 cm. fabrication 100% italienne. les + produits . - couchage régulieravec matelas très épais de 14 cm. - sommier à lattes renatonisi. - coffre de rangement pour oreillers derrière les dossiers. - assises posées sur sangles pour un confort maximum. - coussins d'assise déhoussables. (lavage à sec) - canapé en grande partie démontable facilite le transport et l'accès des passages étroits. - rangement pour couette et oreillers à l'arrière du dossier tout reste à l'intérieur du canapé. matelas bultex¿ inclus - la célèbre marque bultex ¿ dans votre canapé ouverture rapido gain de place. un confort souple et progressif grâce à la technique exclusive bultex ¿ de mousse latex micro alvéolé. cette technique vous garantie un maintien parfaitement équilibré du corps ainsi qu'une excellente ventilation du matelas. - mousse bultex ¿ haute résilience 50kg/m3 hypoallergénique - traitements anti-acariens et antibacterien - stretch 100% polyester plateau piqué finition silver fresch hypoallergénique. - épaisseur 14 cm - longueur de couchage 197 cm - confort souple tweed luna: - 100% polyester aspect tweed lin traité anti-tâche. dimensions (cm) . l195 x h95 x p95 déplié (cm) . l195 x h50 x p224-\n",
      "Badword: bultex¿\n",
      " Text to correct: garantie 12 ans incluse mecanique a lattes renatonisi matelas bultex¿ inclus fabrication 100% italienne ce canapé 3 places premium convertible dispose d'un système ouverture rapido pour une mise en place du lit rapide et aisée sommier à double lattes mécanique brevetée renatonisi aucun coussin a retirer l'ouverture du lit ouverture rapido 140 * 197 cm se fait en quelques secondes sans enlever les coussins d'assise et de dossier. caractéristiques techniques . - couchage ouverture rapido . 2 personnes 140 x 197 cm. - système ouverture rapido . mécanique renatonisi . couchage double lattes bois large avec renfort central montées sur rotules vissées silentbloc. structure métal galvanisé. - assises . âme en mousse 35kg/m3 hr + surcouche en mousse mémoire de forme 60kg/m3. - dossiers coffre: densité 28 kg/m3 mousse polyuréthane haute résilience + couche acrylique. (coffre de rangement intégré). confort ferme. - accoudoirs . densité 21 kg/m3 mousse polyuréthane haute résilience + couche acrylique. (accoudoirs démontables). - structure . montée sur glissières métallique. carcasse en sapin massif + panneaux de contreplaqué mdf garnie de mousse polyuréthane. - finition . contours et coussins passepoilés. - piétement . pieds métal chromé de forme cylindrique. dimensions . - longueur . 195 cm. - profondeur . 95 cm. - hauteur d'assise . 50 cm. - longueur d'assise . 161 cm. - profondeur d'assise . 55 cm. - hauteur de dossier: 95 cm. - largeur accoudoirs . 17 cm. - encombrement du lit ouvert . 223 cm. fabrication 100% italienne. les + produits . - couchage régulieravec matelas très épais de 14 cm. - sommier à lattes renatonisi. - coffre de rangement pour oreillers derrière les dossiers. - assises posées sur sangles pour un confort maximum. - coussins d'assise déhoussables. (lavage à sec) - canapé en grande partie démontable facilite le transport et l'accès des passages étroits. - rangement pour couette et oreillers à l'arrière du dossier tout reste à l'intérieur du canapé. matelas bultex¿ inclus - la célèbre marque bultex ¿ dans votre canapé ouverture rapido gain de place. un confort souple et progressif grâce à la technique exclusive bultex ¿ de mousse latex micro alvéolé. cette technique vous garantie un maintien parfaitement équilibré du corps ainsi qu'une excellente ventilation du matelas. - mousse bultex ¿ haute résilience 50kg/m3 hypoallergénique - traitements anti-acariens et antibacterien - stretch 100% polyester plateau piqué finition silver fresch hypoallergénique. - épaisseur 14 cm - longueur de couchage 197 cm - confort souple tweed luna: - 100% polyester aspect tweed lin traité anti-tâche. dimensions (cm) . l195 x h95 x p95 déplié (cm) . l195 x h50 x p224-\n",
      "Badword: glassg¿rden\n",
      " Text to correct: crâne automatique à l'intérieur glassg¿rden d'arrosage dispositif d'arrosage usine feature: la main la main-soufflé de haute qualité article: arrosage automatique matériel: verre borosilicate processus: artificial souffle de chaleur: - 20 . ~ 150 taille: environ 27x7.5cm couleur: effacer toutes les photos de produits sont physique l'éclairage les différences de moniteur informatique conduisent à des différences de couleurs et de produits réels ne correspondent pas. la couleur finale sera basée sur le produit réel. remarque: les entrée et la sortie sont de petits trous vous devez donc être patient lors de l'arrosage. pour éviter le sol est dans le tube le fond du tube avec de la gaze avant de l'insérer dans le sol. le forfait comprend: 1x jardin verre d'arrosage sprinkler\n",
      "Badword: ll¿assise\n",
      " Text to correct: victoria ghost: une chaise née de lignes classiques le dossier arrondi rappelle la forme des médaillons anciens tandis que le siège est linéaire et géométrique. victoria ghost est réalisée en polycarbonate transparent ou coloré en un moule unique à injection. stable et confortable elle ne craint ni les griffures ni les chocs et résiste aux agents atmosphériques. encore une chaise réalisée grâce au savoir-faire technologique que kartell a développé au fil des ans créant des objets qui l'ont rendue célèbre dans le monde entier. un modèle irresistible qui s'imposera avec élégance quelque soit le type d'ameublement. chaise empilable. il cuscino rend encore plus pratique élégante et coordonnable au contexte d'ameublement existant votre chaise kartell. il se fixe à ll¿assise avec un système simple et pratique d'encastrement sans attaaquer la chaise avec des colles ou autres et la préservant ainsi dans le temps. il cuscino suggère relax et praticité . il est souple confortable et facile à enlever il est lavable et la chaise reste utilisable créant un dialogue entre utilisation quotidienne et design. design qualité et praticité . produit uniquement par des artisans italiens et distribué exclusivement par my area design. dimensions de victoria ghost kartell:l 38 cm p 52 cm a 89 cm hauteur de selle: 46 cm dimensions de \"\"il cuscino\"\" pour victoria ghost kartell:l 34 cmp 40 cma 25 cm\n",
      "Badword: ame¿rique\n",
      " Text to correct: destiné aux randonneurs et de manière générale à tous les amateurs de ces montagnes lointaines la collection « les andes guide de trekking » reprend les plus beaux itinéraires de trekking des andes et de patagonie ainsi que les voies d'ascension des principaux «sommets de trekking» faciles de la cordillère. au total plus de 35 itinéraires décrits en détail avec de multiples variantes. les milliers d’informations précises contenues dans cette collection aideront tous ceux qui désirent approcher la montagne en amérique du sud dans la préparation et l’organisation de leur voyage. elles permettront également à tous ceux qui souhaitent voyager dans les andes en dehors des sentiers battus de découvrir des régions reculées dont aucun autre guide ne parle. dans ce tome retrouvez toutes les informations concernant les hautes andes. à propos de l’auteur instructeur de montagne professionnel john biggar grimpe régulier̀rement dans les andes depuis une quinzaine d’annexes. lorsqu’il n’est pas en ame¿rique du sud il vit à castle douglas en e¿cosse où il dirige andes une agence de voyages spe¿cialise¿e en trekking alpinisme et ski dans les andes.\n"
     ]
    }
   ],
   "source": [
    "from src.features.text.pipelines.corrector import CleanEncodingPipeline\n",
    "\n",
    "encoding_pipeline = CleanEncodingPipeline()\n",
    "\n",
    "corrected_descriptions = encoding_pipeline.fit_transform(cleaned_descriptions)"
   ]
  },
  {
   "cell_type": "code",
   "execution_count": 9,
   "metadata": {},
   "outputs": [
    {
     "data": {
      "text/plain": [
       "(0.0, 0.0, 1.0, 0.0)"
      ]
     },
     "execution_count": 9,
     "metadata": {},
     "output_type": "execute_result"
    }
   ],
   "source": [
    "corrected_descriptions.str.count(pattern1).sum(), corrected_descriptions.str.count(pattern2).sum(), corrected_descriptions.str.count(pattern3).sum(),  corrected_descriptions.str.count(pattern4).sum()\n"
   ]
  },
  {
   "cell_type": "code",
   "execution_count": 10,
   "metadata": {},
   "outputs": [],
   "source": [
    "k = 5\n",
    "selected_filter = corrected_descriptions.str.count(pattern2) > 0"
   ]
  },
  {
   "cell_type": "code",
   "execution_count": null,
   "metadata": {},
   "outputs": [],
   "source": [
    "phrase"
   ]
  },
  {
   "cell_type": "code",
   "execution_count": 12,
   "metadata": {},
   "outputs": [
    {
     "data": {
      "text/plain": [
       "25"
      ]
     },
     "execution_count": 12,
     "metadata": {},
     "output_type": "execute_result"
    }
   ],
   "source": [
    "accent_pattern = r\"ã\"\n",
    "accent_pattern_filter = corrected_descriptions.str.count(accent_pattern) > 0\n",
    "corrected_descriptions[accent_pattern_filter].count()\n",
    "#corrected_descriptions.str.findall(accent_pattern)"
   ]
  },
  {
   "cell_type": "code",
   "execution_count": null,
   "metadata": {},
   "outputs": [],
   "source": [
    "from src.features.text.transformers.encoding_corrector import BadWordsDetector, BadWordsCorrector, PySpellCorrector\n",
    "\n",
    "corrector = PySpellCorrector()\n",
    "corrected_text = corrector.fit_transform(corrected_descriptions)"
   ]
  },
  {
   "cell_type": "code",
   "execution_count": null,
   "metadata": {},
   "outputs": [],
   "source": [
    "pattern_filter = corrected_descriptions.str.count(search_pattern) > 0\n",
    "#bad_words[pattern_filter]\n",
    "#new_df = pd.DataFrame({\"description\": corrected_descriptions, \"bad_words\": bad_words})"
   ]
  },
  {
   "cell_type": "code",
   "execution_count": null,
   "metadata": {},
   "outputs": [],
   "source": [
    "corrected_text[pattern_filter]"
   ]
  },
  {
   "cell_type": "code",
   "execution_count": null,
   "metadata": {},
   "outputs": [],
   "source": [
    "corrected_text.str.count(pattern1).sum(), corrected_text.str.count(pattern2).sum(), corrected_text.str.count(pattern3).sum(),  corrected_text.str.count(pattern4).sum()\n"
   ]
  },
  {
   "cell_type": "code",
   "execution_count": null,
   "metadata": {},
   "outputs": [],
   "source": [
    "corrected_text"
   ]
  },
  {
   "cell_type": "code",
   "execution_count": null,
   "metadata": {},
   "outputs": [],
   "source": [
    "last_pattern = r\"\\w*[©́]+\"\n",
    "#corrected_text.str.findall(last_pattern)\n",
    "last_pattern_filter =  corrected_text.str.count(last_pattern) > 0\n",
    "corrected_text.str.count(last_pattern).sum()"
   ]
  },
  {
   "cell_type": "code",
   "execution_count": null,
   "metadata": {},
   "outputs": [],
   "source": [
    "indexes = corrected_text.str.findall(last_pattern)[last_pattern_filter].index"
   ]
  },
  {
   "cell_type": "code",
   "execution_count": null,
   "metadata": {},
   "outputs": [],
   "source": [
    "corrected_text[indexes].iloc[1]"
   ]
  },
  {
   "cell_type": "code",
   "execution_count": null,
   "metadata": {},
   "outputs": [],
   "source": [
    "from src.features.text.transformers.encoding_corrector import SpaceReplacement\n",
    "\n",
    "replacer = SpaceReplacement()\n",
    "final_text = replacer.fit_transform(corrected_text)"
   ]
  },
  {
   "cell_type": "code",
   "execution_count": null,
   "metadata": {},
   "outputs": [],
   "source": [
    "final_text.str.count(pattern1).sum(), final_text.str.count(pattern2).sum(), final_text.str.count(pattern3).sum(),  final_text.str.count(pattern4).sum()\n",
    "final_text.str.findall(last_pattern)[last_pattern_filter].to_list()\n"
   ]
  }
 ],
 "metadata": {
  "kernelspec": {
   "display_name": "Rakuten",
   "language": "python",
   "name": "python3"
  },
  "language_info": {
   "codemirror_mode": {
    "name": "ipython",
    "version": 3
   },
   "file_extension": ".py",
   "mimetype": "text/x-python",
   "name": "python",
   "nbconvert_exporter": "python",
   "pygments_lexer": "ipython3",
   "version": "3.8.18"
  }
 },
 "nbformat": 4,
 "nbformat_minor": 2
}
