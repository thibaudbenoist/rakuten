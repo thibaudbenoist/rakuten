{
 "cells": [
  {
   "cell_type": "code",
   "execution_count": 1,
   "metadata": {},
   "outputs": [
    {
     "name": "stdout",
     "output_type": "stream",
     "text": [
      "c:\\Users\\mangg\\projects\\RakutenTeam\\notebook\\tests tests\n",
      "C:\\Users\\mangg\\projects\\RakutenTeam\\notebook C:\\Users\\mangg\\projects\\RakutenTeam\\notebook\\data notebook\n",
      "C:\\Users\\mangg\\projects\\RakutenTeam C:\\Users\\mangg\\projects\\RakutenTeam\\data RakutenTeam\n"
     ]
    }
   ],
   "source": [
    "import pandas as pd\n",
    "import numpy as np\n",
    "import os\n",
    "import re\n",
    "\n",
    "BASE_DIR = os.getcwd()\n",
    "DIR_NAME = os.path.basename(BASE_DIR)\n",
    "print(BASE_DIR, DIR_NAME)\n",
    "while DIR_NAME != \"RakutenTeam\": \n",
    "    BASE_DIR = os.path.realpath(os.path.join(os.path.dirname(__name__), '..'))\n",
    "    DIR_NAME = os.path.basename(BASE_DIR)\n",
    "    os.chdir(BASE_DIR)\n",
    "    DATA_DIR = os.path.join(BASE_DIR, 'data')\n",
    "    print( BASE_DIR, DATA_DIR, DIR_NAME)"
   ]
  },
  {
   "cell_type": "code",
   "execution_count": 2,
   "metadata": {},
   "outputs": [
    {
     "name": "stdout",
     "output_type": "stream",
     "text": [
      "C:\\Users\\mangg\\projects\\RakutenTeam\\data\\clean\n"
     ]
    }
   ],
   "source": [
    "from src.data_loader import import_data\n",
    "\n",
    "folder_path = os.path.join(DATA_DIR, \"clean\")\n",
    "print(folder_path)"
   ]
  },
  {
   "cell_type": "code",
   "execution_count": 3,
   "metadata": {},
   "outputs": [
    {
     "name": "stdout",
     "output_type": "stream",
     "text": [
      "<class 'pandas.core.frame.DataFrame'>\n",
      "Index: 84916 entries, 0 to 84915\n",
      "Data columns (total 8 columns):\n",
      " #   Column                  Non-Null Count  Dtype \n",
      "---  ------                  --------------  ----- \n",
      " 0   prdtypecode             84916 non-null  int64 \n",
      " 1   designation             84916 non-null  object\n",
      " 2   description             54965 non-null  object\n",
      " 3   productid               84916 non-null  int64 \n",
      " 4   imageid                 84916 non-null  int64 \n",
      " 5   language                84916 non-null  object\n",
      " 6   designation_translated  84916 non-null  object\n",
      " 7   description_translated  54965 non-null  object\n",
      "dtypes: int64(3), object(5)\n",
      "memory usage: 7.8+ MB\n"
     ]
    }
   ],
   "source": [
    "df = import_data(folder_path=folder_path)\n",
    "df.info()"
   ]
  },
  {
   "cell_type": "code",
   "execution_count": 4,
   "metadata": {},
   "outputs": [],
   "source": [
    "\n",
    "from src.features.images.transformers.path_finder import PathFinder"
   ]
  },
  {
   "cell_type": "code",
   "execution_count": 10,
   "metadata": {},
   "outputs": [
    {
     "data": {
      "text/html": [
       "<div>\n",
       "<style scoped>\n",
       "    .dataframe tbody tr th:only-of-type {\n",
       "        vertical-align: middle;\n",
       "    }\n",
       "\n",
       "    .dataframe tbody tr th {\n",
       "        vertical-align: top;\n",
       "    }\n",
       "\n",
       "    .dataframe thead th {\n",
       "        text-align: right;\n",
       "    }\n",
       "</style>\n",
       "<table border=\"1\" class=\"dataframe\">\n",
       "  <thead>\n",
       "    <tr style=\"text-align: right;\">\n",
       "      <th></th>\n",
       "      <th>productid</th>\n",
       "      <th>imageid</th>\n",
       "      <th>path</th>\n",
       "    </tr>\n",
       "  </thead>\n",
       "  <tbody>\n",
       "    <tr>\n",
       "      <th>0</th>\n",
       "      <td>3804725264</td>\n",
       "      <td>1263597046</td>\n",
       "      <td>xxx\\image_1263597046_product_3804725264.jpg</td>\n",
       "    </tr>\n",
       "    <tr>\n",
       "      <th>1</th>\n",
       "      <td>436067568</td>\n",
       "      <td>1008141237</td>\n",
       "      <td>xxx\\image_1008141237_product_436067568.jpg</td>\n",
       "    </tr>\n",
       "    <tr>\n",
       "      <th>2</th>\n",
       "      <td>201115110</td>\n",
       "      <td>938777978</td>\n",
       "      <td>xxx\\image_938777978_product_201115110.jpg</td>\n",
       "    </tr>\n",
       "    <tr>\n",
       "      <th>3</th>\n",
       "      <td>50418756</td>\n",
       "      <td>457047496</td>\n",
       "      <td>xxx\\image_457047496_product_50418756.jpg</td>\n",
       "    </tr>\n",
       "  </tbody>\n",
       "</table>\n",
       "</div>"
      ],
      "text/plain": [
       "    productid     imageid                                         path\n",
       "0  3804725264  1263597046  xxx\\image_1263597046_product_3804725264.jpg\n",
       "1   436067568  1008141237   xxx\\image_1008141237_product_436067568.jpg\n",
       "2   201115110   938777978    xxx\\image_938777978_product_201115110.jpg\n",
       "3    50418756   457047496     xxx\\image_457047496_product_50418756.jpg"
      ]
     },
     "execution_count": 10,
     "metadata": {},
     "output_type": "execute_result"
    }
   ],
   "source": [
    "finder = PathFinder(\"xxx\")\n",
    "\n",
    "df[\"path\"] = finder.fit_transform(df)\n",
    "df[[\"productid\", \"imageid\", \"path\"]].head(4)"
   ]
  }
 ],
 "metadata": {
  "kernelspec": {
   "display_name": "Rakuten",
   "language": "python",
   "name": "python3"
  },
  "language_info": {
   "codemirror_mode": {
    "name": "ipython",
    "version": 3
   },
   "file_extension": ".py",
   "mimetype": "text/x-python",
   "name": "python",
   "nbconvert_exporter": "python",
   "pygments_lexer": "ipython3",
   "version": "3.8.18"
  }
 },
 "nbformat": 4,
 "nbformat_minor": 2
}
