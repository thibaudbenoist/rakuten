{
 "cells": [
  {
   "cell_type": "code",
   "execution_count": 12,
   "metadata": {},
   "outputs": [],
   "source": [
    "# !conda install anaconda::gensim anaconda::word2vec"
   ]
  },
  {
   "cell_type": "code",
   "execution_count": 1,
   "metadata": {},
   "outputs": [
    {
     "name": "stdout",
     "output_type": "stream",
     "text": [
      "/home/thibaud/repos/anaconda/rakuten\n"
     ]
    }
   ],
   "source": [
    "import os\n",
    "import sys\n",
    "module_path = os.path.abspath(os.path.join('../../'))\n",
    "print(module_path)\n",
    "if module_path not in sys.path:\n",
    "    sys.path.append(module_path)\n"
   ]
  },
  {
   "cell_type": "code",
   "execution_count": 5,
   "metadata": {},
   "outputs": [
    {
     "data": {
      "text/plain": [
       "array([[ 0.05982035,  0.09838185,  0.06917191, ...,  0.05090243,\n",
       "        -0.10930908,  0.0078783 ],\n",
       "       [-0.06878486,  0.11093006,  0.07835457, ..., -0.04340487,\n",
       "         0.00344066,  0.01581132],\n",
       "       [ 0.08611656,  0.08258215,  0.16130045, ...,  0.05763891,\n",
       "        -0.06197305,  0.05372604],\n",
       "       [ 0.08641973,  0.13363554,  0.08207259, ...,  0.0698195 ,\n",
       "        -0.04664866,  0.03083537],\n",
       "       [ 0.11052009,  0.11030719,  0.12731043, ...,  0.00207483,\n",
       "        -0.08320189,  0.05718572]])"
      ]
     },
     "execution_count": 5,
     "metadata": {},
     "output_type": "execute_result"
    }
   ],
   "source": [
    "from src.text.skipgram_vectorizer import SkipGramVectorizer\n",
    "import pandas as pd\n",
    "\n",
    "sk = SkipGramVectorizer()\n",
    "df = pd.read_csv('../../data/clean/df_train_index.csv')\n",
    "df.head()\n",
    "v = sk.fit_transform(df['designation_translated'])\n",
    "v[:5]\n"
   ]
  },
  {
   "cell_type": "code",
   "execution_count": 6,
   "metadata": {},
   "outputs": [
    {
     "data": {
      "text/plain": [
       "array([[ 0.28918967,  0.20383185,  0.55953479, ..., -0.10923986,\n",
       "        -0.37743664,  0.16602239],\n",
       "       [ 0.12924936,  0.02233492,  0.58529353, ..., -0.07380056,\n",
       "        -0.40188086, -0.08701956],\n",
       "       [ 0.30598024,  0.10638649,  0.46214154, ...,  0.03047218,\n",
       "        -0.28158015,  0.32724765],\n",
       "       [ 0.35854959,  0.20398721,  0.51085371, ..., -0.03429563,\n",
       "        -0.4347766 ,  0.3951318 ],\n",
       "       [ 0.19219336,  0.12411448,  0.32674634, ..., -0.03051375,\n",
       "        -0.19803014,  0.18895806]])"
      ]
     },
     "execution_count": 6,
     "metadata": {},
     "output_type": "execute_result"
    }
   ],
   "source": [
    "from src.text.cbow_vectorizer import CBowVectorizer\n",
    "import pandas as pd\n",
    "\n",
    "cb = CBowVectorizer()\n",
    "df = pd.read_csv('../../data/clean/df_train_index.csv')\n",
    "df.head()\n",
    "v = cb.fit_transform(df['designation_translated'])\n",
    "v[:5]\n",
    "\n",
    "df_test = pd.read_csv('../../data/clean/df_test_index.csv')"
   ]
  },
  {
   "cell_type": "code",
   "execution_count": null,
   "metadata": {},
   "outputs": [],
   "source": []
  }
 ],
 "metadata": {
  "kernelspec": {
   "display_name": "tensorflow",
   "language": "python",
   "name": "python3"
  },
  "language_info": {
   "codemirror_mode": {
    "name": "ipython",
    "version": 3
   },
   "file_extension": ".py",
   "mimetype": "text/x-python",
   "name": "python",
   "nbconvert_exporter": "python",
   "pygments_lexer": "ipython3",
   "version": "3.9.18"
  }
 },
 "nbformat": 4,
 "nbformat_minor": 2
}
