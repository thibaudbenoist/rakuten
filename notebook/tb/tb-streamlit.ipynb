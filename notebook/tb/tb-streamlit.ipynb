{
 "cells": [
  {
   "cell_type": "code",
   "execution_count": 1,
   "metadata": {},
   "outputs": [
    {
     "name": "stderr",
     "output_type": "stream",
     "text": [
      "2024-03-17 18:27:30.133446: I tensorflow/core/util/port.cc:111] oneDNN custom operations are on. You may see slightly different numerical results due to floating-point round-off errors from different computation orders. To turn them off, set the environment variable `TF_ENABLE_ONEDNN_OPTS=0`.\n",
      "2024-03-17 18:27:30.157313: I tensorflow/core/platform/cpu_feature_guard.cc:182] This TensorFlow binary is optimized to use available CPU instructions in performance-critical operations.\n",
      "To enable the following instructions: SSE3 SSE4.1 SSE4.2 AVX AVX2 AVX_VNNI FMA, in other operations, rebuild TensorFlow with the appropriate compiler flags.\n",
      "2024-03-17 18:27:31.409493: I itex/core/wrapper/itex_gpu_wrapper.cc:35] Intel Extension for Tensorflow* GPU backend is loaded.\n",
      "2024-03-17 18:27:31.438332: I itex/core/wrapper/itex_cpu_wrapper.cc:52] Intel Extension for Tensorflow* AVX2 CPU backend is loaded.\n",
      "2024-03-17 18:27:31.482371: W itex/core/ops/op_init.cc:58] Op: _QuantizedMaxPool3D is already registered in Tensorflow\n",
      "2024-03-17 18:27:31.491664: E itex/core/devices/gpu/itex_gpu_runtime.cc:173] Can not found any devices. To check runtime environment on your host, please run itex/tools/env_check.sh.\n",
      "If you need help, create an issue at https://github.com/intel/intel-extension-for-tensorflow/issues\n"
     ]
    },
    {
     "data": {
      "text/plain": [
       "<src.utils.results.ResultsManager at 0x7c9754593fa0>"
      ]
     },
     "execution_count": 1,
     "metadata": {},
     "output_type": "execute_result"
    }
   ],
   "source": [
    "import sys\n",
    "configDir =  '/home/thibaud/repos/anaconda/rakuten/notebook'\n",
    "if configDir not in sys.path:\n",
    "    sys.path.append(configDir)\n",
    "\n",
    "import config\n",
    "\n",
    "\n",
    "import warnings\n",
    "warnings.filterwarnings('ignore')\n",
    "from importlib import reload\n",
    "import src.utils.results as results\n",
    "from sklearn.metrics import f1_score\n",
    "\n",
    "# print(config.path_to_data)\n",
    "reload(results)\n",
    "\n",
    "from src.utils.results import ResultsManager\n",
    "res = ResultsManager(config)\n",
    "res.add_result_file(config.path_to_results +\n",
    "                        '/results_benchmark_cbow.csv', 'text')\n",
    "res.add_result_file(config.path_to_results +\n",
    "                    '/results_benchmark_tfidf.csv', 'text')\n",
    "res.add_result_file(config.path_to_results +\n",
    "                    '/results_benchmark_skipgram.csv', 'text')\n",
    "\n",
    "res.add_result_file(config.path_to_results +\n",
    "                    '/results_benchmark_bert.csv', 'bert')\n",
    "res.add_result_file(config.path_to_results +\n",
    "                    '/results_benchmark_img.csv', 'img')\n",
    "res.add_result_file(\n",
    "    config.path_to_results+'/results_benchmark_fusion_TF.csv', 'fusion')"
   ]
  },
  {
   "cell_type": "code",
   "execution_count": 2,
   "metadata": {},
   "outputs": [
    {
     "name": "stdout",
     "output_type": "stream",
     "text": [
      "Good Smile Company HARRY POTTER Nendoroid\n",
      "Figurine Nendoroid de Ron Weasley.Taille approx: 10cm.\n",
      "https://fr.shopping.rakuten.com/photo/nendoroid-doll-harry-potter-ron-weasley-import-japonais-1693345551_L.jpg\n"
     ]
    }
   ],
   "source": [
    "import utils.scrapper as scrapper\n",
    "\n",
    "scrap = scrapper.RakutenScrapper()\n",
    "\n",
    "des, desc, img = scrap.get_rakuten_product_infos('https://fr.shopping.rakuten.com/offer/shop/5640308610/nendoroid-doll-harry-potter-ron-weasley-import-japonais.html?sellerLogin=GAMERZ')\n",
    "\n",
    "print(des)\n",
    "print(desc)\n",
    "print(img)"
   ]
  },
  {
   "cell_type": "code",
   "execution_count": 2,
   "metadata": {},
   "outputs": [
    {
     "data": {
      "text/plain": [
       "array(['text/LogisticRegression_cbow', 'text/RandomForestClassifier_cbow',\n",
       "       'text/SVC_cbow', 'text/xgboost_cbow', 'text/SVC_skipgram',\n",
       "       'text/LogisticRegression_skipgram',\n",
       "       'text/RandomForestClassifier_skipgram', 'text/xgboost_skipgram',\n",
       "       'text/LinearSVC_tfidf', 'text/LogisticRegression_tfidf',\n",
       "       'text/MultinomialNB_tfidf', 'text/RandomForestClassifier_tfidf',\n",
       "       'text/xgboost_tfidf', 'text/SVC_tfidf',\n",
       "       'text/camembert-base-ccnet', 'text/camembert-base',\n",
       "       'text/flaubert_base_uncased', 'image/vit_b16', 'image/ResNet152',\n",
       "       'image/ResNet101', 'image/EfficientNetB1', 'image/ResNet50',\n",
       "       'image/VGG16', 'fusion/camembert-base-vit_b16_TF6',\n",
       "       'fusion/camembert-base-vit_b16_TF3_att12',\n",
       "       'fusion/camembert-base-vit_b16_TF6_att12',\n",
       "       'fusion/camembert-base-vit_b16_TF1_att12'], dtype=object)"
      ]
     },
     "execution_count": 2,
     "metadata": {},
     "output_type": "execute_result"
    }
   ],
   "source": [
    "res.get_model_paths()"
   ]
  },
  {
   "cell_type": "code",
   "execution_count": 10,
   "metadata": {},
   "outputs": [],
   "source": [
    "# res.plot_classification_report('text/RandomForestClassifier_skipgram')\n",
    "    # "
   ]
  },
  {
   "cell_type": "code",
   "execution_count": 12,
   "metadata": {},
   "outputs": [],
   "source": []
  },
  {
   "cell_type": "code",
   "execution_count": 13,
   "metadata": {},
   "outputs": [
    {
     "name": "stdout",
     "output_type": "stream",
     "text": [
      "Good Smile Company HARRY POTTER Nendoroid Figurine Nendoroid de Ron Weasley.Taille approx: 10cm. https://fr.shopping.rakuten.com/photo/nendoroid-doll-harry-potter-ron-weasley-import-japonais-1693345551_L.jpg\n"
     ]
    }
   ],
   "source": [
    "from bs4 import BeautifulSoup\n",
    "def scrap_rakuten_page(page_content):\n",
    "    # your code here\n",
    "    soup = BeautifulSoup(page_content, 'html.parser')\n",
    "    if len(soup.select('#prdTitleHead > span.detailHeadline')) > 0:\n",
    "        designation = soup.select(\n",
    "        '#prdTitleHead > span.detailHeadline')[0].get_text().strip()\n",
    "    else:\n",
    "        designation = 'not found'\n",
    "    if len(soup.select('div.fullDescription span.edito')) > 0:\n",
    "        description = soup.select(\n",
    "            \"div.fullDescription span.edito\")[0].get_text().strip()\n",
    "    else:\n",
    "        description = 'not found'\n",
    "    if len(soup.select(\".prdMainPhoto\")) > 0:\n",
    "        image_path = soup.select(\".prdMainPhoto\")[0].get('href')\n",
    "    else:\n",
    "        image_path = 'not found'\n",
    "    return designation, description, image_path\n",
    "\n",
    "des,desc,img = scrap_rakuten_page(html)\n",
    "print(des,desc,img)"
   ]
  },
  {
   "cell_type": "code",
   "execution_count": 11,
   "metadata": {},
   "outputs": [
    {
     "data": {
      "text/plain": [
       "array(['Piscines et accessoires', 'Consoles de jeu',\n",
       "       'Figurines et objet pop culture'], dtype='<U30')"
      ]
     },
     "metadata": {},
     "output_type": "display_data"
    }
   ],
   "source": [
    "from PIL import Image\n",
    "import pandas as pd\n",
    "\n",
    "path_to_demo_img = [config.path_to_data + '/demo/demo.avif', config.path_to_data + '/demo/demo2.avif', config.path_to_data + '/demo/demo3.avif']\n",
    "designations = [\n",
    "    \"Piscine tubulaire 396 x 84 cm Cette piscine tubulaire ronde mesure ø3,96Mx0,84M avec une finition imitation tressée sur son liner fabriqué en PVC triple épaisseur et sa structure en acier qui la rende robuste. Elle possède deux hublots pour voir en dehors à ses extrémités. Inclus pompe\",\n",
    "    \"Console Sony Playstation 5 Slim Edition Digitale\",\n",
    "    \"Good Smile Company HARRY POTTER Nendoroid \"\n",
    "    ]\n",
    "# tokens = ' '.join(s.lower() for s in designation)\n",
    "\n",
    "data = pd.DataFrame({'tokens': designations, 'img_path': path_to_demo_img})\n",
    "data.head()\n",
    "pred = res.predict('text/LinearSVC_tfidf', data)\n",
    "# pred = res.get_y_pred('text/LinearSVC_tfidf')\n",
    "display(pred)\n",
    "\n"
   ]
  },
  {
   "cell_type": "code",
   "execution_count": 4,
   "metadata": {},
   "outputs": [
    {
     "ename": "WebDriverException",
     "evalue": "Message: Process unexpectedly closed with status 1\n",
     "output_type": "error",
     "traceback": [
      "\u001b[0;31m---------------------------------------------------------------------------\u001b[0m",
      "\u001b[0;31mWebDriverException\u001b[0m                        Traceback (most recent call last)",
      "Cell \u001b[0;32mIn[4], line 33\u001b[0m\n\u001b[1;32m     30\u001b[0m options\u001b[38;5;241m.\u001b[39mprofile \u001b[38;5;241m=\u001b[39m profile\n\u001b[1;32m     32\u001b[0m \u001b[38;5;66;03m# Initialisez le driver Firefox avec les options spécifiées\u001b[39;00m\n\u001b[0;32m---> 33\u001b[0m driver \u001b[38;5;241m=\u001b[39m \u001b[43mwebdriver\u001b[49m\u001b[38;5;241;43m.\u001b[39;49m\u001b[43mFirefox\u001b[49m\u001b[43m(\u001b[49m\u001b[43mservice\u001b[49m\u001b[38;5;241;43m=\u001b[39;49m\u001b[43mservice\u001b[49m\u001b[43m,\u001b[49m\u001b[43m \u001b[49m\u001b[43moptions\u001b[49m\u001b[38;5;241;43m=\u001b[39;49m\u001b[43moptions\u001b[49m\u001b[43m)\u001b[49m\n\u001b[1;32m     34\u001b[0m \u001b[38;5;66;03m# driver = webdriver.Firefox(service=service)\u001b[39;00m\n\u001b[1;32m     37\u001b[0m driver\u001b[38;5;241m.\u001b[39mget(\u001b[38;5;124m\"\u001b[39m\u001b[38;5;124mhttp://www.python.org\u001b[39m\u001b[38;5;124m\"\u001b[39m)\n",
      "File \u001b[0;32m~/intel/oneapi/intelpython/envs/tensorflow/lib/python3.9/site-packages/selenium/webdriver/firefox/webdriver.py:69\u001b[0m, in \u001b[0;36mWebDriver.__init__\u001b[0;34m(self, options, service, keep_alive)\u001b[0m\n\u001b[1;32m     62\u001b[0m executor \u001b[38;5;241m=\u001b[39m FirefoxRemoteConnection(\n\u001b[1;32m     63\u001b[0m     remote_server_addr\u001b[38;5;241m=\u001b[39m\u001b[38;5;28mself\u001b[39m\u001b[38;5;241m.\u001b[39mservice\u001b[38;5;241m.\u001b[39mservice_url,\n\u001b[1;32m     64\u001b[0m     keep_alive\u001b[38;5;241m=\u001b[39mkeep_alive,\n\u001b[1;32m     65\u001b[0m     ignore_proxy\u001b[38;5;241m=\u001b[39moptions\u001b[38;5;241m.\u001b[39m_ignore_local_proxy,\n\u001b[1;32m     66\u001b[0m )\n\u001b[1;32m     68\u001b[0m \u001b[38;5;28;01mtry\u001b[39;00m:\n\u001b[0;32m---> 69\u001b[0m     \u001b[38;5;28;43msuper\u001b[39;49m\u001b[43m(\u001b[49m\u001b[43m)\u001b[49m\u001b[38;5;241;43m.\u001b[39;49m\u001b[38;5;21;43m__init__\u001b[39;49m\u001b[43m(\u001b[49m\u001b[43mcommand_executor\u001b[49m\u001b[38;5;241;43m=\u001b[39;49m\u001b[43mexecutor\u001b[49m\u001b[43m,\u001b[49m\u001b[43m \u001b[49m\u001b[43moptions\u001b[49m\u001b[38;5;241;43m=\u001b[39;49m\u001b[43moptions\u001b[49m\u001b[43m)\u001b[49m\n\u001b[1;32m     70\u001b[0m \u001b[38;5;28;01mexcept\u001b[39;00m \u001b[38;5;167;01mException\u001b[39;00m:\n\u001b[1;32m     71\u001b[0m     \u001b[38;5;28mself\u001b[39m\u001b[38;5;241m.\u001b[39mquit()\n",
      "File \u001b[0;32m~/intel/oneapi/intelpython/envs/tensorflow/lib/python3.9/site-packages/selenium/webdriver/remote/webdriver.py:208\u001b[0m, in \u001b[0;36mWebDriver.__init__\u001b[0;34m(self, command_executor, keep_alive, file_detector, options)\u001b[0m\n\u001b[1;32m    206\u001b[0m \u001b[38;5;28mself\u001b[39m\u001b[38;5;241m.\u001b[39m_authenticator_id \u001b[38;5;241m=\u001b[39m \u001b[38;5;28;01mNone\u001b[39;00m\n\u001b[1;32m    207\u001b[0m \u001b[38;5;28mself\u001b[39m\u001b[38;5;241m.\u001b[39mstart_client()\n\u001b[0;32m--> 208\u001b[0m \u001b[38;5;28;43mself\u001b[39;49m\u001b[38;5;241;43m.\u001b[39;49m\u001b[43mstart_session\u001b[49m\u001b[43m(\u001b[49m\u001b[43mcapabilities\u001b[49m\u001b[43m)\u001b[49m\n",
      "File \u001b[0;32m~/intel/oneapi/intelpython/envs/tensorflow/lib/python3.9/site-packages/selenium/webdriver/remote/webdriver.py:292\u001b[0m, in \u001b[0;36mWebDriver.start_session\u001b[0;34m(self, capabilities)\u001b[0m\n\u001b[1;32m    285\u001b[0m \u001b[38;5;250m\u001b[39m\u001b[38;5;124;03m\"\"\"Creates a new session with the desired capabilities.\u001b[39;00m\n\u001b[1;32m    286\u001b[0m \n\u001b[1;32m    287\u001b[0m \u001b[38;5;124;03m:Args:\u001b[39;00m\n\u001b[1;32m    288\u001b[0m \u001b[38;5;124;03m - capabilities - a capabilities dict to start the session with.\u001b[39;00m\n\u001b[1;32m    289\u001b[0m \u001b[38;5;124;03m\"\"\"\u001b[39;00m\n\u001b[1;32m    291\u001b[0m caps \u001b[38;5;241m=\u001b[39m _create_caps(capabilities)\n\u001b[0;32m--> 292\u001b[0m response \u001b[38;5;241m=\u001b[39m \u001b[38;5;28;43mself\u001b[39;49m\u001b[38;5;241;43m.\u001b[39;49m\u001b[43mexecute\u001b[49m\u001b[43m(\u001b[49m\u001b[43mCommand\u001b[49m\u001b[38;5;241;43m.\u001b[39;49m\u001b[43mNEW_SESSION\u001b[49m\u001b[43m,\u001b[49m\u001b[43m \u001b[49m\u001b[43mcaps\u001b[49m\u001b[43m)\u001b[49m[\u001b[38;5;124m\"\u001b[39m\u001b[38;5;124mvalue\u001b[39m\u001b[38;5;124m\"\u001b[39m]\n\u001b[1;32m    293\u001b[0m \u001b[38;5;28mself\u001b[39m\u001b[38;5;241m.\u001b[39msession_id \u001b[38;5;241m=\u001b[39m response\u001b[38;5;241m.\u001b[39mget(\u001b[38;5;124m\"\u001b[39m\u001b[38;5;124msessionId\u001b[39m\u001b[38;5;124m\"\u001b[39m)\n\u001b[1;32m    294\u001b[0m \u001b[38;5;28mself\u001b[39m\u001b[38;5;241m.\u001b[39mcaps \u001b[38;5;241m=\u001b[39m response\u001b[38;5;241m.\u001b[39mget(\u001b[38;5;124m\"\u001b[39m\u001b[38;5;124mcapabilities\u001b[39m\u001b[38;5;124m\"\u001b[39m)\n",
      "File \u001b[0;32m~/intel/oneapi/intelpython/envs/tensorflow/lib/python3.9/site-packages/selenium/webdriver/remote/webdriver.py:347\u001b[0m, in \u001b[0;36mWebDriver.execute\u001b[0;34m(self, driver_command, params)\u001b[0m\n\u001b[1;32m    345\u001b[0m response \u001b[38;5;241m=\u001b[39m \u001b[38;5;28mself\u001b[39m\u001b[38;5;241m.\u001b[39mcommand_executor\u001b[38;5;241m.\u001b[39mexecute(driver_command, params)\n\u001b[1;32m    346\u001b[0m \u001b[38;5;28;01mif\u001b[39;00m response:\n\u001b[0;32m--> 347\u001b[0m     \u001b[38;5;28;43mself\u001b[39;49m\u001b[38;5;241;43m.\u001b[39;49m\u001b[43merror_handler\u001b[49m\u001b[38;5;241;43m.\u001b[39;49m\u001b[43mcheck_response\u001b[49m\u001b[43m(\u001b[49m\u001b[43mresponse\u001b[49m\u001b[43m)\u001b[49m\n\u001b[1;32m    348\u001b[0m     response[\u001b[38;5;124m\"\u001b[39m\u001b[38;5;124mvalue\u001b[39m\u001b[38;5;124m\"\u001b[39m] \u001b[38;5;241m=\u001b[39m \u001b[38;5;28mself\u001b[39m\u001b[38;5;241m.\u001b[39m_unwrap_value(response\u001b[38;5;241m.\u001b[39mget(\u001b[38;5;124m\"\u001b[39m\u001b[38;5;124mvalue\u001b[39m\u001b[38;5;124m\"\u001b[39m, \u001b[38;5;28;01mNone\u001b[39;00m))\n\u001b[1;32m    349\u001b[0m     \u001b[38;5;28;01mreturn\u001b[39;00m response\n",
      "File \u001b[0;32m~/intel/oneapi/intelpython/envs/tensorflow/lib/python3.9/site-packages/selenium/webdriver/remote/errorhandler.py:229\u001b[0m, in \u001b[0;36mErrorHandler.check_response\u001b[0;34m(self, response)\u001b[0m\n\u001b[1;32m    227\u001b[0m         alert_text \u001b[38;5;241m=\u001b[39m value[\u001b[38;5;124m\"\u001b[39m\u001b[38;5;124malert\u001b[39m\u001b[38;5;124m\"\u001b[39m]\u001b[38;5;241m.\u001b[39mget(\u001b[38;5;124m\"\u001b[39m\u001b[38;5;124mtext\u001b[39m\u001b[38;5;124m\"\u001b[39m)\n\u001b[1;32m    228\u001b[0m     \u001b[38;5;28;01mraise\u001b[39;00m exception_class(message, screen, stacktrace, alert_text)  \u001b[38;5;66;03m# type: ignore[call-arg]  # mypy is not smart enough here\u001b[39;00m\n\u001b[0;32m--> 229\u001b[0m \u001b[38;5;28;01mraise\u001b[39;00m exception_class(message, screen, stacktrace)\n",
      "\u001b[0;31mWebDriverException\u001b[0m: Message: Process unexpectedly closed with status 1\n"
     ]
    }
   ],
   "source": [
    "import sys\n",
    "import os\n",
    "from requests_html import HTMLSession\n",
    "configDir =  '/home/thibaud/repos/anaconda/rakuten/notebook'\n",
    "if configDir not in sys.path:\n",
    "    sys.path.append(configDir)\n",
    "\n",
    "import config\n",
    "from bs4 import BeautifulSoup as bs\n",
    "\n",
    "response = s\n",
    "# res = driver.get('https://fr.shopping.rakuten.com/mfp/shop/9799998/console-sony-playstation-5-slim?pid=11945408653&sellerLogin=Carrefour&fbbaid=15008141157&rd=1')\n",
    "# print(res.content)\n",
    "# soup = bs(res.content, 'lxml')\n",
    "# soup.find('div', class_='prdGallery').find_all('img')\n",
    "\n",
    "# print(soup)\n",
    "\n",
    "## .prdGallery \n"
   ]
  },
  {
   "cell_type": "code",
   "execution_count": 6,
   "metadata": {},
   "outputs": [],
   "source": [
    "# !pip install requests-html\n"
   ]
  },
  {
   "cell_type": "code",
   "execution_count": null,
   "metadata": {},
   "outputs": [],
   "source": []
  },
  {
   "cell_type": "code",
   "execution_count": 7,
   "metadata": {},
   "outputs": [
    {
     "name": "stderr",
     "output_type": "stream",
     "text": [
      "/home/thibaud/intel/oneapi/intelpython/envs/tensorflow/lib/python3.9/site-packages/pyppeteer/util.py:29: RuntimeWarning: coroutine 'main' was never awaited\n",
      "  gc.collect()\n",
      "RuntimeWarning: Enable tracemalloc to get the object allocation traceback\n",
      "[INFO] Starting Chromium download.\n",
      "100%|██████████| 183M/183M [01:18<00:00, 2.33Mb/s] \n",
      "[INFO] Beginning extraction\n",
      "[INFO] Chromium extracted to: /home/thibaud/.local/share/pyppeteer/local-chromium/1181205\n"
     ]
    }
   ],
   "source": [
    "import asyncio\n",
    "from requests_html import AsyncHTMLSession\n",
    "from bs4 import BeautifulSoup\n",
    "import nest_asyncio\n",
    "nest_asyncio.apply()\n",
    "\n",
    "async def main():\n",
    "    # Create an async HTML session\n",
    "    session = AsyncHTMLSession()\n",
    "\n",
    "    # Fetch the webpage and render JavaScript\n",
    "    response = await session.get('https://example.com', headers={'User-Agent': 'Mozilla/5.0'})\n",
    "\n",
    "    # Ensure JavaScript is fully rendered\n",
    "    await response.html.arender()\n",
    "\n",
    "    # Now you can parse the HTML with BeautifulSoup\n",
    "    soup = BeautifulSoup(response.html.html, 'html.parser')\n",
    "\n",
    "    # Now you can use BeautifulSoup to extract information from the rendered HTML\n",
    "    \n",
    "# Now you can run asyncio code in the Jupyter Notebook\n",
    "await main()\n"
   ]
  },
  {
   "cell_type": "code",
   "execution_count": 24,
   "metadata": {},
   "outputs": [
    {
     "ename": "WebDriverException",
     "evalue": "Message: Process unexpectedly closed with status 1\n",
     "output_type": "error",
     "traceback": [
      "\u001b[0;31m---------------------------------------------------------------------------\u001b[0m",
      "\u001b[0;31mWebDriverException\u001b[0m                        Traceback (most recent call last)",
      "Cell \u001b[0;32mIn[24], line 27\u001b[0m\n\u001b[1;32m     20\u001b[0m options\u001b[38;5;241m.\u001b[39mset_preference(\u001b[38;5;124m\"\u001b[39m\u001b[38;5;124mprofile\u001b[39m\u001b[38;5;124m\"\u001b[39m, config\u001b[38;5;241m.\u001b[39mpath_to_project \u001b[38;5;241m+\u001b[39m \u001b[38;5;124m'\u001b[39m\u001b[38;5;124m/bin/firefox_profile\u001b[39m\u001b[38;5;124m'\u001b[39m)\n\u001b[1;32m     22\u001b[0m \u001b[38;5;66;03m# options.add_argument(\"-profile\")\u001b[39;00m\n\u001b[1;32m     23\u001b[0m \u001b[38;5;66;03m# options.add_argument(config.path_to_project + '/firefox_profile')\u001b[39;00m\n\u001b[1;32m     24\u001b[0m \n\u001b[1;32m     25\u001b[0m \n\u001b[1;32m     26\u001b[0m \u001b[38;5;66;03m# Initialize WebDriver with GeckoDriverManager to automatically download and manage GeckoDriver\u001b[39;00m\n\u001b[0;32m---> 27\u001b[0m driver \u001b[38;5;241m=\u001b[39m \u001b[43mwebdriver\u001b[49m\u001b[38;5;241;43m.\u001b[39;49m\u001b[43mFirefox\u001b[49m\u001b[43m(\u001b[49m\u001b[43mservice\u001b[49m\u001b[38;5;241;43m=\u001b[39;49m\u001b[43mservice\u001b[49m\u001b[43m,\u001b[49m\u001b[43m \u001b[49m\u001b[43moptions\u001b[49m\u001b[38;5;241;43m=\u001b[39;49m\u001b[43moptions\u001b[49m\u001b[43m)\u001b[49m\n\u001b[1;32m     29\u001b[0m \u001b[38;5;66;03m# Navigate to a website\u001b[39;00m\n\u001b[1;32m     30\u001b[0m driver\u001b[38;5;241m.\u001b[39mget(\u001b[38;5;124m\"\u001b[39m\u001b[38;5;124mhttp://www.python.org\u001b[39m\u001b[38;5;124m\"\u001b[39m)\n",
      "File \u001b[0;32m~/intel/oneapi/intelpython/envs/tensorflow/lib/python3.9/site-packages/selenium/webdriver/firefox/webdriver.py:69\u001b[0m, in \u001b[0;36mWebDriver.__init__\u001b[0;34m(self, options, service, keep_alive)\u001b[0m\n\u001b[1;32m     62\u001b[0m executor \u001b[38;5;241m=\u001b[39m FirefoxRemoteConnection(\n\u001b[1;32m     63\u001b[0m     remote_server_addr\u001b[38;5;241m=\u001b[39m\u001b[38;5;28mself\u001b[39m\u001b[38;5;241m.\u001b[39mservice\u001b[38;5;241m.\u001b[39mservice_url,\n\u001b[1;32m     64\u001b[0m     keep_alive\u001b[38;5;241m=\u001b[39mkeep_alive,\n\u001b[1;32m     65\u001b[0m     ignore_proxy\u001b[38;5;241m=\u001b[39moptions\u001b[38;5;241m.\u001b[39m_ignore_local_proxy,\n\u001b[1;32m     66\u001b[0m )\n\u001b[1;32m     68\u001b[0m \u001b[38;5;28;01mtry\u001b[39;00m:\n\u001b[0;32m---> 69\u001b[0m     \u001b[38;5;28;43msuper\u001b[39;49m\u001b[43m(\u001b[49m\u001b[43m)\u001b[49m\u001b[38;5;241;43m.\u001b[39;49m\u001b[38;5;21;43m__init__\u001b[39;49m\u001b[43m(\u001b[49m\u001b[43mcommand_executor\u001b[49m\u001b[38;5;241;43m=\u001b[39;49m\u001b[43mexecutor\u001b[49m\u001b[43m,\u001b[49m\u001b[43m \u001b[49m\u001b[43moptions\u001b[49m\u001b[38;5;241;43m=\u001b[39;49m\u001b[43moptions\u001b[49m\u001b[43m)\u001b[49m\n\u001b[1;32m     70\u001b[0m \u001b[38;5;28;01mexcept\u001b[39;00m \u001b[38;5;167;01mException\u001b[39;00m:\n\u001b[1;32m     71\u001b[0m     \u001b[38;5;28mself\u001b[39m\u001b[38;5;241m.\u001b[39mquit()\n",
      "File \u001b[0;32m~/intel/oneapi/intelpython/envs/tensorflow/lib/python3.9/site-packages/selenium/webdriver/remote/webdriver.py:208\u001b[0m, in \u001b[0;36mWebDriver.__init__\u001b[0;34m(self, command_executor, keep_alive, file_detector, options)\u001b[0m\n\u001b[1;32m    206\u001b[0m \u001b[38;5;28mself\u001b[39m\u001b[38;5;241m.\u001b[39m_authenticator_id \u001b[38;5;241m=\u001b[39m \u001b[38;5;28;01mNone\u001b[39;00m\n\u001b[1;32m    207\u001b[0m \u001b[38;5;28mself\u001b[39m\u001b[38;5;241m.\u001b[39mstart_client()\n\u001b[0;32m--> 208\u001b[0m \u001b[38;5;28;43mself\u001b[39;49m\u001b[38;5;241;43m.\u001b[39;49m\u001b[43mstart_session\u001b[49m\u001b[43m(\u001b[49m\u001b[43mcapabilities\u001b[49m\u001b[43m)\u001b[49m\n",
      "File \u001b[0;32m~/intel/oneapi/intelpython/envs/tensorflow/lib/python3.9/site-packages/selenium/webdriver/remote/webdriver.py:292\u001b[0m, in \u001b[0;36mWebDriver.start_session\u001b[0;34m(self, capabilities)\u001b[0m\n\u001b[1;32m    285\u001b[0m \u001b[38;5;250m\u001b[39m\u001b[38;5;124;03m\"\"\"Creates a new session with the desired capabilities.\u001b[39;00m\n\u001b[1;32m    286\u001b[0m \n\u001b[1;32m    287\u001b[0m \u001b[38;5;124;03m:Args:\u001b[39;00m\n\u001b[1;32m    288\u001b[0m \u001b[38;5;124;03m - capabilities - a capabilities dict to start the session with.\u001b[39;00m\n\u001b[1;32m    289\u001b[0m \u001b[38;5;124;03m\"\"\"\u001b[39;00m\n\u001b[1;32m    291\u001b[0m caps \u001b[38;5;241m=\u001b[39m _create_caps(capabilities)\n\u001b[0;32m--> 292\u001b[0m response \u001b[38;5;241m=\u001b[39m \u001b[38;5;28;43mself\u001b[39;49m\u001b[38;5;241;43m.\u001b[39;49m\u001b[43mexecute\u001b[49m\u001b[43m(\u001b[49m\u001b[43mCommand\u001b[49m\u001b[38;5;241;43m.\u001b[39;49m\u001b[43mNEW_SESSION\u001b[49m\u001b[43m,\u001b[49m\u001b[43m \u001b[49m\u001b[43mcaps\u001b[49m\u001b[43m)\u001b[49m[\u001b[38;5;124m\"\u001b[39m\u001b[38;5;124mvalue\u001b[39m\u001b[38;5;124m\"\u001b[39m]\n\u001b[1;32m    293\u001b[0m \u001b[38;5;28mself\u001b[39m\u001b[38;5;241m.\u001b[39msession_id \u001b[38;5;241m=\u001b[39m response\u001b[38;5;241m.\u001b[39mget(\u001b[38;5;124m\"\u001b[39m\u001b[38;5;124msessionId\u001b[39m\u001b[38;5;124m\"\u001b[39m)\n\u001b[1;32m    294\u001b[0m \u001b[38;5;28mself\u001b[39m\u001b[38;5;241m.\u001b[39mcaps \u001b[38;5;241m=\u001b[39m response\u001b[38;5;241m.\u001b[39mget(\u001b[38;5;124m\"\u001b[39m\u001b[38;5;124mcapabilities\u001b[39m\u001b[38;5;124m\"\u001b[39m)\n",
      "File \u001b[0;32m~/intel/oneapi/intelpython/envs/tensorflow/lib/python3.9/site-packages/selenium/webdriver/remote/webdriver.py:347\u001b[0m, in \u001b[0;36mWebDriver.execute\u001b[0;34m(self, driver_command, params)\u001b[0m\n\u001b[1;32m    345\u001b[0m response \u001b[38;5;241m=\u001b[39m \u001b[38;5;28mself\u001b[39m\u001b[38;5;241m.\u001b[39mcommand_executor\u001b[38;5;241m.\u001b[39mexecute(driver_command, params)\n\u001b[1;32m    346\u001b[0m \u001b[38;5;28;01mif\u001b[39;00m response:\n\u001b[0;32m--> 347\u001b[0m     \u001b[38;5;28;43mself\u001b[39;49m\u001b[38;5;241;43m.\u001b[39;49m\u001b[43merror_handler\u001b[49m\u001b[38;5;241;43m.\u001b[39;49m\u001b[43mcheck_response\u001b[49m\u001b[43m(\u001b[49m\u001b[43mresponse\u001b[49m\u001b[43m)\u001b[49m\n\u001b[1;32m    348\u001b[0m     response[\u001b[38;5;124m\"\u001b[39m\u001b[38;5;124mvalue\u001b[39m\u001b[38;5;124m\"\u001b[39m] \u001b[38;5;241m=\u001b[39m \u001b[38;5;28mself\u001b[39m\u001b[38;5;241m.\u001b[39m_unwrap_value(response\u001b[38;5;241m.\u001b[39mget(\u001b[38;5;124m\"\u001b[39m\u001b[38;5;124mvalue\u001b[39m\u001b[38;5;124m\"\u001b[39m, \u001b[38;5;28;01mNone\u001b[39;00m))\n\u001b[1;32m    349\u001b[0m     \u001b[38;5;28;01mreturn\u001b[39;00m response\n",
      "File \u001b[0;32m~/intel/oneapi/intelpython/envs/tensorflow/lib/python3.9/site-packages/selenium/webdriver/remote/errorhandler.py:229\u001b[0m, in \u001b[0;36mErrorHandler.check_response\u001b[0;34m(self, response)\u001b[0m\n\u001b[1;32m    227\u001b[0m         alert_text \u001b[38;5;241m=\u001b[39m value[\u001b[38;5;124m\"\u001b[39m\u001b[38;5;124malert\u001b[39m\u001b[38;5;124m\"\u001b[39m]\u001b[38;5;241m.\u001b[39mget(\u001b[38;5;124m\"\u001b[39m\u001b[38;5;124mtext\u001b[39m\u001b[38;5;124m\"\u001b[39m)\n\u001b[1;32m    228\u001b[0m     \u001b[38;5;28;01mraise\u001b[39;00m exception_class(message, screen, stacktrace, alert_text)  \u001b[38;5;66;03m# type: ignore[call-arg]  # mypy is not smart enough here\u001b[39;00m\n\u001b[0;32m--> 229\u001b[0m \u001b[38;5;28;01mraise\u001b[39;00m exception_class(message, screen, stacktrace)\n",
      "\u001b[0;31mWebDriverException\u001b[0m: Message: Process unexpectedly closed with status 1\n"
     ]
    }
   ],
   "source": [
    "import sys\n",
    "import os\n",
    "configDir =  '/home/thibaud/repos/anaconda/rakuten/notebook'\n",
    "if configDir not in sys.path:\n",
    "    sys.path.append(configDir)\n",
    "\n",
    "import config\n",
    "\n",
    "from selenium import webdriver\n",
    "from selenium.webdriver.firefox.service import Service\n",
    "from webdriver_manager.firefox import GeckoDriverManager\n",
    "\n",
    "# path_to_firefox = config.path_to_project + '/bin/geckodriver --profile \"' + config.path_to_project + '/bin/firefox_profile\"'\n",
    "path_to_firefox = config.path_to_project + '/bin/geckodriver'\n",
    "# print(path_to_firefox)\n",
    "service = Service(executable_path=path_to_firefox)\n",
    "\n",
    "options = webdriver.FirefoxOptions()\n",
    "# profile = webdriver.FirefoxProfile()\n",
    "options.set_preference(\"profile\", config.path_to_project + '/bin/firefox_profile')\n",
    "\n",
    "# options.add_argument(\"-profile\")\n",
    "# options.add_argument(config.path_to_project + '/firefox_profile')\n",
    "\n",
    "\n",
    "# Initialize WebDriver with GeckoDriverManager to automatically download and manage GeckoDriver\n",
    "driver = webdriver.Firefox(service=service, options=options)\n",
    "\n",
    "# Navigate to a website\n",
    "driver.get(\"http://www.python.org\")\n",
    "\n",
    "# Verify that the page title contains \"Python\"\n",
    "assert \"Python\" in driver.title\n",
    "\n",
    "# Close the WebDriver session\n",
    "driver.quit()"
   ]
  },
  {
   "cell_type": "code",
   "execution_count": 25,
   "metadata": {},
   "outputs": [
    {
     "ename": "WebDriverException",
     "evalue": "Message: Process unexpectedly closed with status 1\n",
     "output_type": "error",
     "traceback": [
      "\u001b[0;31m---------------------------------------------------------------------------\u001b[0m",
      "\u001b[0;31mWebDriverException\u001b[0m                        Traceback (most recent call last)",
      "Cell \u001b[0;32mIn[25], line 26\u001b[0m\n\u001b[1;32m     23\u001b[0m firefox_options\u001b[38;5;241m.\u001b[39mset_preference(\u001b[38;5;124m\"\u001b[39m\u001b[38;5;124mprofile\u001b[39m\u001b[38;5;124m\"\u001b[39m, config\u001b[38;5;241m.\u001b[39mpath_to_project \u001b[38;5;241m+\u001b[39m \u001b[38;5;124m'\u001b[39m\u001b[38;5;124m/bin/firefox_profile\u001b[39m\u001b[38;5;124m'\u001b[39m)\n\u001b[1;32m     25\u001b[0m \u001b[38;5;66;03m# Initialize WebDriver with GeckoDriverManager to automatically download and manage GeckoDriver\u001b[39;00m\n\u001b[0;32m---> 26\u001b[0m driver \u001b[38;5;241m=\u001b[39m \u001b[43mwebdriver\u001b[49m\u001b[38;5;241;43m.\u001b[39;49m\u001b[43mFirefox\u001b[49m\u001b[43m(\u001b[49m\u001b[43mservice\u001b[49m\u001b[38;5;241;43m=\u001b[39;49m\u001b[43mservice\u001b[49m\u001b[43m,\u001b[49m\u001b[43m \u001b[49m\u001b[43moptions\u001b[49m\u001b[38;5;241;43m=\u001b[39;49m\u001b[43mfirefox_options\u001b[49m\u001b[43m)\u001b[49m\n\u001b[1;32m     28\u001b[0m \u001b[38;5;66;03m# Navigate to a website\u001b[39;00m\n\u001b[1;32m     29\u001b[0m driver\u001b[38;5;241m.\u001b[39mget(\u001b[38;5;124m\"\u001b[39m\u001b[38;5;124mhttp://www.python.org\u001b[39m\u001b[38;5;124m\"\u001b[39m)\n",
      "File \u001b[0;32m~/intel/oneapi/intelpython/envs/tensorflow/lib/python3.9/site-packages/selenium/webdriver/firefox/webdriver.py:69\u001b[0m, in \u001b[0;36mWebDriver.__init__\u001b[0;34m(self, options, service, keep_alive)\u001b[0m\n\u001b[1;32m     62\u001b[0m executor \u001b[38;5;241m=\u001b[39m FirefoxRemoteConnection(\n\u001b[1;32m     63\u001b[0m     remote_server_addr\u001b[38;5;241m=\u001b[39m\u001b[38;5;28mself\u001b[39m\u001b[38;5;241m.\u001b[39mservice\u001b[38;5;241m.\u001b[39mservice_url,\n\u001b[1;32m     64\u001b[0m     keep_alive\u001b[38;5;241m=\u001b[39mkeep_alive,\n\u001b[1;32m     65\u001b[0m     ignore_proxy\u001b[38;5;241m=\u001b[39moptions\u001b[38;5;241m.\u001b[39m_ignore_local_proxy,\n\u001b[1;32m     66\u001b[0m )\n\u001b[1;32m     68\u001b[0m \u001b[38;5;28;01mtry\u001b[39;00m:\n\u001b[0;32m---> 69\u001b[0m     \u001b[38;5;28;43msuper\u001b[39;49m\u001b[43m(\u001b[49m\u001b[43m)\u001b[49m\u001b[38;5;241;43m.\u001b[39;49m\u001b[38;5;21;43m__init__\u001b[39;49m\u001b[43m(\u001b[49m\u001b[43mcommand_executor\u001b[49m\u001b[38;5;241;43m=\u001b[39;49m\u001b[43mexecutor\u001b[49m\u001b[43m,\u001b[49m\u001b[43m \u001b[49m\u001b[43moptions\u001b[49m\u001b[38;5;241;43m=\u001b[39;49m\u001b[43moptions\u001b[49m\u001b[43m)\u001b[49m\n\u001b[1;32m     70\u001b[0m \u001b[38;5;28;01mexcept\u001b[39;00m \u001b[38;5;167;01mException\u001b[39;00m:\n\u001b[1;32m     71\u001b[0m     \u001b[38;5;28mself\u001b[39m\u001b[38;5;241m.\u001b[39mquit()\n",
      "File \u001b[0;32m~/intel/oneapi/intelpython/envs/tensorflow/lib/python3.9/site-packages/selenium/webdriver/remote/webdriver.py:208\u001b[0m, in \u001b[0;36mWebDriver.__init__\u001b[0;34m(self, command_executor, keep_alive, file_detector, options)\u001b[0m\n\u001b[1;32m    206\u001b[0m \u001b[38;5;28mself\u001b[39m\u001b[38;5;241m.\u001b[39m_authenticator_id \u001b[38;5;241m=\u001b[39m \u001b[38;5;28;01mNone\u001b[39;00m\n\u001b[1;32m    207\u001b[0m \u001b[38;5;28mself\u001b[39m\u001b[38;5;241m.\u001b[39mstart_client()\n\u001b[0;32m--> 208\u001b[0m \u001b[38;5;28;43mself\u001b[39;49m\u001b[38;5;241;43m.\u001b[39;49m\u001b[43mstart_session\u001b[49m\u001b[43m(\u001b[49m\u001b[43mcapabilities\u001b[49m\u001b[43m)\u001b[49m\n",
      "File \u001b[0;32m~/intel/oneapi/intelpython/envs/tensorflow/lib/python3.9/site-packages/selenium/webdriver/remote/webdriver.py:292\u001b[0m, in \u001b[0;36mWebDriver.start_session\u001b[0;34m(self, capabilities)\u001b[0m\n\u001b[1;32m    285\u001b[0m \u001b[38;5;250m\u001b[39m\u001b[38;5;124;03m\"\"\"Creates a new session with the desired capabilities.\u001b[39;00m\n\u001b[1;32m    286\u001b[0m \n\u001b[1;32m    287\u001b[0m \u001b[38;5;124;03m:Args:\u001b[39;00m\n\u001b[1;32m    288\u001b[0m \u001b[38;5;124;03m - capabilities - a capabilities dict to start the session with.\u001b[39;00m\n\u001b[1;32m    289\u001b[0m \u001b[38;5;124;03m\"\"\"\u001b[39;00m\n\u001b[1;32m    291\u001b[0m caps \u001b[38;5;241m=\u001b[39m _create_caps(capabilities)\n\u001b[0;32m--> 292\u001b[0m response \u001b[38;5;241m=\u001b[39m \u001b[38;5;28;43mself\u001b[39;49m\u001b[38;5;241;43m.\u001b[39;49m\u001b[43mexecute\u001b[49m\u001b[43m(\u001b[49m\u001b[43mCommand\u001b[49m\u001b[38;5;241;43m.\u001b[39;49m\u001b[43mNEW_SESSION\u001b[49m\u001b[43m,\u001b[49m\u001b[43m \u001b[49m\u001b[43mcaps\u001b[49m\u001b[43m)\u001b[49m[\u001b[38;5;124m\"\u001b[39m\u001b[38;5;124mvalue\u001b[39m\u001b[38;5;124m\"\u001b[39m]\n\u001b[1;32m    293\u001b[0m \u001b[38;5;28mself\u001b[39m\u001b[38;5;241m.\u001b[39msession_id \u001b[38;5;241m=\u001b[39m response\u001b[38;5;241m.\u001b[39mget(\u001b[38;5;124m\"\u001b[39m\u001b[38;5;124msessionId\u001b[39m\u001b[38;5;124m\"\u001b[39m)\n\u001b[1;32m    294\u001b[0m \u001b[38;5;28mself\u001b[39m\u001b[38;5;241m.\u001b[39mcaps \u001b[38;5;241m=\u001b[39m response\u001b[38;5;241m.\u001b[39mget(\u001b[38;5;124m\"\u001b[39m\u001b[38;5;124mcapabilities\u001b[39m\u001b[38;5;124m\"\u001b[39m)\n",
      "File \u001b[0;32m~/intel/oneapi/intelpython/envs/tensorflow/lib/python3.9/site-packages/selenium/webdriver/remote/webdriver.py:347\u001b[0m, in \u001b[0;36mWebDriver.execute\u001b[0;34m(self, driver_command, params)\u001b[0m\n\u001b[1;32m    345\u001b[0m response \u001b[38;5;241m=\u001b[39m \u001b[38;5;28mself\u001b[39m\u001b[38;5;241m.\u001b[39mcommand_executor\u001b[38;5;241m.\u001b[39mexecute(driver_command, params)\n\u001b[1;32m    346\u001b[0m \u001b[38;5;28;01mif\u001b[39;00m response:\n\u001b[0;32m--> 347\u001b[0m     \u001b[38;5;28;43mself\u001b[39;49m\u001b[38;5;241;43m.\u001b[39;49m\u001b[43merror_handler\u001b[49m\u001b[38;5;241;43m.\u001b[39;49m\u001b[43mcheck_response\u001b[49m\u001b[43m(\u001b[49m\u001b[43mresponse\u001b[49m\u001b[43m)\u001b[49m\n\u001b[1;32m    348\u001b[0m     response[\u001b[38;5;124m\"\u001b[39m\u001b[38;5;124mvalue\u001b[39m\u001b[38;5;124m\"\u001b[39m] \u001b[38;5;241m=\u001b[39m \u001b[38;5;28mself\u001b[39m\u001b[38;5;241m.\u001b[39m_unwrap_value(response\u001b[38;5;241m.\u001b[39mget(\u001b[38;5;124m\"\u001b[39m\u001b[38;5;124mvalue\u001b[39m\u001b[38;5;124m\"\u001b[39m, \u001b[38;5;28;01mNone\u001b[39;00m))\n\u001b[1;32m    349\u001b[0m     \u001b[38;5;28;01mreturn\u001b[39;00m response\n",
      "File \u001b[0;32m~/intel/oneapi/intelpython/envs/tensorflow/lib/python3.9/site-packages/selenium/webdriver/remote/errorhandler.py:229\u001b[0m, in \u001b[0;36mErrorHandler.check_response\u001b[0;34m(self, response)\u001b[0m\n\u001b[1;32m    227\u001b[0m         alert_text \u001b[38;5;241m=\u001b[39m value[\u001b[38;5;124m\"\u001b[39m\u001b[38;5;124malert\u001b[39m\u001b[38;5;124m\"\u001b[39m]\u001b[38;5;241m.\u001b[39mget(\u001b[38;5;124m\"\u001b[39m\u001b[38;5;124mtext\u001b[39m\u001b[38;5;124m\"\u001b[39m)\n\u001b[1;32m    228\u001b[0m     \u001b[38;5;28;01mraise\u001b[39;00m exception_class(message, screen, stacktrace, alert_text)  \u001b[38;5;66;03m# type: ignore[call-arg]  # mypy is not smart enough here\u001b[39;00m\n\u001b[0;32m--> 229\u001b[0m \u001b[38;5;28;01mraise\u001b[39;00m exception_class(message, screen, stacktrace)\n",
      "\u001b[0;31mWebDriverException\u001b[0m: Message: Process unexpectedly closed with status 1\n"
     ]
    }
   ],
   "source": [
    "import sys\n",
    "import os\n",
    "from selenium import webdriver\n",
    "from selenium.webdriver.firefox.service import Service\n",
    "from webdriver_manager.firefox import GeckoDriverManager\n",
    "\n",
    "# Add the directory containing the config file to sys.path\n",
    "configDir = '/home/thibaud/repos/anaconda/rakuten/notebook'\n",
    "if configDir not in sys.path:\n",
    "    sys.path.append(configDir)\n",
    "\n",
    "# Import config module from the directory\n",
    "import config\n",
    "\n",
    "# Set the path to GeckoDriver\n",
    "path_to_geckodriver = config.path_to_project + '/bin/geckodriver'\n",
    "\n",
    "# Initialize the WebDriver service\n",
    "service = Service(executable_path=path_to_geckodriver)\n",
    "\n",
    "# Set Firefox profile preferences\n",
    "firefox_options = webdriver.FirefoxOptions()\n",
    "firefox_options.set_preference(\"profile\", config.path_to_project + '/bin/firefox_profile')\n",
    "firefox_profile = webdriver.FirefoxProfile()\n",
    "# Initialize WebDriver with GeckoDriverManager to automatically download and manage GeckoDriver\n",
    "driver = webdriver.Firefox(service=service, options=firefox_options)\n",
    "\n",
    "# Navigate to a website\n",
    "driver.get(\"http://www.python.org\")\n",
    "\n",
    "# Verify that the page title contains \"Python\"\n",
    "assert \"Python\" in driver.title\n",
    "\n",
    "# Close the WebDriver session\n",
    "driver.quit()\n"
   ]
  },
  {
   "cell_type": "code",
   "execution_count": 26,
   "metadata": {},
   "outputs": [
    {
     "ename": "TypeError",
     "evalue": "__init__() got an unexpected keyword argument 'firefox_profile'",
     "output_type": "error",
     "traceback": [
      "\u001b[0;31m---------------------------------------------------------------------------\u001b[0m",
      "\u001b[0;31mTypeError\u001b[0m                                 Traceback (most recent call last)",
      "Cell \u001b[0;32mIn[26], line 10\u001b[0m\n\u001b[1;32m      4\u001b[0m firefox_profile \u001b[38;5;241m=\u001b[39m webdriver\u001b[38;5;241m.\u001b[39mFirefoxProfile()\n\u001b[1;32m      6\u001b[0m \u001b[38;5;66;03m# Set preferences for the Firefox profile (if needed)\u001b[39;00m\n\u001b[1;32m      7\u001b[0m \u001b[38;5;66;03m# firefox_profile.set_preference(\"key\", \"value\")\u001b[39;00m\n\u001b[1;32m      8\u001b[0m \n\u001b[1;32m      9\u001b[0m \u001b[38;5;66;03m# Initialize WebDriver with the new profile\u001b[39;00m\n\u001b[0;32m---> 10\u001b[0m driver \u001b[38;5;241m=\u001b[39m \u001b[43mwebdriver\u001b[49m\u001b[38;5;241;43m.\u001b[39;49m\u001b[43mFirefox\u001b[49m\u001b[43m(\u001b[49m\u001b[43mfirefox_profile\u001b[49m\u001b[38;5;241;43m=\u001b[39;49m\u001b[43mfirefox_profile\u001b[49m\u001b[43m)\u001b[49m\n\u001b[1;32m     12\u001b[0m \u001b[38;5;66;03m# Navigate to a website\u001b[39;00m\n\u001b[1;32m     13\u001b[0m driver\u001b[38;5;241m.\u001b[39mget(\u001b[38;5;124m\"\u001b[39m\u001b[38;5;124mhttp://www.python.org\u001b[39m\u001b[38;5;124m\"\u001b[39m)\n",
      "\u001b[0;31mTypeError\u001b[0m: __init__() got an unexpected keyword argument 'firefox_profile'"
     ]
    }
   ],
   "source": [
    "from selenium import webdriver\n",
    "\n",
    "# Create a new Firefox profile\n",
    "firefox_profile = webdriver.FirefoxProfile()\n",
    "\n",
    "# Set preferences for the Firefox profile (if needed)\n",
    "# firefox_profile.set_preference(\"key\", \"value\")\n",
    "\n",
    "# Initialize WebDriver with the new profile\n",
    "driver = webdriver.Firefox(firefox_profile=firefox_profile)\n",
    "\n",
    "# Navigate to a website\n",
    "driver.get(\"http://www.python.org\")\n",
    "\n",
    "# Verify that the page title contains \"Python\"\n",
    "assert \"Python\" in driver.title\n",
    "\n",
    "# Close the WebDriver session\n",
    "driver.quit()\n"
   ]
  },
  {
   "cell_type": "code",
   "execution_count": 6,
   "metadata": {},
   "outputs": [
    {
     "name": "stdout",
     "output_type": "stream",
     "text": [
      "Requirement already satisfied: selenium==4.18.1 in /home/thibaud/intel/oneapi/intelpython/envs/tensorflow/lib/python3.9/site-packages (4.18.1)\n",
      "Collecting webdriver_manager\n",
      "  Downloading webdriver_manager-4.0.1-py2.py3-none-any.whl.metadata (12 kB)\n",
      "Requirement already satisfied: urllib3<3,>=1.26 in /home/thibaud/intel/oneapi/intelpython/envs/tensorflow/lib/python3.9/site-packages (from urllib3[socks]<3,>=1.26->selenium==4.18.1) (2.0.7)\n",
      "Requirement already satisfied: trio~=0.17 in /home/thibaud/intel/oneapi/intelpython/envs/tensorflow/lib/python3.9/site-packages (from selenium==4.18.1) (0.25.0)\n",
      "Requirement already satisfied: trio-websocket~=0.9 in /home/thibaud/intel/oneapi/intelpython/envs/tensorflow/lib/python3.9/site-packages (from selenium==4.18.1) (0.11.1)\n",
      "Requirement already satisfied: certifi>=2021.10.8 in /home/thibaud/intel/oneapi/intelpython/envs/tensorflow/lib/python3.9/site-packages (from selenium==4.18.1) (2024.2.2)\n",
      "Requirement already satisfied: typing_extensions>=4.9.0 in /home/thibaud/intel/oneapi/intelpython/envs/tensorflow/lib/python3.9/site-packages (from selenium==4.18.1) (4.10.0)\n",
      "Requirement already satisfied: requests in /home/thibaud/intel/oneapi/intelpython/envs/tensorflow/lib/python3.9/site-packages (from webdriver_manager) (2.31.0)\n",
      "Collecting python-dotenv (from webdriver_manager)\n",
      "  Downloading python_dotenv-1.0.1-py3-none-any.whl.metadata (23 kB)\n",
      "Requirement already satisfied: packaging in /home/thibaud/intel/oneapi/intelpython/envs/tensorflow/lib/python3.9/site-packages (from webdriver_manager) (23.2)\n",
      "Requirement already satisfied: attrs>=23.2.0 in /home/thibaud/intel/oneapi/intelpython/envs/tensorflow/lib/python3.9/site-packages (from trio~=0.17->selenium==4.18.1) (23.2.0)\n",
      "Requirement already satisfied: sortedcontainers in /home/thibaud/intel/oneapi/intelpython/envs/tensorflow/lib/python3.9/site-packages (from trio~=0.17->selenium==4.18.1) (2.4.0)\n",
      "Requirement already satisfied: idna in /home/thibaud/intel/oneapi/intelpython/envs/tensorflow/lib/python3.9/site-packages (from trio~=0.17->selenium==4.18.1) (3.4)\n",
      "Requirement already satisfied: outcome in /home/thibaud/intel/oneapi/intelpython/envs/tensorflow/lib/python3.9/site-packages (from trio~=0.17->selenium==4.18.1) (1.3.0.post0)\n",
      "Requirement already satisfied: sniffio>=1.3.0 in /home/thibaud/intel/oneapi/intelpython/envs/tensorflow/lib/python3.9/site-packages (from trio~=0.17->selenium==4.18.1) (1.3.1)\n",
      "Requirement already satisfied: exceptiongroup in /home/thibaud/intel/oneapi/intelpython/envs/tensorflow/lib/python3.9/site-packages (from trio~=0.17->selenium==4.18.1) (1.2.0)\n",
      "Requirement already satisfied: wsproto>=0.14 in /home/thibaud/intel/oneapi/intelpython/envs/tensorflow/lib/python3.9/site-packages (from trio-websocket~=0.9->selenium==4.18.1) (1.2.0)\n",
      "Requirement already satisfied: pysocks!=1.5.7,<2.0,>=1.5.6 in /home/thibaud/intel/oneapi/intelpython/envs/tensorflow/lib/python3.9/site-packages (from urllib3[socks]<3,>=1.26->selenium==4.18.1) (1.7.1)\n",
      "Requirement already satisfied: charset-normalizer<4,>=2 in /home/thibaud/intel/oneapi/intelpython/envs/tensorflow/lib/python3.9/site-packages (from requests->webdriver_manager) (3.3.0)\n",
      "Requirement already satisfied: h11<1,>=0.9.0 in /home/thibaud/intel/oneapi/intelpython/envs/tensorflow/lib/python3.9/site-packages (from wsproto>=0.14->trio-websocket~=0.9->selenium==4.18.1) (0.14.0)\n",
      "Downloading webdriver_manager-4.0.1-py2.py3-none-any.whl (27 kB)\n",
      "Downloading python_dotenv-1.0.1-py3-none-any.whl (19 kB)\n",
      "Installing collected packages: python-dotenv, webdriver_manager\n",
      "Successfully installed python-dotenv-1.0.1 webdriver_manager-4.0.1\n"
     ]
    }
   ],
   "source": [
    "!pip install selenium==4.18.1 webdriver_manager\n"
   ]
  },
  {
   "cell_type": "code",
   "execution_count": 2,
   "metadata": {},
   "outputs": [
    {
     "data": {
      "text/html": [
       "<div>\n",
       "<style scoped>\n",
       "    .dataframe tbody tr th:only-of-type {\n",
       "        vertical-align: middle;\n",
       "    }\n",
       "\n",
       "    .dataframe tbody tr th {\n",
       "        vertical-align: top;\n",
       "    }\n",
       "\n",
       "    .dataframe thead th {\n",
       "        text-align: right;\n",
       "    }\n",
       "</style>\n",
       "<table border=\"1\" class=\"dataframe\">\n",
       "  <thead>\n",
       "    <tr style=\"text-align: right;\">\n",
       "      <th></th>\n",
       "      <th>Unnamed: 0</th>\n",
       "      <th>designation</th>\n",
       "      <th>description</th>\n",
       "      <th>productid</th>\n",
       "      <th>imageid</th>\n",
       "      <th>language</th>\n",
       "      <th>designation_translated</th>\n",
       "      <th>description_translated</th>\n",
       "      <th>prdtypecode</th>\n",
       "      <th>prdtypedesignation</th>\n",
       "      <th>prdtypefull</th>\n",
       "      <th>prdtypeindex</th>\n",
       "    </tr>\n",
       "  </thead>\n",
       "  <tbody>\n",
       "    <tr>\n",
       "      <th>0</th>\n",
       "      <td>0</td>\n",
       "      <td>Porte Bébé Violet Et Rouge Trois-En-Un Mère Multifonctions Kangourou Fermeture À Glissière Hoodie Taille: Xl Poitrine: 104-109 Cm 84-88 Cm Hanche: 110-116 Cm Clair +</td>\n",
       "      <td>Porte bébé Violet et rouge Trois-en-un mère multifonctions Kangourou fermeture à glissière Hoodie Taille: XL Poitrine: 104-109 cm 84-88 cm Hanche: 110-116 cm clair + 1. Marque nouvelle et de haute qualité. 2. Détachable conception pratique et attentionnée. 3. Parfait pour les mères qui allaitent. 4. Anti-vent chaud et style kangourou multifonctionnel haut de gamme. 5. Sac de couchage multifonction amovible de la mère européenne. Spécification: Les types Fermez Buste104-109cm Encolure Sweat à capuche Les hanches110-116cm Tailles disponiblesXLMatériel Coton</td>\n",
       "      <td>3050424970</td>\n",
       "      <td>1187504001</td>\n",
       "      <td>fr</td>\n",
       "      <td>Porte Bébé Violet Et Rouge Trois-En-Un Mère Multifonctions Kangourou Fermeture À Glissière Hoodie Taille: Xl Poitrine: 104-109 Cm 84-88 Cm Hanche: 110-116 Cm Clair +</td>\n",
       "      <td>Porte bébé Violet et rouge Trois-en-un mère multifonctions Kangourou fermeture à glissière Hoodie Taille: XL Poitrine: 104-109 cm 84-88 cm Hanche: 110-116 cm clair + 1. Marque nouvelle et de haute qualité. 2. Détachable conception pratique et attentionnée. 3. Parfait pour les mères qui allaitent. 4. Anti-vent chaud et style kangourou multifonctionnel haut de gamme. 5. Sac de couchage multifonction amovible de la mère européenne. Spécification: Les types Fermez Buste104-109cm Encolure Sweat à capuche Les hanches110-116cm Tailles disponiblesXLMatériel Coton</td>\n",
       "      <td>1320</td>\n",
       "      <td>Puériculture</td>\n",
       "      <td>1320 - Puériculture</td>\n",
       "      <td>9</td>\n",
       "    </tr>\n",
       "    <tr>\n",
       "      <th>1</th>\n",
       "      <td>1</td>\n",
       "      <td>Jesus - Cahiers Du Libre Avenir</td>\n",
       "      <td>Prêtre autrement.</td>\n",
       "      <td>131641431</td>\n",
       "      <td>885888766</td>\n",
       "      <td>fr</td>\n",
       "      <td>Jesus - Cahiers Du Libre Avenir</td>\n",
       "      <td>Prêtre autrement.</td>\n",
       "      <td>10</td>\n",
       "      <td>Livres occasion</td>\n",
       "      <td>10 - Livres occasion</td>\n",
       "      <td>0</td>\n",
       "    </tr>\n",
       "    <tr>\n",
       "      <th>2</th>\n",
       "      <td>2</td>\n",
       "      <td>Chambre Paillasson En Forme De Coeur Tapis Fluffy Tapis Chenille Coussin Jaune Kitchen Supplies 291</td>\n",
       "      <td>Chambre Paillasson en forme de coeur Tapis Tapis Coussin Fluffy Chenille Feature: 100% qualité de la marque nouvelle et haute. Quantité: 1 Designer et matériaux de haute qualité Matériaux: Corail Taille polaire: 40 * 50cm Contenu: 1 x Bedroom Paillasson en forme de coeur Tapis Fluffy Tapis Chenille Coussin</td>\n",
       "      <td>4197486437</td>\n",
       "      <td>1313030973</td>\n",
       "      <td>fr</td>\n",
       "      <td>Chambre Paillasson En Forme De Coeur Tapis Fluffy Tapis Chenille Coussin Jaune Kitchen Supplies 291</td>\n",
       "      <td>Chambre Paillasson en forme de coeur Tapis Tapis Coussin Fluffy Chenille Feature: 100% qualité de la marque nouvelle et haute. Quantité: 1 Designer et matériaux de haute qualité Matériaux: Corail Taille polaire: 40 * 50cm Contenu: 1 x Bedroom Paillasson en forme de coeur Tapis Fluffy Tapis Chenille Coussin</td>\n",
       "      <td>1560</td>\n",
       "      <td>Mobilier</td>\n",
       "      <td>1560 - Mobilier</td>\n",
       "      <td>10</td>\n",
       "    </tr>\n",
       "    <tr>\n",
       "      <th>3</th>\n",
       "      <td>3</td>\n",
       "      <td>2pcs En Alliage D'aluminium Portail Du Carter D'entraînement Avant Intérieur Pour Traxxas Trx-4 1/10 Rc</td>\n",
       "      <td>2pcs en alliage d'aluminium Portail du carter d'entraînement intérieur avant TRAXXAS TRX4 1/10 RC Feature: la marque 100% nouvelle de haute qualité Ce hub de direction en alliage d'aluminium de haute qualité mise à niveau de montage set spécialement conçu pour TRX4 1/10 voiture RC. apparence originale et l'exécution exquise remplacer directement TRX4 8252 avant plactis intérieure Portail du carter d'entraînement avec les paliers il protégera les arbres et faire tourner la direction plus efficace. Facile à installer et durable dans l'utilisation légère mise à jour améliore instantanément la performance globale dans la manipulation et la durabilité Fabriqué en alliage d'aluminium conçu pour réparer ou remplacer centre ancien ou cassé montage comprennent Emballage: 2 x Hub directeur</td>\n",
       "      <td>3929174950</td>\n",
       "      <td>1265009801</td>\n",
       "      <td>fr</td>\n",
       "      <td>2pcs En Alliage D'aluminium Portail Du Carter D'entraînement Avant Intérieur Pour Traxxas Trx-4 1/10 Rc</td>\n",
       "      <td>2pcs en alliage d'aluminium Portail du carter d'entraînement intérieur avant TRAXXAS TRX4 1/10 RC Feature: la marque 100% nouvelle de haute qualité Ce hub de direction en alliage d'aluminium de haute qualité mise à niveau de montage set spécialement conçu pour TRX4 1/10 voiture RC. apparence originale et l'exécution exquise remplacer directement TRX4 8252 avant plactis intérieure Portail du carter d'entraînement avec les paliers il protégera les arbres et faire tourner la direction plus efficace. Facile à installer et durable dans l'utilisation légère mise à jour améliore instantanément la performance globale dans la manipulation et la durabilité Fabriqué en alliage d'aluminium conçu pour réparer ou remplacer centre ancien ou cassé montage comprennent Emballage: 2 x Hub directeur</td>\n",
       "      <td>1280</td>\n",
       "      <td>Jouets enfants</td>\n",
       "      <td>1280 - Jouets enfants</td>\n",
       "      <td>4</td>\n",
       "    </tr>\n",
       "    <tr>\n",
       "      <th>4</th>\n",
       "      <td>4</td>\n",
       "      <td>Harnais Chien Arnais Noir Anti Traction Gilet Réglable Pour Animal Domestique Chien Magideal</td>\n",
       "      <td>La description:  Fait de matériau souple doux confortable sans danger pour les animaux domestiques.   avec la boucle de conception spéciale pas facilement pour que l'animal se casse.   Avec pratique pratique autocollant durable facile à utiliser.   Mode cool. Idéal pour les vêtements de plein air pour chiens de compagnie.   Ils sont respirants pour que votre animal de compagnie reste confortable tout au long de sa promenade.  spécification:  Matériel; Peluche + autocollant   Taille S: Circus Poitrine: Approx.42cm / 16.54inch   Taille M: Circularité de la poitrine: Approx.50cm / 19.69inch   Taille L: Circus Poitrine: Environ 58cm / 22.83inch  Le forfait comprend:  Harnais pour chien 1 pièce  Remarque:  En raison de la différence de luminosité et de réglage de l'écran la couleur de l'élément peut être légèrement différente de celle des images.   Veuillez permettre une légère différence de dimension en raison de différentes mesures manuelles.</td>\n",
       "      <td>4183293159</td>\n",
       "      <td>1313455838</td>\n",
       "      <td>fr</td>\n",
       "      <td>Harnais Chien Arnais Noir Anti Traction Gilet Réglable Pour Animal Domestique Chien Magideal</td>\n",
       "      <td>La description:  Fait de matériau souple doux confortable sans danger pour les animaux domestiques.   avec la boucle de conception spéciale pas facilement pour que l'animal se casse.   Avec pratique pratique autocollant durable facile à utiliser.   Mode cool. Idéal pour les vêtements de plein air pour chiens de compagnie.   Ils sont respirants pour que votre animal de compagnie reste confortable tout au long de sa promenade.  spécification:  Matériel; Peluche + autocollant   Taille S: Circus Poitrine: Approx.42cm / 16.54inch   Taille M: Circularité de la poitrine: Approx.50cm / 19.69inch   Taille L: Circus Poitrine: Environ 58cm / 22.83inch  Le forfait comprend:  Harnais pour chien 1 pièce  Remarque:  En raison de la différence de luminosité et de réglage de l'écran la couleur de l'élément peut être légèrement différente de celle des images.   Veuillez permettre une légère différence de dimension en raison de différentes mesures manuelles.</td>\n",
       "      <td>2220</td>\n",
       "      <td>Animalerie</td>\n",
       "      <td>2220 - Animalerie</td>\n",
       "      <td>14</td>\n",
       "    </tr>\n",
       "  </tbody>\n",
       "</table>\n",
       "</div>"
      ],
      "text/plain": [
       "   Unnamed: 0  \\\n",
       "0           0   \n",
       "1           1   \n",
       "2           2   \n",
       "3           3   \n",
       "4           4   \n",
       "\n",
       "                                                                                                                                                             designation  \\\n",
       "0  Porte Bébé Violet Et Rouge Trois-En-Un Mère Multifonctions Kangourou Fermeture À Glissière Hoodie Taille: Xl Poitrine: 104-109 Cm 84-88 Cm Hanche: 110-116 Cm Clair +   \n",
       "1                                                                                                                                        Jesus - Cahiers Du Libre Avenir   \n",
       "2                                                                    Chambre Paillasson En Forme De Coeur Tapis Fluffy Tapis Chenille Coussin Jaune Kitchen Supplies 291   \n",
       "3                                                                2pcs En Alliage D'aluminium Portail Du Carter D'entraînement Avant Intérieur Pour Traxxas Trx-4 1/10 Rc   \n",
       "4                                                                           Harnais Chien Arnais Noir Anti Traction Gilet Réglable Pour Animal Domestique Chien Magideal   \n",
       "\n",
       "                                                                                                                                                                                                                                                                                                                                                                                                                                                                                                                                                                                                                                                                                                                                                                                                                                                                                                                                                                                  description  \\\n",
       "0                                                                                                                                                                                                                                                                                                                                                                                                           Porte bébé Violet et rouge Trois-en-un mère multifonctions Kangourou fermeture à glissière Hoodie Taille: XL Poitrine: 104-109 cm 84-88 cm Hanche: 110-116 cm clair + 1. Marque nouvelle et de haute qualité. 2. Détachable conception pratique et attentionnée. 3. Parfait pour les mères qui allaitent. 4. Anti-vent chaud et style kangourou multifonctionnel haut de gamme. 5. Sac de couchage multifonction amovible de la mère européenne. Spécification: Les types Fermez Buste104-109cm Encolure Sweat à capuche Les hanches110-116cm Tailles disponiblesXLMatériel Coton   \n",
       "1                                                                                                                                                                                                                                                                                                                                                                                                                                                                                                                                                                                                                                                                                                                                                                                                                                                                                                                                                                           Prêtre autrement.   \n",
       "2                                                                                                                                                                                                                                                                                                                                                                                                                                                                                                                                                                                                                                                                         Chambre Paillasson en forme de coeur Tapis Tapis Coussin Fluffy Chenille Feature: 100% qualité de la marque nouvelle et haute. Quantité: 1 Designer et matériaux de haute qualité Matériaux: Corail Taille polaire: 40 * 50cm Contenu: 1 x Bedroom Paillasson en forme de coeur Tapis Fluffy Tapis Chenille Coussin   \n",
       "3                                                                                                                                                                      2pcs en alliage d'aluminium Portail du carter d'entraînement intérieur avant TRAXXAS TRX4 1/10 RC Feature: la marque 100% nouvelle de haute qualité Ce hub de direction en alliage d'aluminium de haute qualité mise à niveau de montage set spécialement conçu pour TRX4 1/10 voiture RC. apparence originale et l'exécution exquise remplacer directement TRX4 8252 avant plactis intérieure Portail du carter d'entraînement avec les paliers il protégera les arbres et faire tourner la direction plus efficace. Facile à installer et durable dans l'utilisation légère mise à jour améliore instantanément la performance globale dans la manipulation et la durabilité Fabriqué en alliage d'aluminium conçu pour réparer ou remplacer centre ancien ou cassé montage comprennent Emballage: 2 x Hub directeur   \n",
       "4  La description:  Fait de matériau souple doux confortable sans danger pour les animaux domestiques.   avec la boucle de conception spéciale pas facilement pour que l'animal se casse.   Avec pratique pratique autocollant durable facile à utiliser.   Mode cool. Idéal pour les vêtements de plein air pour chiens de compagnie.   Ils sont respirants pour que votre animal de compagnie reste confortable tout au long de sa promenade.  spécification:  Matériel; Peluche + autocollant   Taille S: Circus Poitrine: Approx.42cm / 16.54inch   Taille M: Circularité de la poitrine: Approx.50cm / 19.69inch   Taille L: Circus Poitrine: Environ 58cm / 22.83inch  Le forfait comprend:  Harnais pour chien 1 pièce  Remarque:  En raison de la différence de luminosité et de réglage de l'écran la couleur de l'élément peut être légèrement différente de celle des images.   Veuillez permettre une légère différence de dimension en raison de différentes mesures manuelles.    \n",
       "\n",
       "    productid     imageid language  \\\n",
       "0  3050424970  1187504001       fr   \n",
       "1   131641431   885888766       fr   \n",
       "2  4197486437  1313030973       fr   \n",
       "3  3929174950  1265009801       fr   \n",
       "4  4183293159  1313455838       fr   \n",
       "\n",
       "                                                                                                                                                  designation_translated  \\\n",
       "0  Porte Bébé Violet Et Rouge Trois-En-Un Mère Multifonctions Kangourou Fermeture À Glissière Hoodie Taille: Xl Poitrine: 104-109 Cm 84-88 Cm Hanche: 110-116 Cm Clair +   \n",
       "1                                                                                                                                        Jesus - Cahiers Du Libre Avenir   \n",
       "2                                                                    Chambre Paillasson En Forme De Coeur Tapis Fluffy Tapis Chenille Coussin Jaune Kitchen Supplies 291   \n",
       "3                                                                2pcs En Alliage D'aluminium Portail Du Carter D'entraînement Avant Intérieur Pour Traxxas Trx-4 1/10 Rc   \n",
       "4                                                                           Harnais Chien Arnais Noir Anti Traction Gilet Réglable Pour Animal Domestique Chien Magideal   \n",
       "\n",
       "                                                                                                                                                                                                                                                                                                                                                                                                                                                                                                                                                                                                                                                                                                                                                                                                                                                                                                                                                                       description_translated  \\\n",
       "0                                                                                                                                                                                                                                                                                                                                                                                                           Porte bébé Violet et rouge Trois-en-un mère multifonctions Kangourou fermeture à glissière Hoodie Taille: XL Poitrine: 104-109 cm 84-88 cm Hanche: 110-116 cm clair + 1. Marque nouvelle et de haute qualité. 2. Détachable conception pratique et attentionnée. 3. Parfait pour les mères qui allaitent. 4. Anti-vent chaud et style kangourou multifonctionnel haut de gamme. 5. Sac de couchage multifonction amovible de la mère européenne. Spécification: Les types Fermez Buste104-109cm Encolure Sweat à capuche Les hanches110-116cm Tailles disponiblesXLMatériel Coton   \n",
       "1                                                                                                                                                                                                                                                                                                                                                                                                                                                                                                                                                                                                                                                                                                                                                                                                                                                                                                                                                                           Prêtre autrement.   \n",
       "2                                                                                                                                                                                                                                                                                                                                                                                                                                                                                                                                                                                                                                                                         Chambre Paillasson en forme de coeur Tapis Tapis Coussin Fluffy Chenille Feature: 100% qualité de la marque nouvelle et haute. Quantité: 1 Designer et matériaux de haute qualité Matériaux: Corail Taille polaire: 40 * 50cm Contenu: 1 x Bedroom Paillasson en forme de coeur Tapis Fluffy Tapis Chenille Coussin   \n",
       "3                                                                                                                                                                      2pcs en alliage d'aluminium Portail du carter d'entraînement intérieur avant TRAXXAS TRX4 1/10 RC Feature: la marque 100% nouvelle de haute qualité Ce hub de direction en alliage d'aluminium de haute qualité mise à niveau de montage set spécialement conçu pour TRX4 1/10 voiture RC. apparence originale et l'exécution exquise remplacer directement TRX4 8252 avant plactis intérieure Portail du carter d'entraînement avec les paliers il protégera les arbres et faire tourner la direction plus efficace. Facile à installer et durable dans l'utilisation légère mise à jour améliore instantanément la performance globale dans la manipulation et la durabilité Fabriqué en alliage d'aluminium conçu pour réparer ou remplacer centre ancien ou cassé montage comprennent Emballage: 2 x Hub directeur   \n",
       "4  La description:  Fait de matériau souple doux confortable sans danger pour les animaux domestiques.   avec la boucle de conception spéciale pas facilement pour que l'animal se casse.   Avec pratique pratique autocollant durable facile à utiliser.   Mode cool. Idéal pour les vêtements de plein air pour chiens de compagnie.   Ils sont respirants pour que votre animal de compagnie reste confortable tout au long de sa promenade.  spécification:  Matériel; Peluche + autocollant   Taille S: Circus Poitrine: Approx.42cm / 16.54inch   Taille M: Circularité de la poitrine: Approx.50cm / 19.69inch   Taille L: Circus Poitrine: Environ 58cm / 22.83inch  Le forfait comprend:  Harnais pour chien 1 pièce  Remarque:  En raison de la différence de luminosité et de réglage de l'écran la couleur de l'élément peut être légèrement différente de celle des images.   Veuillez permettre une légère différence de dimension en raison de différentes mesures manuelles.    \n",
       "\n",
       "   prdtypecode prdtypedesignation            prdtypefull  prdtypeindex  \n",
       "0         1320       Puériculture    1320 - Puériculture             9  \n",
       "1           10    Livres occasion   10 - Livres occasion             0  \n",
       "2         1560           Mobilier        1560 - Mobilier            10  \n",
       "3         1280     Jouets enfants  1280 - Jouets enfants             4  \n",
       "4         2220         Animalerie      2220 - Animalerie            14  "
      ]
     },
     "execution_count": 2,
     "metadata": {},
     "output_type": "execute_result"
    }
   ],
   "source": [
    "import pandas as pd\n",
    "pd.set_option('display.max_colwidth',2000)\n",
    "df = pd.read_csv('../../data/clean/df_train_index.csv')\n",
    "df.head()"
   ]
  },
  {
   "cell_type": "code",
   "execution_count": null,
   "metadata": {},
   "outputs": [],
   "source": []
  }
 ],
 "metadata": {
  "kernelspec": {
   "display_name": "tensorflow",
   "language": "python",
   "name": "python3"
  },
  "language_info": {
   "codemirror_mode": {
    "name": "ipython",
    "version": 3
   },
   "file_extension": ".py",
   "mimetype": "text/x-python",
   "name": "python",
   "nbconvert_exporter": "python",
   "pygments_lexer": "ipython3",
   "version": "3.9.18"
  }
 },
 "nbformat": 4,
 "nbformat_minor": 2
}
