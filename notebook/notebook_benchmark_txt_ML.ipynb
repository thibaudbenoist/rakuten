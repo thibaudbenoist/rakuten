{
 "cells": [
  {
   "cell_type": "markdown",
   "metadata": {},
   "source": [
    "## Import librairies"
   ]
  },
  {
   "cell_type": "code",
   "execution_count": null,
   "metadata": {},
   "outputs": [],
   "source": [
    "import os\n",
    "import sys\n",
    "\n",
    "#Import config file. Update config.py according to your environment\n",
    "import config\n",
    "\n",
    "import pandas as pd\n",
    "import numpy as np\n",
    "\n",
    "from Rakuten_preprocessing import Rakuten_img_path\n",
    "\n",
    "from src.text.classifiers import MLClassifier\n",
    "\n",
    "from src.utils.batch import fit_save_all\n",
    "from src.utils.load import load_batch_results\n",
    "\n",
    "import multiprocessing\n",
    "num_cores = multiprocessing.cpu_count()"
   ]
  },
  {
   "cell_type": "markdown",
   "metadata": {},
   "source": [
    "## Import the pre-processed data"
   ]
  },
  {
   "cell_type": "code",
   "execution_count": 2,
   "metadata": {},
   "outputs": [],
   "source": [
    "data_train = pd.read_csv(os.path.join(config.path_to_data, 'df_train_index.csv'))\n",
    "data_train['testset'] = False\n",
    "data_test = pd.read_csv(os.path.join(config.path_to_data, 'df_test_index.csv'))\n",
    "data_test['testset'] = True\n",
    "data = pd.concat([data_train, data_test], axis=0)\n",
    "\n",
    "#merging text into token column\n",
    "colnames = ['designation_translated', 'description_translated'] #['designation', 'description']#\n",
    "data['tokens'] = data[colnames].apply(lambda row: ' '.join(s.lower() for s in row if isinstance(s, str)), axis=1)\n",
    "\n",
    "#path to images into img_path column\n",
    "data['img_path'] = Rakuten_img_path(img_folder=config.path_to_images,\n",
    "                             imageid=data['imageid'], productid=data['productid'], suffix='_resized')"
   ]
  },
  {
   "cell_type": "code",
   "execution_count": 3,
   "metadata": {},
   "outputs": [],
   "source": [
    "#labels of encoded classes\n",
    "class_labels = data.groupby('prdtypedesignation')['prdtypeindex'].first().reset_index()\n",
    "class_labels.index = class_labels['prdtypeindex']\n",
    "class_labels = class_labels.drop(columns='prdtypeindex').sort_index()"
   ]
  },
  {
   "cell_type": "markdown",
   "metadata": {},
   "source": [
    "## Creating train and test sets"
   ]
  },
  {
   "cell_type": "code",
   "execution_count": 4,
   "metadata": {},
   "outputs": [],
   "source": [
    "Img_train = data.loc[~data['testset'], 'img_path']\n",
    "Img_test = data.loc[data['testset'], 'img_path']\n",
    "\n",
    "Txt_train = data.loc[~data['testset'], 'tokens']\n",
    "Txt_test = data.loc[data['testset'], 'tokens']\n",
    "\n",
    "y_train = data.loc[~data['testset'],'prdtypeindex']\n",
    "y_test = data.loc[data['testset'],'prdtypeindex']\n",
    "\n",
    "#To be fed into any of our sklearn classifiers, X_train and X_test\n",
    "#should be dataframes with columns tokens and img_path\n",
    "X_train = pd.DataFrame({'tokens': Txt_train, 'img_path': Img_train})\n",
    "X_test = pd.DataFrame({'tokens': Txt_test, 'img_path': Img_test})\n",
    "\n",
    "#All data for cross-validated scores\n",
    "X = pd.concat([X_train, X_test], axis=0)\n",
    "y = pd.concat([y_train, y_test], axis=0)\n",
    "\n",
    "#Number of classes\n",
    "num_classes = len(np.unique(data['prdtypeindex']))"
   ]
  },
  {
   "cell_type": "markdown",
   "metadata": {},
   "source": [
    "## Example usage: how to train of MLClassifier"
   ]
  },
  {
   "cell_type": "code",
   "execution_count": null,
   "metadata": {},
   "outputs": [],
   "source": [
    "#training SVC on skipgram\n",
    "svc_w2v_classifier = MLClassifier(base_name='SVC', C=10, kernel='rbf', vec_method = 'skipgram', vec_params={'workers': num_cores-1, 'vector_size': 512})\n",
    "svc_w2v_classifier.fit(X_train, y_train);\n",
    "svc_w2v_classifier.classification_score(X_test, y_test)\n",
    "svc_w2v_classifier.cross_validate(X, y, cv=10)\n",
    "svc_w2v_classifier.save('text/my_SVC_skipgram')"
   ]
  },
  {
   "cell_type": "markdown",
   "metadata": {},
   "source": [
    "## Bag of word based benchmarks"
   ]
  },
  {
   "cell_type": "code",
   "execution_count": null,
   "metadata": {},
   "outputs": [],
   "source": [
    "#Name of the summary csv file to save results to\n",
    "result_file_name = 'results_benchmark_text.csv'\n",
    "\n",
    "#Type of classifier\n",
    "class_type = 'MLClassifier'\n",
    "\n",
    "#grid search number of folds\n",
    "nfolds_grid = 0\n",
    "\n",
    "#cross-validation of f1-score\n",
    "nfolds_cv = 0\n",
    "\n",
    "#Bag of word parameters\n",
    "vec_method = 'tfidf'\n",
    "\n",
    "#Initializing the list of parameters to batch over\n",
    "params_list = []\n",
    "\n",
    "params_list.append({'modality': 'text',\n",
    "                    'class': class_type,\n",
    "                    'base_name': 'LogisticRegression', \n",
    "                    'vec_method': vec_method, \n",
    "                    'param_grid': {'C': [2], 'penalty': ['l2']},\n",
    "                    'nfolds_grid': nfolds_grid, 'nfolds_cv': nfolds_cv\n",
    "                   })\n",
    "params_list.append({'modality': 'text',\n",
    "                    'class': class_type,\n",
    "                    'base_name': 'MultinomialNB', \n",
    "                    'vec_method': vec_method, \n",
    "                    'param_grid': {'alpha': [0.02], 'fit_prior': [True]},\n",
    "                    'nfolds_grid': nfolds_grid, 'nfolds_cv': nfolds_cv\n",
    "                    })\n",
    "params_list.append({'modality': 'text',\n",
    "                    'class': class_type,\n",
    "                    'base_name': 'RandomForestClassifier', \n",
    "                    'vec_method': vec_method, \n",
    "                    'param_grid': {'n_estimators': [200], 'max_depth': [500]},\n",
    "                    'nfolds_grid': nfolds_grid, 'nfolds_cv': nfolds_cv\n",
    "                    })\n",
    "params_list.append({'modality': 'text',\n",
    "                    'class': class_type,\n",
    "                    'base_name': 'xgboost', \n",
    "                    'vec_method': vec_method, \n",
    "                    'param_grid': {'n_estimators': [200], 'objective': ['multi:softprob'], 'max_depth':[6], 'reg_alpha':[0]},\n",
    "                    'nfolds_grid': nfolds_grid, 'nfolds_cv': nfolds_cv\n",
    "                    })\n",
    "params_list.append({'modality': 'text',\n",
    "                    'class': class_type,\n",
    "                    'base_name': 'LinearSVC', \n",
    "                    'vec_method': vec_method, \n",
    "                    'param_grid': {'C': np.arange(0.5, 1.5, 0.1), 'penalty': ['l2']},\n",
    "                    'nfolds_grid': 5, 'nfolds_cv': 10\n",
    "                    })\n",
    "\n",
    "results = fit_save_all(params_list, X_train=X_train, y_train=y_train, X_test=X_test, y_test=y_test, result_file_name = result_file_name)\n"
   ]
  },
  {
   "cell_type": "markdown",
   "metadata": {},
   "source": [
    "## Word2vec based benchmarks"
   ]
  },
  {
   "cell_type": "code",
   "execution_count": null,
   "metadata": {},
   "outputs": [],
   "source": [
    "#Name of the summary csv file to save results to\n",
    "result_file_name = 'results_benchmark_text.csv'\n",
    "\n",
    "params_list = []\n",
    "class_type = 'MLClassifier'\n",
    "\n",
    "#grid search number of folds\n",
    "nfolds_grid = 0\n",
    "\n",
    "#cross-validation of f1-score\n",
    "nfolds_cv = 0\n",
    "\n",
    "#Word2vec parameters\n",
    "vec_method = 'skipgram'\n",
    "vector_size = 500\n",
    "\n",
    "#List of parameters to batch over\n",
    "params_list.append({'modality': 'text',\n",
    "                    'class': class_type, \n",
    "                    'base_name': 'LogisticRegression',\n",
    "                    'vec_method': vec_method,\n",
    "                    'param_grid': {'C': [10], 'penalty': 'l2',\n",
    "                                   'vec_params':[{'workers': num_cores-1, 'vector_size': vector_size}]},\n",
    "                    'nfolds_grid': nfolds_grid, 'nfolds_cv': nfolds_cv                    \n",
    "                    })\n",
    "params_list.append({'modality': 'text',\n",
    "                    'class': class_type,\n",
    "                    'base_name': 'RandomForestClassifier', \n",
    "                    'vec_method': vec_method, \n",
    "                    'param_grid': {'n_estimators': [200], 'max_depth': [500],\n",
    "                                   'vec_params':[{'workers': num_cores-1, 'vector_size': vector_size}]},\n",
    "                    'nfolds_grid': nfolds_grid, 'nfolds_cv': nfolds_cv\n",
    "                    })\n",
    "params_list.append({'modality': 'text',\n",
    "                    'class': class_type,\n",
    "                    'base_name': 'xgboost', \n",
    "                    'vec_method': vec_method, \n",
    "                    'param_grid': {'n_estimators': [200], 'objective': ['multi:softprob'], 'max_depth':[6], 'reg_alpha':[0],\n",
    "                                   'vec_params':[{'workers': num_cores-1, 'vector_size': vector_size}]},\n",
    "                    'nfolds_grid': nfolds_grid, 'nfolds_cv': nfolds_cv\n",
    "                    })\n",
    "params_list.append({'modality': 'text',\n",
    "                    'class': class_type, \n",
    "                    'base_name': 'SVC',\n",
    "                    'vec_method': vec_method,\n",
    "                    'param_grid': {'C': [10], 'kernel': ['rbf'],\n",
    "                                   'vec_params':[{'workers': num_cores-1, 'vector_size': vector_size}]},\n",
    "                    'nfolds_grid': nfolds_grid, 'nfolds_cv': nfolds_cv\n",
    "                    })\n",
    "\n",
    "results = fit_save_all(params_list, X_train=X_train, y_train=y_train, X_test=X_test, y_test=y_test, result_file_name = 'results_benchmark_text.csv')"
   ]
  },
  {
   "cell_type": "markdown",
   "metadata": {},
   "source": [
    "## Fetch and check the saved result file"
   ]
  },
  {
   "cell_type": "code",
   "execution_count": null,
   "metadata": {},
   "outputs": [],
   "source": [
    "df_results = load_batch_results('results_benchmark_text')\n",
    "display(df_results)"
   ]
  }
 ],
 "metadata": {
  "kernelspec": {
   "display_name": "Rakuten",
   "language": "python",
   "name": "python3"
  },
  "language_info": {
   "codemirror_mode": {
    "name": "ipython",
    "version": 3
   },
   "file_extension": ".py",
   "mimetype": "text/x-python",
   "name": "python",
   "nbconvert_exporter": "python",
   "pygments_lexer": "ipython3",
   "version": "3.11.7"
  }
 },
 "nbformat": 4,
 "nbformat_minor": 2
}
